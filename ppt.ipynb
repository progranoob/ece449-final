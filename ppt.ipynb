{
 "cells": [
  {
   "cell_type": "code",
   "execution_count": 12,
   "metadata": {
    "code_folding": [
     40,
     68,
     82,
     95,
     106,
     133,
     148
    ]
   },
   "outputs": [
    {
     "name": "stdout",
     "output_type": "stream",
     "text": [
      "True\n",
      "<class 'list'>\n",
      "[3 3 4 ... 0 1 5]\n",
      "Train: 45000 Val: 5000\n",
      "trainset 45000\n",
      "==> creating preact_resnet\n",
      "Total params: 0.47M\n",
      "Epoch 0 Current LR 0.06\n",
      "% y_tilde equal to noisy label 1.0\n",
      "% y_tilde equal to true label 0.95\n",
      "Train acc 0.334, Train auroc 0.801\n",
      "Val acc 0.439, Val auroc 0.873\n",
      "Epoch 1 Current LR 0.06\n",
      "% y_tilde equal to noisy label 1.0\n",
      "% y_tilde equal to true label 0.95\n",
      "Train acc 0.498, Train auroc 0.885\n",
      "Val acc 0.536, Val auroc 0.908\n",
      "Epoch 2 Current LR 0.06\n",
      "% y_tilde equal to noisy label 1.0\n",
      "% y_tilde equal to true label 0.95\n",
      "Train acc 0.591, Train auroc 0.921\n",
      "Val acc 0.556, Val auroc 0.922\n",
      "Epoch 3 Current LR 0.06\n",
      "% y_tilde equal to noisy label 1.0\n",
      "% y_tilde equal to true label 0.95\n",
      "Train acc 0.645, Train auroc 0.939\n",
      "Val acc 0.622, Val auroc 0.939\n",
      "Epoch 4 Current LR 0.06\n",
      "% y_tilde equal to noisy label 1.0\n",
      "% y_tilde equal to true label 0.95\n",
      "Train acc 0.687, Train auroc 0.951\n",
      "Val acc 0.703, Val auroc 0.957\n",
      "Epoch 5 Current LR 0.06\n",
      "% y_tilde equal to noisy label 1.0\n",
      "% y_tilde equal to true label 0.95\n",
      "Train acc 0.710, Train auroc 0.957\n",
      "Val acc 0.715, Val auroc 0.962\n",
      "Epoch 6 Current LR 0.06\n",
      "% y_tilde equal to noisy label 1.0\n",
      "% y_tilde equal to true label 0.95\n",
      "Train acc 0.725, Train auroc 0.961\n",
      "Val acc 0.629, Val auroc 0.956\n",
      "Epoch 7 Current LR 0.06\n",
      "% y_tilde equal to noisy label 1.0\n",
      "% y_tilde equal to true label 0.95\n",
      "Train acc 0.737, Train auroc 0.964\n",
      "Val acc 0.596, Val auroc 0.938\n",
      "Epoch 8 Current LR 0.06\n",
      "% y_tilde equal to noisy label 1.0\n",
      "% y_tilde equal to true label 0.95\n",
      "Train acc 0.743, Train auroc 0.965\n",
      "Val acc 0.720, Val auroc 0.966\n",
      "Epoch 9 Current LR 0.06\n",
      "% y_tilde equal to noisy label 1.0\n",
      "% y_tilde equal to true label 0.95\n",
      "Train acc 0.748, Train auroc 0.966\n",
      "Val acc 0.703, Val auroc 0.967\n",
      "Epoch 10 Current LR 0.06\n",
      "% y_tilde equal to noisy label 1.0\n",
      "% y_tilde equal to true label 0.95\n",
      "Train acc 0.753, Train auroc 0.968\n",
      "Val acc 0.711, Val auroc 0.961\n",
      "Epoch 11 Current LR 0.06\n",
      "% y_tilde equal to noisy label 1.0\n",
      "% y_tilde equal to true label 0.95\n",
      "Train acc 0.757, Train auroc 0.969\n",
      "Val acc 0.673, Val auroc 0.949\n",
      "Epoch 12 Current LR 0.06\n",
      "% y_tilde equal to noisy label 1.0\n",
      "% y_tilde equal to true label 0.95\n",
      "Train acc 0.759, Train auroc 0.969\n",
      "Val acc 0.693, Val auroc 0.968\n",
      "Epoch 13 Current LR 0.06\n",
      "% y_tilde equal to noisy label 1.0\n",
      "% y_tilde equal to true label 0.95\n",
      "Train acc 0.764, Train auroc 0.970\n",
      "Val acc 0.739, Val auroc 0.965\n",
      "Epoch 14 Current LR 0.06\n",
      "% y_tilde equal to noisy label 1.0\n",
      "% y_tilde equal to true label 0.95\n",
      "Train acc 0.769, Train auroc 0.971\n",
      "Val acc 0.691, Val auroc 0.961\n",
      "Epoch 15 Current LR 0.06\n",
      "% y_tilde equal to noisy label 1.0\n",
      "% y_tilde equal to true label 0.95\n",
      "Train acc 0.767, Train auroc 0.971\n",
      "Val acc 0.759, Val auroc 0.972\n",
      "Epoch 16 Current LR 0.06\n",
      "% y_tilde equal to noisy label 1.0\n",
      "% y_tilde equal to true label 0.95\n",
      "Train acc 0.770, Train auroc 0.972\n",
      "Val acc 0.741, Val auroc 0.967\n",
      "Epoch 17 Current LR 0.06\n",
      "% y_tilde equal to noisy label 1.0\n",
      "% y_tilde equal to true label 0.95\n",
      "Train acc 0.771, Train auroc 0.972\n",
      "Val acc 0.703, Val auroc 0.963\n",
      "Epoch 18 Current LR 0.06\n",
      "% y_tilde equal to noisy label 1.0\n",
      "% y_tilde equal to true label 0.95\n",
      "Train acc 0.774, Train auroc 0.972\n",
      "Val acc 0.735, Val auroc 0.967\n",
      "Epoch 19 Current LR 0.06\n",
      "% y_tilde equal to noisy label 1.0\n",
      "% y_tilde equal to true label 0.95\n",
      "Train acc 0.778, Train auroc 0.973\n",
      "Val acc 0.648, Val auroc 0.962\n",
      "Epoch 20 Current LR 0.06\n",
      "% y_tilde equal to noisy label 1.0\n",
      "% y_tilde equal to true label 0.95\n",
      "Train acc 0.775, Train auroc 0.973\n",
      "Val acc 0.719, Val auroc 0.966\n",
      "Epoch 21 Current LR 0.06\n",
      "% y_tilde equal to noisy label 1.0\n",
      "% y_tilde equal to true label 0.95\n",
      "Train acc 0.779, Train auroc 0.973\n",
      "Val acc 0.748, Val auroc 0.974\n",
      "Epoch 22 Current LR 0.06\n",
      "% y_tilde equal to noisy label 1.0\n",
      "% y_tilde equal to true label 0.95\n",
      "Train acc 0.779, Train auroc 0.974\n",
      "Val acc 0.746, Val auroc 0.971\n",
      "Epoch 23 Current LR 0.06\n",
      "% y_tilde equal to noisy label 1.0\n",
      "% y_tilde equal to true label 0.95\n",
      "Train acc 0.780, Train auroc 0.974\n",
      "Val acc 0.770, Val auroc 0.974\n",
      "Epoch 24 Current LR 0.06\n",
      "% y_tilde equal to noisy label 1.0\n",
      "% y_tilde equal to true label 0.95\n",
      "Train acc 0.779, Train auroc 0.974\n",
      "Val acc 0.721, Val auroc 0.967\n",
      "Epoch 25 Current LR 0.06\n",
      "% y_tilde equal to noisy label 1.0\n",
      "% y_tilde equal to true label 0.95\n",
      "Train acc 0.786, Train auroc 0.974\n",
      "Val acc 0.735, Val auroc 0.969\n",
      "Epoch 26 Current LR 0.06\n",
      "% y_tilde equal to noisy label 1.0\n",
      "% y_tilde equal to true label 0.95\n",
      "Train acc 0.783, Train auroc 0.974\n",
      "Val acc 0.731, Val auroc 0.972\n",
      "Epoch 27 Current LR 0.06\n",
      "% y_tilde equal to noisy label 1.0\n",
      "% y_tilde equal to true label 0.95\n",
      "Train acc 0.784, Train auroc 0.975\n",
      "Val acc 0.711, Val auroc 0.965\n",
      "Epoch 28 Current LR 0.06\n",
      "% y_tilde equal to noisy label 1.0\n",
      "% y_tilde equal to true label 0.95\n",
      "Train acc 0.789, Train auroc 0.975\n",
      "Val acc 0.741, Val auroc 0.970\n",
      "Epoch 29 Current LR 0.06\n",
      "% y_tilde equal to noisy label 1.0\n",
      "% y_tilde equal to true label 0.95\n",
      "Train acc 0.785, Train auroc 0.975\n",
      "Val acc 0.766, Val auroc 0.973\n",
      "Epoch 30 Current LR 0.06\n",
      "% y_tilde equal to noisy label 1.0\n",
      "% y_tilde equal to true label 0.95\n",
      "Train acc 0.786, Train auroc 0.975\n",
      "Val acc 0.720, Val auroc 0.971\n",
      "Epoch 31 Current LR 0.06\n",
      "% y_tilde equal to noisy label 1.0\n",
      "% y_tilde equal to true label 0.95\n",
      "Train acc 0.788, Train auroc 0.975\n",
      "Val acc 0.592, Val auroc 0.941\n",
      "Epoch 32 Current LR 0.06\n",
      "% y_tilde equal to noisy label 1.0\n",
      "% y_tilde equal to true label 0.95\n",
      "Train acc 0.789, Train auroc 0.976\n",
      "Val acc 0.728, Val auroc 0.972\n",
      "Epoch 33 Current LR 0.06\n",
      "% y_tilde equal to noisy label 1.0\n",
      "% y_tilde equal to true label 0.95\n",
      "Train acc 0.791, Train auroc 0.976\n",
      "Val acc 0.769, Val auroc 0.975\n",
      "Epoch 34 Current LR 0.06\n",
      "% y_tilde equal to noisy label 1.0\n",
      "% y_tilde equal to true label 0.95\n",
      "Train acc 0.790, Train auroc 0.975\n",
      "Val acc 0.740, Val auroc 0.971\n",
      "Epoch 35 Current LR 0.06\n",
      "% y_tilde equal to noisy label 1.0\n",
      "% y_tilde equal to true label 0.95\n",
      "Train acc 0.786, Train auroc 0.976\n",
      "Val acc 0.764, Val auroc 0.976\n",
      "Epoch 36 Current LR 0.06\n",
      "% y_tilde equal to noisy label 1.0\n",
      "% y_tilde equal to true label 0.95\n",
      "Train acc 0.790, Train auroc 0.976\n",
      "Val acc 0.779, Val auroc 0.978\n",
      "Epoch 37 Current LR 0.06\n",
      "% y_tilde equal to noisy label 1.0\n",
      "% y_tilde equal to true label 0.95\n",
      "Train acc 0.791, Train auroc 0.976\n",
      "Val acc 0.719, Val auroc 0.964\n",
      "Epoch 38 Current LR 0.06\n",
      "% y_tilde equal to noisy label 1.0\n",
      "% y_tilde equal to true label 0.95\n",
      "Train acc 0.792, Train auroc 0.976\n",
      "Val acc 0.703, Val auroc 0.961\n",
      "Epoch 39 Current LR 0.06\n",
      "% y_tilde equal to noisy label 1.0\n",
      "% y_tilde equal to true label 0.95\n",
      "Train acc 0.789, Train auroc 0.976\n",
      "Val acc 0.805, Val auroc 0.980\n",
      "Epoch 40 Current LR 0.06\n",
      "% y_tilde equal to noisy label 1.0\n",
      "% y_tilde equal to true label 0.95\n",
      "Train acc 0.793, Train auroc 0.977\n",
      "Val acc 0.756, Val auroc 0.970\n",
      "Epoch 41 Current LR 0.06\n",
      "% y_tilde equal to noisy label 1.0\n",
      "% y_tilde equal to true label 0.95\n",
      "Train acc 0.790, Train auroc 0.976\n",
      "Val acc 0.766, Val auroc 0.976\n",
      "Epoch 42 Current LR 0.06\n",
      "% y_tilde equal to noisy label 1.0\n",
      "% y_tilde equal to true label 0.95\n",
      "Train acc 0.793, Train auroc 0.977\n",
      "Val acc 0.761, Val auroc 0.976\n",
      "Epoch 43 Current LR 0.06\n",
      "% y_tilde equal to noisy label 1.0\n",
      "% y_tilde equal to true label 0.95\n",
      "Train acc 0.794, Train auroc 0.977\n",
      "Val acc 0.757, Val auroc 0.973\n",
      "Epoch 44 Current LR 0.06\n",
      "% y_tilde equal to noisy label 1.0\n",
      "% y_tilde equal to true label 0.95\n",
      "Train acc 0.794, Train auroc 0.976\n",
      "Val acc 0.719, Val auroc 0.965\n",
      "Epoch 45 Current LR 0.06\n",
      "% y_tilde equal to noisy label 1.0\n",
      "% y_tilde equal to true label 0.95\n",
      "Train acc 0.794, Train auroc 0.977\n",
      "Val acc 0.793, Val auroc 0.980\n",
      "Epoch 46 Current LR 0.06\n",
      "% y_tilde equal to noisy label 1.0\n",
      "% y_tilde equal to true label 0.95\n",
      "Train acc 0.791, Train auroc 0.976\n",
      "Val acc 0.790, Val auroc 0.979\n",
      "Epoch 47 Current LR 0.06\n",
      "% y_tilde equal to noisy label 1.0\n",
      "% y_tilde equal to true label 0.95\n",
      "Train acc 0.796, Train auroc 0.977\n",
      "Val acc 0.708, Val auroc 0.972\n",
      "Epoch 48 Current LR 0.06\n",
      "% y_tilde equal to noisy label 1.0\n",
      "% y_tilde equal to true label 0.95\n",
      "Train acc 0.796, Train auroc 0.977\n",
      "Val acc 0.785, Val auroc 0.976\n",
      "Epoch 49 Current LR 0.06\n",
      "% y_tilde equal to noisy label 1.0\n",
      "% y_tilde equal to true label 0.95\n",
      "Train acc 0.796, Train auroc 0.977\n",
      "Val acc 0.748, Val auroc 0.973\n",
      "Epoch 50 Current LR 0.06\n",
      "% y_tilde equal to noisy label 1.0\n",
      "% y_tilde equal to true label 0.95\n",
      "Train acc 0.794, Train auroc 0.977\n",
      "Val acc 0.784, Val auroc 0.980\n"
     ]
    },
    {
     "name": "stdout",
     "output_type": "stream",
     "text": [
      "Epoch 51 Current LR 0.06\n",
      "% y_tilde equal to noisy label 1.0\n",
      "% y_tilde equal to true label 0.95\n",
      "Train acc 0.799, Train auroc 0.977\n",
      "Val acc 0.786, Val auroc 0.979\n",
      "Epoch 52 Current LR 0.06\n",
      "% y_tilde equal to noisy label 1.0\n",
      "% y_tilde equal to true label 0.95\n",
      "Train acc 0.798, Train auroc 0.977\n",
      "Val acc 0.789, Val auroc 0.979\n",
      "Epoch 53 Current LR 0.06\n",
      "% y_tilde equal to noisy label 1.0\n",
      "% y_tilde equal to true label 0.95\n",
      "Train acc 0.796, Train auroc 0.977\n",
      "Val acc 0.777, Val auroc 0.975\n",
      "Epoch 54 Current LR 0.06\n",
      "% y_tilde equal to noisy label 1.0\n",
      "% y_tilde equal to true label 0.95\n",
      "Train acc 0.797, Train auroc 0.977\n",
      "Val acc 0.804, Val auroc 0.982\n",
      "Epoch 55 Current LR 0.06\n",
      "% y_tilde equal to noisy label 1.0\n",
      "% y_tilde equal to true label 0.95\n",
      "Train acc 0.796, Train auroc 0.977\n",
      "Val acc 0.793, Val auroc 0.977\n",
      "Epoch 56 Current LR 0.06\n",
      "% y_tilde equal to noisy label 1.0\n",
      "% y_tilde equal to true label 0.95\n",
      "Train acc 0.799, Train auroc 0.977\n",
      "Val acc 0.752, Val auroc 0.967\n",
      "Epoch 57 Current LR 0.06\n",
      "% y_tilde equal to noisy label 1.0\n",
      "% y_tilde equal to true label 0.95\n",
      "Train acc 0.796, Train auroc 0.977\n",
      "Val acc 0.747, Val auroc 0.972\n",
      "Epoch 58 Current LR 0.06\n",
      "% y_tilde equal to noisy label 1.0\n",
      "% y_tilde equal to true label 0.95\n",
      "Train acc 0.798, Train auroc 0.977\n",
      "Val acc 0.749, Val auroc 0.976\n",
      "Epoch 59 Current LR 0.06\n",
      "% y_tilde equal to noisy label 1.0\n",
      "% y_tilde equal to true label 0.95\n",
      "Train acc 0.801, Train auroc 0.978\n",
      "Val acc 0.758, Val auroc 0.974\n",
      "Epoch 60 Current LR 0.06\n",
      "% y_tilde equal to noisy label 1.0\n",
      "% y_tilde equal to true label 0.95\n",
      "Train acc 0.797, Train auroc 0.977\n",
      "Val acc 0.797, Val auroc 0.980\n",
      "Epoch 61 Current LR 0.06\n",
      "% y_tilde equal to noisy label 1.0\n",
      "% y_tilde equal to true label 0.95\n",
      "Train acc 0.799, Train auroc 0.978\n",
      "Val acc 0.786, Val auroc 0.979\n",
      "Epoch 62 Current LR 0.06\n",
      "% y_tilde equal to noisy label 1.0\n",
      "% y_tilde equal to true label 0.95\n",
      "Train acc 0.797, Train auroc 0.977\n",
      "Val acc 0.645, Val auroc 0.961\n",
      "Epoch 63 Current LR 0.06\n",
      "% y_tilde equal to noisy label 1.0\n",
      "% y_tilde equal to true label 0.95\n",
      "Train acc 0.799, Train auroc 0.978\n",
      "Val acc 0.746, Val auroc 0.968\n",
      "Epoch 64 Current LR 0.06\n",
      "% y_tilde equal to noisy label 1.0\n",
      "% y_tilde equal to true label 0.95\n",
      "Train acc 0.799, Train auroc 0.978\n",
      "Val acc 0.754, Val auroc 0.977\n",
      "Epoch 65 Current LR 0.06\n",
      "% y_tilde equal to noisy label 1.0\n",
      "% y_tilde equal to true label 0.95\n",
      "Train acc 0.801, Train auroc 0.978\n",
      "Val acc 0.774, Val auroc 0.977\n",
      "Epoch 66 Current LR 0.06\n",
      "% y_tilde equal to noisy label 1.0\n",
      "% y_tilde equal to true label 0.95\n",
      "Train acc 0.797, Train auroc 0.978\n",
      "Val acc 0.803, Val auroc 0.978\n",
      "Epoch 67 Current LR 0.06\n",
      "% y_tilde equal to noisy label 1.0\n",
      "% y_tilde equal to true label 0.95\n",
      "Train acc 0.803, Train auroc 0.978\n",
      "Val acc 0.763, Val auroc 0.974\n",
      "Epoch 68 Current LR 0.06\n",
      "% y_tilde equal to noisy label 1.0\n",
      "% y_tilde equal to true label 0.95\n",
      "Train acc 0.799, Train auroc 0.978\n",
      "Val acc 0.791, Val auroc 0.980\n",
      "Epoch 69 Current LR 0.06\n",
      "% y_tilde equal to noisy label 1.0\n",
      "% y_tilde equal to true label 0.95\n",
      "Train acc 0.798, Train auroc 0.978\n",
      "Val acc 0.812, Val auroc 0.983\n"
     ]
    },
    {
     "name": "stderr",
     "output_type": "stream",
     "text": [
      "C:\\Users\\Administrator\\anaconda3\\lib\\site-packages\\torch\\nn\\functional.py:2610: UserWarning: reduction: 'mean' divides the total loss by both the batch size and the support size.'batchmean' divides only by the batch size, and aligns with the KL div math definition.'mean' will be changed to behave the same as 'batchmean' in the next major release.\n",
      "  warnings.warn(\n"
     ]
    },
    {
     "name": "stdout",
     "output_type": "stream",
     "text": [
      "Epoch 70 Current LR 0.06\n",
      "Percent of estimated labels that have remained the same since end of phase 1 1.0\n",
      "% y_tilde equal to noisy label 1.0\n",
      "% y_tilde equal to true label 0.95\n",
      "Train acc 0.836, Train auroc 0.980\n",
      "Val acc 0.775, Val auroc 0.973\n"
     ]
    },
    {
     "name": "stderr",
     "output_type": "stream",
     "text": [
      "C:\\Users\\Administrator\\anaconda3\\lib\\site-packages\\torch\\nn\\functional.py:2610: UserWarning: reduction: 'mean' divides the total loss by both the batch size and the support size.'batchmean' divides only by the batch size, and aligns with the KL div math definition.'mean' will be changed to behave the same as 'batchmean' in the next major release.\n",
      "  warnings.warn(\n"
     ]
    },
    {
     "name": "stdout",
     "output_type": "stream",
     "text": [
      "Epoch 71 Current LR 0.06\n",
      "Percent of estimated labels that have remained the same since end of phase 1 1.0\n",
      "% y_tilde equal to noisy label 1.0\n",
      "% y_tilde equal to true label 0.95\n",
      "Train acc 0.819, Train auroc 0.976\n",
      "Val acc 0.786, Val auroc 0.975\n"
     ]
    },
    {
     "name": "stderr",
     "output_type": "stream",
     "text": [
      "C:\\Users\\Administrator\\anaconda3\\lib\\site-packages\\torch\\nn\\functional.py:2610: UserWarning: reduction: 'mean' divides the total loss by both the batch size and the support size.'batchmean' divides only by the batch size, and aligns with the KL div math definition.'mean' will be changed to behave the same as 'batchmean' in the next major release.\n",
      "  warnings.warn(\n"
     ]
    },
    {
     "name": "stdout",
     "output_type": "stream",
     "text": [
      "Epoch 72 Current LR 0.06\n",
      "Percent of estimated labels that have remained the same since end of phase 1 1.0\n",
      "% y_tilde equal to noisy label 1.0\n",
      "% y_tilde equal to true label 0.95\n",
      "Train acc 0.802, Train auroc 0.971\n",
      "Val acc 0.812, Val auroc 0.978\n"
     ]
    },
    {
     "name": "stderr",
     "output_type": "stream",
     "text": [
      "C:\\Users\\Administrator\\anaconda3\\lib\\site-packages\\torch\\nn\\functional.py:2610: UserWarning: reduction: 'mean' divides the total loss by both the batch size and the support size.'batchmean' divides only by the batch size, and aligns with the KL div math definition.'mean' will be changed to behave the same as 'batchmean' in the next major release.\n",
      "  warnings.warn(\n"
     ]
    },
    {
     "name": "stdout",
     "output_type": "stream",
     "text": [
      "Epoch 73 Current LR 0.06\n",
      "Percent of estimated labels that have remained the same since end of phase 1 1.0\n",
      "% y_tilde equal to noisy label 1.0\n",
      "% y_tilde equal to true label 0.95\n",
      "Train acc 0.792, Train auroc 0.966\n",
      "Val acc 0.706, Val auroc 0.947\n"
     ]
    },
    {
     "name": "stderr",
     "output_type": "stream",
     "text": [
      "C:\\Users\\Administrator\\anaconda3\\lib\\site-packages\\torch\\nn\\functional.py:2610: UserWarning: reduction: 'mean' divides the total loss by both the batch size and the support size.'batchmean' divides only by the batch size, and aligns with the KL div math definition.'mean' will be changed to behave the same as 'batchmean' in the next major release.\n",
      "  warnings.warn(\n"
     ]
    },
    {
     "name": "stdout",
     "output_type": "stream",
     "text": [
      "Epoch 74 Current LR 0.06\n",
      "Percent of estimated labels that have remained the same since end of phase 1 1.0\n",
      "% y_tilde equal to noisy label 1.0\n",
      "% y_tilde equal to true label 0.95\n",
      "Train acc 0.784, Train auroc 0.964\n",
      "Val acc 0.727, Val auroc 0.960\n"
     ]
    },
    {
     "name": "stderr",
     "output_type": "stream",
     "text": [
      "C:\\Users\\Administrator\\anaconda3\\lib\\site-packages\\torch\\nn\\functional.py:2610: UserWarning: reduction: 'mean' divides the total loss by both the batch size and the support size.'batchmean' divides only by the batch size, and aligns with the KL div math definition.'mean' will be changed to behave the same as 'batchmean' in the next major release.\n",
      "  warnings.warn(\n"
     ]
    },
    {
     "name": "stdout",
     "output_type": "stream",
     "text": [
      "Epoch 75 Current LR 0.06\n",
      "Percent of estimated labels that have remained the same since end of phase 1 1.0\n",
      "% y_tilde equal to noisy label 1.0\n",
      "% y_tilde equal to true label 0.95\n",
      "Train acc 0.780, Train auroc 0.962\n",
      "Val acc 0.670, Val auroc 0.942\n"
     ]
    },
    {
     "name": "stderr",
     "output_type": "stream",
     "text": [
      "C:\\Users\\Administrator\\anaconda3\\lib\\site-packages\\torch\\nn\\functional.py:2610: UserWarning: reduction: 'mean' divides the total loss by both the batch size and the support size.'batchmean' divides only by the batch size, and aligns with the KL div math definition.'mean' will be changed to behave the same as 'batchmean' in the next major release.\n",
      "  warnings.warn(\n"
     ]
    },
    {
     "name": "stdout",
     "output_type": "stream",
     "text": [
      "Epoch 76 Current LR 0.06\n",
      "Percent of estimated labels that have remained the same since end of phase 1 1.0\n",
      "% y_tilde equal to noisy label 1.0\n",
      "% y_tilde equal to true label 0.95\n",
      "Train acc 0.778, Train auroc 0.959\n",
      "Val acc 0.749, Val auroc 0.964\n"
     ]
    },
    {
     "name": "stderr",
     "output_type": "stream",
     "text": [
      "C:\\Users\\Administrator\\anaconda3\\lib\\site-packages\\torch\\nn\\functional.py:2610: UserWarning: reduction: 'mean' divides the total loss by both the batch size and the support size.'batchmean' divides only by the batch size, and aligns with the KL div math definition.'mean' will be changed to behave the same as 'batchmean' in the next major release.\n",
      "  warnings.warn(\n"
     ]
    },
    {
     "name": "stdout",
     "output_type": "stream",
     "text": [
      "Epoch 77 Current LR 0.06\n",
      "Percent of estimated labels that have remained the same since end of phase 1 1.0\n",
      "% y_tilde equal to noisy label 1.0\n",
      "% y_tilde equal to true label 0.95\n",
      "Train acc 0.779, Train auroc 0.960\n",
      "Val acc 0.743, Val auroc 0.959\n"
     ]
    },
    {
     "name": "stderr",
     "output_type": "stream",
     "text": [
      "C:\\Users\\Administrator\\anaconda3\\lib\\site-packages\\torch\\nn\\functional.py:2610: UserWarning: reduction: 'mean' divides the total loss by both the batch size and the support size.'batchmean' divides only by the batch size, and aligns with the KL div math definition.'mean' will be changed to behave the same as 'batchmean' in the next major release.\n",
      "  warnings.warn(\n"
     ]
    },
    {
     "name": "stdout",
     "output_type": "stream",
     "text": [
      "Epoch 78 Current LR 0.06\n",
      "Percent of estimated labels that have remained the same since end of phase 1 1.0\n",
      "% y_tilde equal to noisy label 1.0\n",
      "% y_tilde equal to true label 0.95\n",
      "Train acc 0.781, Train auroc 0.959\n",
      "Val acc 0.767, Val auroc 0.966\n"
     ]
    },
    {
     "name": "stderr",
     "output_type": "stream",
     "text": [
      "C:\\Users\\Administrator\\anaconda3\\lib\\site-packages\\torch\\nn\\functional.py:2610: UserWarning: reduction: 'mean' divides the total loss by both the batch size and the support size.'batchmean' divides only by the batch size, and aligns with the KL div math definition.'mean' will be changed to behave the same as 'batchmean' in the next major release.\n",
      "  warnings.warn(\n"
     ]
    },
    {
     "name": "stdout",
     "output_type": "stream",
     "text": [
      "Epoch 79 Current LR 0.06\n",
      "Percent of estimated labels that have remained the same since end of phase 1 1.0\n",
      "% y_tilde equal to noisy label 1.0\n",
      "% y_tilde equal to true label 0.95\n",
      "Train acc 0.778, Train auroc 0.958\n",
      "Val acc 0.752, Val auroc 0.962\n"
     ]
    },
    {
     "name": "stderr",
     "output_type": "stream",
     "text": [
      "C:\\Users\\Administrator\\anaconda3\\lib\\site-packages\\torch\\nn\\functional.py:2610: UserWarning: reduction: 'mean' divides the total loss by both the batch size and the support size.'batchmean' divides only by the batch size, and aligns with the KL div math definition.'mean' will be changed to behave the same as 'batchmean' in the next major release.\n",
      "  warnings.warn(\n"
     ]
    },
    {
     "name": "stdout",
     "output_type": "stream",
     "text": [
      "Epoch 80 Current LR 0.06\n",
      "Percent of estimated labels that have remained the same since end of phase 1 1.0\n",
      "% y_tilde equal to noisy label 1.0\n",
      "% y_tilde equal to true label 0.95\n",
      "Train acc 0.777, Train auroc 0.958\n",
      "Val acc 0.621, Val auroc 0.909\n"
     ]
    },
    {
     "name": "stderr",
     "output_type": "stream",
     "text": [
      "C:\\Users\\Administrator\\anaconda3\\lib\\site-packages\\torch\\nn\\functional.py:2610: UserWarning: reduction: 'mean' divides the total loss by both the batch size and the support size.'batchmean' divides only by the batch size, and aligns with the KL div math definition.'mean' will be changed to behave the same as 'batchmean' in the next major release.\n",
      "  warnings.warn(\n"
     ]
    },
    {
     "name": "stdout",
     "output_type": "stream",
     "text": [
      "Epoch 81 Current LR 0.06\n",
      "Percent of estimated labels that have remained the same since end of phase 1 0.9996\n",
      "% y_tilde equal to noisy label 0.9996\n",
      "% y_tilde equal to true label 0.9503\n",
      "Train acc 0.778, Train auroc 0.958\n",
      "Val acc 0.737, Val auroc 0.956\n"
     ]
    },
    {
     "name": "stderr",
     "output_type": "stream",
     "text": [
      "C:\\Users\\Administrator\\anaconda3\\lib\\site-packages\\torch\\nn\\functional.py:2610: UserWarning: reduction: 'mean' divides the total loss by both the batch size and the support size.'batchmean' divides only by the batch size, and aligns with the KL div math definition.'mean' will be changed to behave the same as 'batchmean' in the next major release.\n",
      "  warnings.warn(\n"
     ]
    },
    {
     "name": "stdout",
     "output_type": "stream",
     "text": [
      "Epoch 82 Current LR 0.06\n",
      "Percent of estimated labels that have remained the same since end of phase 1 0.9832\n",
      "% y_tilde equal to noisy label 0.9832\n",
      "% y_tilde equal to true label 0.9636\n",
      "Train acc 0.776, Train auroc 0.956\n",
      "Val acc 0.735, Val auroc 0.957\n"
     ]
    },
    {
     "name": "stderr",
     "output_type": "stream",
     "text": [
      "C:\\Users\\Administrator\\anaconda3\\lib\\site-packages\\torch\\nn\\functional.py:2610: UserWarning: reduction: 'mean' divides the total loss by both the batch size and the support size.'batchmean' divides only by the batch size, and aligns with the KL div math definition.'mean' will be changed to behave the same as 'batchmean' in the next major release.\n",
      "  warnings.warn(\n"
     ]
    },
    {
     "name": "stdout",
     "output_type": "stream",
     "text": [
      "Epoch 83 Current LR 0.06\n",
      "Percent of estimated labels that have remained the same since end of phase 1 0.9736\n",
      "% y_tilde equal to noisy label 0.9736\n",
      "% y_tilde equal to true label 0.9682\n",
      "Train acc 0.774, Train auroc 0.955\n",
      "Val acc 0.660, Val auroc 0.930\n"
     ]
    },
    {
     "name": "stderr",
     "output_type": "stream",
     "text": [
      "C:\\Users\\Administrator\\anaconda3\\lib\\site-packages\\torch\\nn\\functional.py:2610: UserWarning: reduction: 'mean' divides the total loss by both the batch size and the support size.'batchmean' divides only by the batch size, and aligns with the KL div math definition.'mean' will be changed to behave the same as 'batchmean' in the next major release.\n",
      "  warnings.warn(\n"
     ]
    },
    {
     "name": "stdout",
     "output_type": "stream",
     "text": [
      "Epoch 84 Current LR 0.06\n",
      "Percent of estimated labels that have remained the same since end of phase 1 0.9664\n",
      "% y_tilde equal to noisy label 0.9664\n",
      "% y_tilde equal to true label 0.9681\n",
      "Train acc 0.778, Train auroc 0.957\n",
      "Val acc 0.781, Val auroc 0.968\n"
     ]
    },
    {
     "name": "stderr",
     "output_type": "stream",
     "text": [
      "C:\\Users\\Administrator\\anaconda3\\lib\\site-packages\\torch\\nn\\functional.py:2610: UserWarning: reduction: 'mean' divides the total loss by both the batch size and the support size.'batchmean' divides only by the batch size, and aligns with the KL div math definition.'mean' will be changed to behave the same as 'batchmean' in the next major release.\n",
      "  warnings.warn(\n"
     ]
    },
    {
     "name": "stdout",
     "output_type": "stream",
     "text": [
      "Epoch 85 Current LR 0.06\n",
      "Percent of estimated labels that have remained the same since end of phase 1 0.9599\n",
      "% y_tilde equal to noisy label 0.9599\n",
      "% y_tilde equal to true label 0.9673\n",
      "Train acc 0.775, Train auroc 0.954\n",
      "Val acc 0.757, Val auroc 0.964\n"
     ]
    },
    {
     "name": "stderr",
     "output_type": "stream",
     "text": [
      "C:\\Users\\Administrator\\anaconda3\\lib\\site-packages\\torch\\nn\\functional.py:2610: UserWarning: reduction: 'mean' divides the total loss by both the batch size and the support size.'batchmean' divides only by the batch size, and aligns with the KL div math definition.'mean' will be changed to behave the same as 'batchmean' in the next major release.\n",
      "  warnings.warn(\n"
     ]
    },
    {
     "name": "stdout",
     "output_type": "stream",
     "text": [
      "Epoch 86 Current LR 0.06\n",
      "Percent of estimated labels that have remained the same since end of phase 1 0.9542\n",
      "% y_tilde equal to noisy label 0.9542\n",
      "% y_tilde equal to true label 0.9662\n",
      "Train acc 0.777, Train auroc 0.954\n",
      "Val acc 0.755, Val auroc 0.958\n"
     ]
    },
    {
     "name": "stderr",
     "output_type": "stream",
     "text": [
      "C:\\Users\\Administrator\\anaconda3\\lib\\site-packages\\torch\\nn\\functional.py:2610: UserWarning: reduction: 'mean' divides the total loss by both the batch size and the support size.'batchmean' divides only by the batch size, and aligns with the KL div math definition.'mean' will be changed to behave the same as 'batchmean' in the next major release.\n",
      "  warnings.warn(\n"
     ]
    },
    {
     "name": "stdout",
     "output_type": "stream",
     "text": [
      "Epoch 87 Current LR 0.06\n",
      "Percent of estimated labels that have remained the same since end of phase 1 0.9486\n",
      "% y_tilde equal to noisy label 0.9486\n",
      "% y_tilde equal to true label 0.9628\n",
      "Train acc 0.775, Train auroc 0.954\n",
      "Val acc 0.748, Val auroc 0.959\n"
     ]
    },
    {
     "name": "stderr",
     "output_type": "stream",
     "text": [
      "C:\\Users\\Administrator\\anaconda3\\lib\\site-packages\\torch\\nn\\functional.py:2610: UserWarning: reduction: 'mean' divides the total loss by both the batch size and the support size.'batchmean' divides only by the batch size, and aligns with the KL div math definition.'mean' will be changed to behave the same as 'batchmean' in the next major release.\n",
      "  warnings.warn(\n"
     ]
    },
    {
     "name": "stdout",
     "output_type": "stream",
     "text": [
      "Epoch 88 Current LR 0.06\n",
      "Percent of estimated labels that have remained the same since end of phase 1 0.9434\n",
      "% y_tilde equal to noisy label 0.9434\n",
      "% y_tilde equal to true label 0.9601\n",
      "Train acc 0.777, Train auroc 0.955\n",
      "Val acc 0.747, Val auroc 0.958\n"
     ]
    },
    {
     "name": "stderr",
     "output_type": "stream",
     "text": [
      "C:\\Users\\Administrator\\anaconda3\\lib\\site-packages\\torch\\nn\\functional.py:2610: UserWarning: reduction: 'mean' divides the total loss by both the batch size and the support size.'batchmean' divides only by the batch size, and aligns with the KL div math definition.'mean' will be changed to behave the same as 'batchmean' in the next major release.\n",
      "  warnings.warn(\n"
     ]
    },
    {
     "name": "stdout",
     "output_type": "stream",
     "text": [
      "Epoch 89 Current LR 0.06\n",
      "Percent of estimated labels that have remained the same since end of phase 1 0.9385\n",
      "% y_tilde equal to noisy label 0.9385\n",
      "% y_tilde equal to true label 0.9575\n",
      "Train acc 0.774, Train auroc 0.954\n",
      "Val acc 0.764, Val auroc 0.959\n"
     ]
    },
    {
     "name": "stderr",
     "output_type": "stream",
     "text": [
      "C:\\Users\\Administrator\\anaconda3\\lib\\site-packages\\torch\\nn\\functional.py:2610: UserWarning: reduction: 'mean' divides the total loss by both the batch size and the support size.'batchmean' divides only by the batch size, and aligns with the KL div math definition.'mean' will be changed to behave the same as 'batchmean' in the next major release.\n",
      "  warnings.warn(\n"
     ]
    },
    {
     "name": "stdout",
     "output_type": "stream",
     "text": [
      "Epoch 90 Current LR 0.06\n",
      "Percent of estimated labels that have remained the same since end of phase 1 0.9342\n",
      "% y_tilde equal to noisy label 0.9342\n",
      "% y_tilde equal to true label 0.9545\n",
      "Train acc 0.772, Train auroc 0.953\n",
      "Val acc 0.715, Val auroc 0.950\n"
     ]
    },
    {
     "name": "stderr",
     "output_type": "stream",
     "text": [
      "C:\\Users\\Administrator\\anaconda3\\lib\\site-packages\\torch\\nn\\functional.py:2610: UserWarning: reduction: 'mean' divides the total loss by both the batch size and the support size.'batchmean' divides only by the batch size, and aligns with the KL div math definition.'mean' will be changed to behave the same as 'batchmean' in the next major release.\n",
      "  warnings.warn(\n"
     ]
    },
    {
     "name": "stdout",
     "output_type": "stream",
     "text": [
      "Epoch 91 Current LR 0.06\n",
      "Percent of estimated labels that have remained the same since end of phase 1 0.9297\n",
      "% y_tilde equal to noisy label 0.9297\n",
      "% y_tilde equal to true label 0.9518\n",
      "Train acc 0.777, Train auroc 0.954\n",
      "Val acc 0.755, Val auroc 0.959\n"
     ]
    },
    {
     "name": "stderr",
     "output_type": "stream",
     "text": [
      "C:\\Users\\Administrator\\anaconda3\\lib\\site-packages\\torch\\nn\\functional.py:2610: UserWarning: reduction: 'mean' divides the total loss by both the batch size and the support size.'batchmean' divides only by the batch size, and aligns with the KL div math definition.'mean' will be changed to behave the same as 'batchmean' in the next major release.\n",
      "  warnings.warn(\n"
     ]
    },
    {
     "name": "stdout",
     "output_type": "stream",
     "text": [
      "Epoch 92 Current LR 0.06\n",
      "Percent of estimated labels that have remained the same since end of phase 1 0.926\n",
      "% y_tilde equal to noisy label 0.926\n",
      "% y_tilde equal to true label 0.9494\n",
      "Train acc 0.775, Train auroc 0.954\n",
      "Val acc 0.783, Val auroc 0.965\n"
     ]
    },
    {
     "name": "stderr",
     "output_type": "stream",
     "text": [
      "C:\\Users\\Administrator\\anaconda3\\lib\\site-packages\\torch\\nn\\functional.py:2610: UserWarning: reduction: 'mean' divides the total loss by both the batch size and the support size.'batchmean' divides only by the batch size, and aligns with the KL div math definition.'mean' will be changed to behave the same as 'batchmean' in the next major release.\n",
      "  warnings.warn(\n"
     ]
    },
    {
     "name": "stdout",
     "output_type": "stream",
     "text": [
      "Epoch 93 Current LR 0.06\n",
      "Percent of estimated labels that have remained the same since end of phase 1 0.9215\n",
      "% y_tilde equal to noisy label 0.9215\n",
      "% y_tilde equal to true label 0.9454\n",
      "Train acc 0.774, Train auroc 0.952\n",
      "Val acc 0.782, Val auroc 0.963\n"
     ]
    },
    {
     "name": "stderr",
     "output_type": "stream",
     "text": [
      "C:\\Users\\Administrator\\anaconda3\\lib\\site-packages\\torch\\nn\\functional.py:2610: UserWarning: reduction: 'mean' divides the total loss by both the batch size and the support size.'batchmean' divides only by the batch size, and aligns with the KL div math definition.'mean' will be changed to behave the same as 'batchmean' in the next major release.\n",
      "  warnings.warn(\n"
     ]
    },
    {
     "name": "stdout",
     "output_type": "stream",
     "text": [
      "Epoch 94 Current LR 0.06\n",
      "Percent of estimated labels that have remained the same since end of phase 1 0.9185\n",
      "% y_tilde equal to noisy label 0.9185\n",
      "% y_tilde equal to true label 0.943\n",
      "Train acc 0.772, Train auroc 0.953\n",
      "Val acc 0.728, Val auroc 0.954\n"
     ]
    },
    {
     "name": "stderr",
     "output_type": "stream",
     "text": [
      "C:\\Users\\Administrator\\anaconda3\\lib\\site-packages\\torch\\nn\\functional.py:2610: UserWarning: reduction: 'mean' divides the total loss by both the batch size and the support size.'batchmean' divides only by the batch size, and aligns with the KL div math definition.'mean' will be changed to behave the same as 'batchmean' in the next major release.\n",
      "  warnings.warn(\n"
     ]
    },
    {
     "name": "stdout",
     "output_type": "stream",
     "text": [
      "Epoch 95 Current LR 0.06\n",
      "Percent of estimated labels that have remained the same since end of phase 1 0.9149\n",
      "% y_tilde equal to noisy label 0.9149\n",
      "% y_tilde equal to true label 0.9397\n",
      "Train acc 0.772, Train auroc 0.952\n",
      "Val acc 0.698, Val auroc 0.931\n"
     ]
    },
    {
     "name": "stderr",
     "output_type": "stream",
     "text": [
      "C:\\Users\\Administrator\\anaconda3\\lib\\site-packages\\torch\\nn\\functional.py:2610: UserWarning: reduction: 'mean' divides the total loss by both the batch size and the support size.'batchmean' divides only by the batch size, and aligns with the KL div math definition.'mean' will be changed to behave the same as 'batchmean' in the next major release.\n",
      "  warnings.warn(\n"
     ]
    },
    {
     "name": "stdout",
     "output_type": "stream",
     "text": [
      "Epoch 96 Current LR 0.06\n",
      "Percent of estimated labels that have remained the same since end of phase 1 0.9121\n",
      "% y_tilde equal to noisy label 0.9121\n",
      "% y_tilde equal to true label 0.9376\n",
      "Train acc 0.772, Train auroc 0.952\n",
      "Val acc 0.768, Val auroc 0.961\n"
     ]
    },
    {
     "name": "stderr",
     "output_type": "stream",
     "text": [
      "C:\\Users\\Administrator\\anaconda3\\lib\\site-packages\\torch\\nn\\functional.py:2610: UserWarning: reduction: 'mean' divides the total loss by both the batch size and the support size.'batchmean' divides only by the batch size, and aligns with the KL div math definition.'mean' will be changed to behave the same as 'batchmean' in the next major release.\n",
      "  warnings.warn(\n"
     ]
    },
    {
     "name": "stdout",
     "output_type": "stream",
     "text": [
      "Epoch 97 Current LR 0.06\n",
      "Percent of estimated labels that have remained the same since end of phase 1 0.9092\n",
      "% y_tilde equal to noisy label 0.9092\n",
      "% y_tilde equal to true label 0.9354\n",
      "Train acc 0.768, Train auroc 0.951\n",
      "Val acc 0.703, Val auroc 0.942\n"
     ]
    },
    {
     "name": "stderr",
     "output_type": "stream",
     "text": [
      "C:\\Users\\Administrator\\anaconda3\\lib\\site-packages\\torch\\nn\\functional.py:2610: UserWarning: reduction: 'mean' divides the total loss by both the batch size and the support size.'batchmean' divides only by the batch size, and aligns with the KL div math definition.'mean' will be changed to behave the same as 'batchmean' in the next major release.\n",
      "  warnings.warn(\n"
     ]
    },
    {
     "name": "stdout",
     "output_type": "stream",
     "text": [
      "Epoch 98 Current LR 0.06\n",
      "Percent of estimated labels that have remained the same since end of phase 1 0.9074\n",
      "% y_tilde equal to noisy label 0.9074\n",
      "% y_tilde equal to true label 0.9337\n",
      "Train acc 0.767, Train auroc 0.951\n",
      "Val acc 0.749, Val auroc 0.958\n"
     ]
    },
    {
     "name": "stderr",
     "output_type": "stream",
     "text": [
      "C:\\Users\\Administrator\\anaconda3\\lib\\site-packages\\torch\\nn\\functional.py:2610: UserWarning: reduction: 'mean' divides the total loss by both the batch size and the support size.'batchmean' divides only by the batch size, and aligns with the KL div math definition.'mean' will be changed to behave the same as 'batchmean' in the next major release.\n",
      "  warnings.warn(\n"
     ]
    },
    {
     "name": "stdout",
     "output_type": "stream",
     "text": [
      "Epoch 99 Current LR 0.06\n",
      "Percent of estimated labels that have remained the same since end of phase 1 0.9053\n",
      "% y_tilde equal to noisy label 0.9053\n",
      "% y_tilde equal to true label 0.9318\n",
      "Train acc 0.768, Train auroc 0.952\n",
      "Val acc 0.645, Val auroc 0.921\n"
     ]
    },
    {
     "name": "stderr",
     "output_type": "stream",
     "text": [
      "C:\\Users\\Administrator\\anaconda3\\lib\\site-packages\\torch\\nn\\functional.py:2610: UserWarning: reduction: 'mean' divides the total loss by both the batch size and the support size.'batchmean' divides only by the batch size, and aligns with the KL div math definition.'mean' will be changed to behave the same as 'batchmean' in the next major release.\n",
      "  warnings.warn(\n"
     ]
    },
    {
     "name": "stdout",
     "output_type": "stream",
     "text": [
      "Epoch 100 Current LR 0.06\n",
      "Percent of estimated labels that have remained the same since end of phase 1 0.9036\n",
      "% y_tilde equal to noisy label 0.9036\n",
      "% y_tilde equal to true label 0.9296\n",
      "Train acc 0.769, Train auroc 0.951\n",
      "Val acc 0.717, Val auroc 0.945\n"
     ]
    },
    {
     "name": "stderr",
     "output_type": "stream",
     "text": [
      "C:\\Users\\Administrator\\anaconda3\\lib\\site-packages\\torch\\nn\\functional.py:2610: UserWarning: reduction: 'mean' divides the total loss by both the batch size and the support size.'batchmean' divides only by the batch size, and aligns with the KL div math definition.'mean' will be changed to behave the same as 'batchmean' in the next major release.\n",
      "  warnings.warn(\n"
     ]
    },
    {
     "name": "stdout",
     "output_type": "stream",
     "text": [
      "Epoch 101 Current LR 0.06\n",
      "Percent of estimated labels that have remained the same since end of phase 1 0.9017\n",
      "% y_tilde equal to noisy label 0.9017\n",
      "% y_tilde equal to true label 0.928\n",
      "Train acc 0.765, Train auroc 0.951\n",
      "Val acc 0.741, Val auroc 0.952\n"
     ]
    },
    {
     "name": "stderr",
     "output_type": "stream",
     "text": [
      "C:\\Users\\Administrator\\anaconda3\\lib\\site-packages\\torch\\nn\\functional.py:2610: UserWarning: reduction: 'mean' divides the total loss by both the batch size and the support size.'batchmean' divides only by the batch size, and aligns with the KL div math definition.'mean' will be changed to behave the same as 'batchmean' in the next major release.\n",
      "  warnings.warn(\n"
     ]
    },
    {
     "name": "stdout",
     "output_type": "stream",
     "text": [
      "Epoch 102 Current LR 0.06\n",
      "Percent of estimated labels that have remained the same since end of phase 1 0.8998\n",
      "% y_tilde equal to noisy label 0.8998\n",
      "% y_tilde equal to true label 0.9264\n",
      "Train acc 0.770, Train auroc 0.951\n",
      "Val acc 0.737, Val auroc 0.954\n"
     ]
    },
    {
     "name": "stderr",
     "output_type": "stream",
     "text": [
      "C:\\Users\\Administrator\\anaconda3\\lib\\site-packages\\torch\\nn\\functional.py:2610: UserWarning: reduction: 'mean' divides the total loss by both the batch size and the support size.'batchmean' divides only by the batch size, and aligns with the KL div math definition.'mean' will be changed to behave the same as 'batchmean' in the next major release.\n",
      "  warnings.warn(\n"
     ]
    },
    {
     "name": "stdout",
     "output_type": "stream",
     "text": [
      "Epoch 103 Current LR 0.06\n",
      "Percent of estimated labels that have remained the same since end of phase 1 0.8982\n",
      "% y_tilde equal to noisy label 0.8982\n",
      "% y_tilde equal to true label 0.9246\n",
      "Train acc 0.767, Train auroc 0.950\n",
      "Val acc 0.748, Val auroc 0.949\n"
     ]
    },
    {
     "name": "stderr",
     "output_type": "stream",
     "text": [
      "C:\\Users\\Administrator\\anaconda3\\lib\\site-packages\\torch\\nn\\functional.py:2610: UserWarning: reduction: 'mean' divides the total loss by both the batch size and the support size.'batchmean' divides only by the batch size, and aligns with the KL div math definition.'mean' will be changed to behave the same as 'batchmean' in the next major release.\n",
      "  warnings.warn(\n"
     ]
    },
    {
     "name": "stdout",
     "output_type": "stream",
     "text": [
      "Epoch 104 Current LR 0.06\n",
      "Percent of estimated labels that have remained the same since end of phase 1 0.8967\n",
      "% y_tilde equal to noisy label 0.8967\n",
      "% y_tilde equal to true label 0.9237\n",
      "Train acc 0.762, Train auroc 0.949\n",
      "Val acc 0.691, Val auroc 0.937\n"
     ]
    },
    {
     "name": "stderr",
     "output_type": "stream",
     "text": [
      "C:\\Users\\Administrator\\anaconda3\\lib\\site-packages\\torch\\nn\\functional.py:2610: UserWarning: reduction: 'mean' divides the total loss by both the batch size and the support size.'batchmean' divides only by the batch size, and aligns with the KL div math definition.'mean' will be changed to behave the same as 'batchmean' in the next major release.\n",
      "  warnings.warn(\n"
     ]
    },
    {
     "name": "stdout",
     "output_type": "stream",
     "text": [
      "Epoch 105 Current LR 0.06\n",
      "Percent of estimated labels that have remained the same since end of phase 1 0.8961\n",
      "% y_tilde equal to noisy label 0.8961\n",
      "% y_tilde equal to true label 0.9239\n",
      "Train acc 0.770, Train auroc 0.951\n",
      "Val acc 0.735, Val auroc 0.950\n"
     ]
    },
    {
     "name": "stderr",
     "output_type": "stream",
     "text": [
      "C:\\Users\\Administrator\\anaconda3\\lib\\site-packages\\torch\\nn\\functional.py:2610: UserWarning: reduction: 'mean' divides the total loss by both the batch size and the support size.'batchmean' divides only by the batch size, and aligns with the KL div math definition.'mean' will be changed to behave the same as 'batchmean' in the next major release.\n",
      "  warnings.warn(\n"
     ]
    },
    {
     "name": "stdout",
     "output_type": "stream",
     "text": [
      "Epoch 106 Current LR 0.06\n",
      "Percent of estimated labels that have remained the same since end of phase 1 0.8943\n",
      "% y_tilde equal to noisy label 0.8943\n",
      "% y_tilde equal to true label 0.9223\n",
      "Train acc 0.768, Train auroc 0.951\n",
      "Val acc 0.762, Val auroc 0.955\n"
     ]
    },
    {
     "name": "stderr",
     "output_type": "stream",
     "text": [
      "C:\\Users\\Administrator\\anaconda3\\lib\\site-packages\\torch\\nn\\functional.py:2610: UserWarning: reduction: 'mean' divides the total loss by both the batch size and the support size.'batchmean' divides only by the batch size, and aligns with the KL div math definition.'mean' will be changed to behave the same as 'batchmean' in the next major release.\n",
      "  warnings.warn(\n"
     ]
    },
    {
     "name": "stdout",
     "output_type": "stream",
     "text": [
      "Epoch 107 Current LR 0.06\n",
      "Percent of estimated labels that have remained the same since end of phase 1 0.8927\n",
      "% y_tilde equal to noisy label 0.8927\n",
      "% y_tilde equal to true label 0.9205\n",
      "Train acc 0.765, Train auroc 0.950\n",
      "Val acc 0.688, Val auroc 0.931\n"
     ]
    },
    {
     "name": "stderr",
     "output_type": "stream",
     "text": [
      "C:\\Users\\Administrator\\anaconda3\\lib\\site-packages\\torch\\nn\\functional.py:2610: UserWarning: reduction: 'mean' divides the total loss by both the batch size and the support size.'batchmean' divides only by the batch size, and aligns with the KL div math definition.'mean' will be changed to behave the same as 'batchmean' in the next major release.\n",
      "  warnings.warn(\n"
     ]
    },
    {
     "name": "stdout",
     "output_type": "stream",
     "text": [
      "Epoch 108 Current LR 0.06\n",
      "Percent of estimated labels that have remained the same since end of phase 1 0.8916\n",
      "% y_tilde equal to noisy label 0.8916\n",
      "% y_tilde equal to true label 0.9194\n",
      "Train acc 0.764, Train auroc 0.951\n",
      "Val acc 0.717, Val auroc 0.942\n"
     ]
    },
    {
     "name": "stderr",
     "output_type": "stream",
     "text": [
      "C:\\Users\\Administrator\\anaconda3\\lib\\site-packages\\torch\\nn\\functional.py:2610: UserWarning: reduction: 'mean' divides the total loss by both the batch size and the support size.'batchmean' divides only by the batch size, and aligns with the KL div math definition.'mean' will be changed to behave the same as 'batchmean' in the next major release.\n",
      "  warnings.warn(\n"
     ]
    },
    {
     "name": "stdout",
     "output_type": "stream",
     "text": [
      "Epoch 109 Current LR 0.06\n",
      "Percent of estimated labels that have remained the same since end of phase 1 0.8908\n",
      "% y_tilde equal to noisy label 0.8908\n",
      "% y_tilde equal to true label 0.9184\n",
      "Train acc 0.766, Train auroc 0.951\n",
      "Val acc 0.766, Val auroc 0.963\n"
     ]
    },
    {
     "name": "stderr",
     "output_type": "stream",
     "text": [
      "C:\\Users\\Administrator\\anaconda3\\lib\\site-packages\\torch\\nn\\functional.py:2610: UserWarning: reduction: 'mean' divides the total loss by both the batch size and the support size.'batchmean' divides only by the batch size, and aligns with the KL div math definition.'mean' will be changed to behave the same as 'batchmean' in the next major release.\n",
      "  warnings.warn(\n"
     ]
    },
    {
     "name": "stdout",
     "output_type": "stream",
     "text": [
      "Epoch 110 Current LR 0.06\n",
      "Percent of estimated labels that have remained the same since end of phase 1 0.89\n",
      "% y_tilde equal to noisy label 0.89\n",
      "% y_tilde equal to true label 0.9176\n",
      "Train acc 0.763, Train auroc 0.950\n",
      "Val acc 0.772, Val auroc 0.961\n"
     ]
    },
    {
     "name": "stderr",
     "output_type": "stream",
     "text": [
      "C:\\Users\\Administrator\\anaconda3\\lib\\site-packages\\torch\\nn\\functional.py:2610: UserWarning: reduction: 'mean' divides the total loss by both the batch size and the support size.'batchmean' divides only by the batch size, and aligns with the KL div math definition.'mean' will be changed to behave the same as 'batchmean' in the next major release.\n",
      "  warnings.warn(\n"
     ]
    },
    {
     "name": "stdout",
     "output_type": "stream",
     "text": [
      "Epoch 111 Current LR 0.06\n",
      "Percent of estimated labels that have remained the same since end of phase 1 0.89\n",
      "% y_tilde equal to noisy label 0.89\n",
      "% y_tilde equal to true label 0.9176\n",
      "Train acc 0.762, Train auroc 0.950\n",
      "Val acc 0.785, Val auroc 0.966\n"
     ]
    },
    {
     "name": "stderr",
     "output_type": "stream",
     "text": [
      "C:\\Users\\Administrator\\anaconda3\\lib\\site-packages\\torch\\nn\\functional.py:2610: UserWarning: reduction: 'mean' divides the total loss by both the batch size and the support size.'batchmean' divides only by the batch size, and aligns with the KL div math definition.'mean' will be changed to behave the same as 'batchmean' in the next major release.\n",
      "  warnings.warn(\n"
     ]
    },
    {
     "name": "stdout",
     "output_type": "stream",
     "text": [
      "Epoch 112 Current LR 0.06\n",
      "Percent of estimated labels that have remained the same since end of phase 1 0.8882\n",
      "% y_tilde equal to noisy label 0.8882\n",
      "% y_tilde equal to true label 0.9155\n",
      "Train acc 0.765, Train auroc 0.950\n",
      "Val acc 0.747, Val auroc 0.955\n"
     ]
    },
    {
     "name": "stderr",
     "output_type": "stream",
     "text": [
      "C:\\Users\\Administrator\\anaconda3\\lib\\site-packages\\torch\\nn\\functional.py:2610: UserWarning: reduction: 'mean' divides the total loss by both the batch size and the support size.'batchmean' divides only by the batch size, and aligns with the KL div math definition.'mean' will be changed to behave the same as 'batchmean' in the next major release.\n",
      "  warnings.warn(\n"
     ]
    },
    {
     "name": "stdout",
     "output_type": "stream",
     "text": [
      "Epoch 113 Current LR 0.06\n",
      "Percent of estimated labels that have remained the same since end of phase 1 0.8871\n",
      "% y_tilde equal to noisy label 0.8871\n",
      "% y_tilde equal to true label 0.9145\n",
      "Train acc 0.762, Train auroc 0.949\n",
      "Val acc 0.771, Val auroc 0.964\n"
     ]
    },
    {
     "name": "stderr",
     "output_type": "stream",
     "text": [
      "C:\\Users\\Administrator\\anaconda3\\lib\\site-packages\\torch\\nn\\functional.py:2610: UserWarning: reduction: 'mean' divides the total loss by both the batch size and the support size.'batchmean' divides only by the batch size, and aligns with the KL div math definition.'mean' will be changed to behave the same as 'batchmean' in the next major release.\n",
      "  warnings.warn(\n"
     ]
    },
    {
     "name": "stdout",
     "output_type": "stream",
     "text": [
      "Epoch 114 Current LR 0.06\n",
      "Percent of estimated labels that have remained the same since end of phase 1 0.8868\n",
      "% y_tilde equal to noisy label 0.8868\n",
      "% y_tilde equal to true label 0.9145\n",
      "Train acc 0.759, Train auroc 0.948\n",
      "Val acc 0.667, Val auroc 0.927\n"
     ]
    },
    {
     "name": "stderr",
     "output_type": "stream",
     "text": [
      "C:\\Users\\Administrator\\anaconda3\\lib\\site-packages\\torch\\nn\\functional.py:2610: UserWarning: reduction: 'mean' divides the total loss by both the batch size and the support size.'batchmean' divides only by the batch size, and aligns with the KL div math definition.'mean' will be changed to behave the same as 'batchmean' in the next major release.\n",
      "  warnings.warn(\n"
     ]
    },
    {
     "name": "stdout",
     "output_type": "stream",
     "text": [
      "Epoch 115 Current LR 0.06\n",
      "Percent of estimated labels that have remained the same since end of phase 1 0.8868\n",
      "% y_tilde equal to noisy label 0.8868\n",
      "% y_tilde equal to true label 0.9146\n",
      "Train acc 0.764, Train auroc 0.950\n",
      "Val acc 0.693, Val auroc 0.936\n"
     ]
    },
    {
     "name": "stderr",
     "output_type": "stream",
     "text": [
      "C:\\Users\\Administrator\\anaconda3\\lib\\site-packages\\torch\\nn\\functional.py:2610: UserWarning: reduction: 'mean' divides the total loss by both the batch size and the support size.'batchmean' divides only by the batch size, and aligns with the KL div math definition.'mean' will be changed to behave the same as 'batchmean' in the next major release.\n",
      "  warnings.warn(\n"
     ]
    },
    {
     "name": "stdout",
     "output_type": "stream",
     "text": [
      "Epoch 116 Current LR 0.06\n",
      "Percent of estimated labels that have remained the same since end of phase 1 0.8858\n",
      "% y_tilde equal to noisy label 0.8858\n",
      "% y_tilde equal to true label 0.9139\n",
      "Train acc 0.761, Train auroc 0.948\n",
      "Val acc 0.727, Val auroc 0.952\n"
     ]
    },
    {
     "name": "stderr",
     "output_type": "stream",
     "text": [
      "C:\\Users\\Administrator\\anaconda3\\lib\\site-packages\\torch\\nn\\functional.py:2610: UserWarning: reduction: 'mean' divides the total loss by both the batch size and the support size.'batchmean' divides only by the batch size, and aligns with the KL div math definition.'mean' will be changed to behave the same as 'batchmean' in the next major release.\n",
      "  warnings.warn(\n"
     ]
    },
    {
     "name": "stdout",
     "output_type": "stream",
     "text": [
      "Epoch 117 Current LR 0.06\n",
      "Percent of estimated labels that have remained the same since end of phase 1 0.8845\n",
      "% y_tilde equal to noisy label 0.8845\n",
      "% y_tilde equal to true label 0.9125\n",
      "Train acc 0.759, Train auroc 0.949\n",
      "Val acc 0.793, Val auroc 0.966\n"
     ]
    },
    {
     "name": "stderr",
     "output_type": "stream",
     "text": [
      "C:\\Users\\Administrator\\anaconda3\\lib\\site-packages\\torch\\nn\\functional.py:2610: UserWarning: reduction: 'mean' divides the total loss by both the batch size and the support size.'batchmean' divides only by the batch size, and aligns with the KL div math definition.'mean' will be changed to behave the same as 'batchmean' in the next major release.\n",
      "  warnings.warn(\n"
     ]
    },
    {
     "name": "stdout",
     "output_type": "stream",
     "text": [
      "Epoch 118 Current LR 0.06\n",
      "Percent of estimated labels that have remained the same since end of phase 1 0.8832\n",
      "% y_tilde equal to noisy label 0.8832\n",
      "% y_tilde equal to true label 0.9116\n",
      "Train acc 0.764, Train auroc 0.949\n",
      "Val acc 0.762, Val auroc 0.957\n"
     ]
    },
    {
     "name": "stderr",
     "output_type": "stream",
     "text": [
      "C:\\Users\\Administrator\\anaconda3\\lib\\site-packages\\torch\\nn\\functional.py:2610: UserWarning: reduction: 'mean' divides the total loss by both the batch size and the support size.'batchmean' divides only by the batch size, and aligns with the KL div math definition.'mean' will be changed to behave the same as 'batchmean' in the next major release.\n",
      "  warnings.warn(\n"
     ]
    },
    {
     "name": "stdout",
     "output_type": "stream",
     "text": [
      "Epoch 119 Current LR 0.06\n",
      "Percent of estimated labels that have remained the same since end of phase 1 0.8839\n",
      "% y_tilde equal to noisy label 0.8839\n",
      "% y_tilde equal to true label 0.9123\n",
      "Train acc 0.761, Train auroc 0.949\n",
      "Val acc 0.775, Val auroc 0.963\n"
     ]
    },
    {
     "name": "stderr",
     "output_type": "stream",
     "text": [
      "C:\\Users\\Administrator\\anaconda3\\lib\\site-packages\\torch\\nn\\functional.py:2610: UserWarning: reduction: 'mean' divides the total loss by both the batch size and the support size.'batchmean' divides only by the batch size, and aligns with the KL div math definition.'mean' will be changed to behave the same as 'batchmean' in the next major release.\n",
      "  warnings.warn(\n"
     ]
    },
    {
     "name": "stdout",
     "output_type": "stream",
     "text": [
      "Epoch 120 Current LR 0.06\n",
      "Percent of estimated labels that have remained the same since end of phase 1 0.8831\n",
      "% y_tilde equal to noisy label 0.8831\n",
      "% y_tilde equal to true label 0.911\n",
      "Train acc 0.764, Train auroc 0.950\n",
      "Val acc 0.665, Val auroc 0.926\n"
     ]
    },
    {
     "name": "stderr",
     "output_type": "stream",
     "text": [
      "C:\\Users\\Administrator\\anaconda3\\lib\\site-packages\\torch\\nn\\functional.py:2610: UserWarning: reduction: 'mean' divides the total loss by both the batch size and the support size.'batchmean' divides only by the batch size, and aligns with the KL div math definition.'mean' will be changed to behave the same as 'batchmean' in the next major release.\n",
      "  warnings.warn(\n"
     ]
    },
    {
     "name": "stdout",
     "output_type": "stream",
     "text": [
      "Epoch 121 Current LR 0.06\n",
      "Percent of estimated labels that have remained the same since end of phase 1 0.8818\n",
      "% y_tilde equal to noisy label 0.8818\n",
      "% y_tilde equal to true label 0.9102\n",
      "Train acc 0.761, Train auroc 0.950\n",
      "Val acc 0.762, Val auroc 0.958\n"
     ]
    },
    {
     "name": "stderr",
     "output_type": "stream",
     "text": [
      "C:\\Users\\Administrator\\anaconda3\\lib\\site-packages\\torch\\nn\\functional.py:2610: UserWarning: reduction: 'mean' divides the total loss by both the batch size and the support size.'batchmean' divides only by the batch size, and aligns with the KL div math definition.'mean' will be changed to behave the same as 'batchmean' in the next major release.\n",
      "  warnings.warn(\n"
     ]
    },
    {
     "name": "stdout",
     "output_type": "stream",
     "text": [
      "Epoch 122 Current LR 0.06\n",
      "Percent of estimated labels that have remained the same since end of phase 1 0.882\n",
      "% y_tilde equal to noisy label 0.882\n",
      "% y_tilde equal to true label 0.91\n",
      "Train acc 0.754, Train auroc 0.948\n",
      "Val acc 0.686, Val auroc 0.935\n"
     ]
    },
    {
     "name": "stderr",
     "output_type": "stream",
     "text": [
      "C:\\Users\\Administrator\\anaconda3\\lib\\site-packages\\torch\\nn\\functional.py:2610: UserWarning: reduction: 'mean' divides the total loss by both the batch size and the support size.'batchmean' divides only by the batch size, and aligns with the KL div math definition.'mean' will be changed to behave the same as 'batchmean' in the next major release.\n",
      "  warnings.warn(\n"
     ]
    },
    {
     "name": "stdout",
     "output_type": "stream",
     "text": [
      "Epoch 123 Current LR 0.06\n",
      "Percent of estimated labels that have remained the same since end of phase 1 0.8812\n",
      "% y_tilde equal to noisy label 0.8812\n",
      "% y_tilde equal to true label 0.9093\n",
      "Train acc 0.761, Train auroc 0.950\n",
      "Val acc 0.723, Val auroc 0.947\n"
     ]
    },
    {
     "name": "stderr",
     "output_type": "stream",
     "text": [
      "C:\\Users\\Administrator\\anaconda3\\lib\\site-packages\\torch\\nn\\functional.py:2610: UserWarning: reduction: 'mean' divides the total loss by both the batch size and the support size.'batchmean' divides only by the batch size, and aligns with the KL div math definition.'mean' will be changed to behave the same as 'batchmean' in the next major release.\n",
      "  warnings.warn(\n"
     ]
    },
    {
     "name": "stdout",
     "output_type": "stream",
     "text": [
      "Epoch 124 Current LR 0.06\n",
      "Percent of estimated labels that have remained the same since end of phase 1 0.8811\n",
      "% y_tilde equal to noisy label 0.8811\n",
      "% y_tilde equal to true label 0.9093\n",
      "Train acc 0.756, Train auroc 0.948\n",
      "Val acc 0.695, Val auroc 0.941\n"
     ]
    },
    {
     "name": "stderr",
     "output_type": "stream",
     "text": [
      "C:\\Users\\Administrator\\anaconda3\\lib\\site-packages\\torch\\nn\\functional.py:2610: UserWarning: reduction: 'mean' divides the total loss by both the batch size and the support size.'batchmean' divides only by the batch size, and aligns with the KL div math definition.'mean' will be changed to behave the same as 'batchmean' in the next major release.\n",
      "  warnings.warn(\n"
     ]
    },
    {
     "name": "stdout",
     "output_type": "stream",
     "text": [
      "Epoch 125 Current LR 0.06\n",
      "Percent of estimated labels that have remained the same since end of phase 1 0.8796\n",
      "% y_tilde equal to noisy label 0.8796\n",
      "% y_tilde equal to true label 0.9076\n",
      "Train acc 0.760, Train auroc 0.949\n",
      "Val acc 0.753, Val auroc 0.957\n"
     ]
    },
    {
     "name": "stderr",
     "output_type": "stream",
     "text": [
      "C:\\Users\\Administrator\\anaconda3\\lib\\site-packages\\torch\\nn\\functional.py:2610: UserWarning: reduction: 'mean' divides the total loss by both the batch size and the support size.'batchmean' divides only by the batch size, and aligns with the KL div math definition.'mean' will be changed to behave the same as 'batchmean' in the next major release.\n",
      "  warnings.warn(\n"
     ]
    },
    {
     "name": "stdout",
     "output_type": "stream",
     "text": [
      "Epoch 126 Current LR 0.06\n",
      "Percent of estimated labels that have remained the same since end of phase 1 0.8791\n",
      "% y_tilde equal to noisy label 0.8791\n",
      "% y_tilde equal to true label 0.9072\n",
      "Train acc 0.761, Train auroc 0.949\n",
      "Val acc 0.742, Val auroc 0.950\n"
     ]
    },
    {
     "name": "stderr",
     "output_type": "stream",
     "text": [
      "C:\\Users\\Administrator\\anaconda3\\lib\\site-packages\\torch\\nn\\functional.py:2610: UserWarning: reduction: 'mean' divides the total loss by both the batch size and the support size.'batchmean' divides only by the batch size, and aligns with the KL div math definition.'mean' will be changed to behave the same as 'batchmean' in the next major release.\n",
      "  warnings.warn(\n"
     ]
    },
    {
     "name": "stdout",
     "output_type": "stream",
     "text": [
      "Epoch 127 Current LR 0.06\n",
      "Percent of estimated labels that have remained the same since end of phase 1 0.8786\n",
      "% y_tilde equal to noisy label 0.8786\n",
      "% y_tilde equal to true label 0.9068\n",
      "Train acc 0.758, Train auroc 0.948\n",
      "Val acc 0.739, Val auroc 0.953\n"
     ]
    },
    {
     "name": "stderr",
     "output_type": "stream",
     "text": [
      "C:\\Users\\Administrator\\anaconda3\\lib\\site-packages\\torch\\nn\\functional.py:2610: UserWarning: reduction: 'mean' divides the total loss by both the batch size and the support size.'batchmean' divides only by the batch size, and aligns with the KL div math definition.'mean' will be changed to behave the same as 'batchmean' in the next major release.\n",
      "  warnings.warn(\n"
     ]
    },
    {
     "name": "stdout",
     "output_type": "stream",
     "text": [
      "Epoch 128 Current LR 0.06\n",
      "Percent of estimated labels that have remained the same since end of phase 1 0.8786\n",
      "% y_tilde equal to noisy label 0.8786\n",
      "% y_tilde equal to true label 0.9067\n",
      "Train acc 0.755, Train auroc 0.948\n",
      "Val acc 0.705, Val auroc 0.940\n"
     ]
    },
    {
     "name": "stderr",
     "output_type": "stream",
     "text": [
      "C:\\Users\\Administrator\\anaconda3\\lib\\site-packages\\torch\\nn\\functional.py:2610: UserWarning: reduction: 'mean' divides the total loss by both the batch size and the support size.'batchmean' divides only by the batch size, and aligns with the KL div math definition.'mean' will be changed to behave the same as 'batchmean' in the next major release.\n",
      "  warnings.warn(\n"
     ]
    },
    {
     "name": "stdout",
     "output_type": "stream",
     "text": [
      "Epoch 129 Current LR 0.06\n",
      "Percent of estimated labels that have remained the same since end of phase 1 0.8784\n",
      "% y_tilde equal to noisy label 0.8784\n",
      "% y_tilde equal to true label 0.9065\n",
      "Train acc 0.765, Train auroc 0.951\n",
      "Val acc 0.771, Val auroc 0.963\n"
     ]
    },
    {
     "name": "stderr",
     "output_type": "stream",
     "text": [
      "C:\\Users\\Administrator\\anaconda3\\lib\\site-packages\\torch\\nn\\functional.py:2610: UserWarning: reduction: 'mean' divides the total loss by both the batch size and the support size.'batchmean' divides only by the batch size, and aligns with the KL div math definition.'mean' will be changed to behave the same as 'batchmean' in the next major release.\n",
      "  warnings.warn(\n"
     ]
    },
    {
     "name": "stdout",
     "output_type": "stream",
     "text": [
      "Epoch 130 Current LR 0.06\n",
      "Percent of estimated labels that have remained the same since end of phase 1 0.8779\n",
      "% y_tilde equal to noisy label 0.8779\n",
      "% y_tilde equal to true label 0.9062\n",
      "Train acc 0.758, Train auroc 0.948\n",
      "Val acc 0.735, Val auroc 0.952\n"
     ]
    },
    {
     "name": "stderr",
     "output_type": "stream",
     "text": [
      "C:\\Users\\Administrator\\anaconda3\\lib\\site-packages\\torch\\nn\\functional.py:2610: UserWarning: reduction: 'mean' divides the total loss by both the batch size and the support size.'batchmean' divides only by the batch size, and aligns with the KL div math definition.'mean' will be changed to behave the same as 'batchmean' in the next major release.\n",
      "  warnings.warn(\n"
     ]
    },
    {
     "name": "stdout",
     "output_type": "stream",
     "text": [
      "Epoch 131 Current LR 0.06\n",
      "Percent of estimated labels that have remained the same since end of phase 1 0.8778\n",
      "% y_tilde equal to noisy label 0.8778\n",
      "% y_tilde equal to true label 0.9061\n",
      "Train acc 0.756, Train auroc 0.948\n",
      "Val acc 0.740, Val auroc 0.956\n"
     ]
    },
    {
     "name": "stderr",
     "output_type": "stream",
     "text": [
      "C:\\Users\\Administrator\\anaconda3\\lib\\site-packages\\torch\\nn\\functional.py:2610: UserWarning: reduction: 'mean' divides the total loss by both the batch size and the support size.'batchmean' divides only by the batch size, and aligns with the KL div math definition.'mean' will be changed to behave the same as 'batchmean' in the next major release.\n",
      "  warnings.warn(\n"
     ]
    },
    {
     "name": "stdout",
     "output_type": "stream",
     "text": [
      "Epoch 132 Current LR 0.06\n",
      "Percent of estimated labels that have remained the same since end of phase 1 0.8772\n",
      "% y_tilde equal to noisy label 0.8772\n",
      "% y_tilde equal to true label 0.9055\n",
      "Train acc 0.758, Train auroc 0.949\n",
      "Val acc 0.781, Val auroc 0.964\n"
     ]
    },
    {
     "name": "stderr",
     "output_type": "stream",
     "text": [
      "C:\\Users\\Administrator\\anaconda3\\lib\\site-packages\\torch\\nn\\functional.py:2610: UserWarning: reduction: 'mean' divides the total loss by both the batch size and the support size.'batchmean' divides only by the batch size, and aligns with the KL div math definition.'mean' will be changed to behave the same as 'batchmean' in the next major release.\n",
      "  warnings.warn(\n"
     ]
    },
    {
     "name": "stdout",
     "output_type": "stream",
     "text": [
      "Epoch 133 Current LR 0.06\n",
      "Percent of estimated labels that have remained the same since end of phase 1 0.8763\n",
      "% y_tilde equal to noisy label 0.8763\n",
      "% y_tilde equal to true label 0.904\n",
      "Train acc 0.764, Train auroc 0.951\n",
      "Val acc 0.751, Val auroc 0.955\n"
     ]
    },
    {
     "name": "stderr",
     "output_type": "stream",
     "text": [
      "C:\\Users\\Administrator\\anaconda3\\lib\\site-packages\\torch\\nn\\functional.py:2610: UserWarning: reduction: 'mean' divides the total loss by both the batch size and the support size.'batchmean' divides only by the batch size, and aligns with the KL div math definition.'mean' will be changed to behave the same as 'batchmean' in the next major release.\n",
      "  warnings.warn(\n"
     ]
    },
    {
     "name": "stdout",
     "output_type": "stream",
     "text": [
      "Epoch 134 Current LR 0.06\n",
      "Percent of estimated labels that have remained the same since end of phase 1 0.8778\n",
      "% y_tilde equal to noisy label 0.8778\n",
      "% y_tilde equal to true label 0.9055\n",
      "Train acc 0.758, Train auroc 0.949\n",
      "Val acc 0.730, Val auroc 0.951\n"
     ]
    },
    {
     "name": "stderr",
     "output_type": "stream",
     "text": [
      "C:\\Users\\Administrator\\anaconda3\\lib\\site-packages\\torch\\nn\\functional.py:2610: UserWarning: reduction: 'mean' divides the total loss by both the batch size and the support size.'batchmean' divides only by the batch size, and aligns with the KL div math definition.'mean' will be changed to behave the same as 'batchmean' in the next major release.\n",
      "  warnings.warn(\n"
     ]
    },
    {
     "name": "stdout",
     "output_type": "stream",
     "text": [
      "Epoch 135 Current LR 0.06\n",
      "Percent of estimated labels that have remained the same since end of phase 1 0.877\n",
      "% y_tilde equal to noisy label 0.877\n",
      "% y_tilde equal to true label 0.9049\n",
      "Train acc 0.757, Train auroc 0.948\n",
      "Val acc 0.687, Val auroc 0.934\n"
     ]
    },
    {
     "name": "stderr",
     "output_type": "stream",
     "text": [
      "C:\\Users\\Administrator\\anaconda3\\lib\\site-packages\\torch\\nn\\functional.py:2610: UserWarning: reduction: 'mean' divides the total loss by both the batch size and the support size.'batchmean' divides only by the batch size, and aligns with the KL div math definition.'mean' will be changed to behave the same as 'batchmean' in the next major release.\n",
      "  warnings.warn(\n"
     ]
    },
    {
     "name": "stdout",
     "output_type": "stream",
     "text": [
      "Epoch 136 Current LR 0.06\n",
      "Percent of estimated labels that have remained the same since end of phase 1 0.877\n",
      "% y_tilde equal to noisy label 0.877\n",
      "% y_tilde equal to true label 0.9047\n",
      "Train acc 0.762, Train auroc 0.950\n",
      "Val acc 0.767, Val auroc 0.960\n"
     ]
    },
    {
     "name": "stderr",
     "output_type": "stream",
     "text": [
      "C:\\Users\\Administrator\\anaconda3\\lib\\site-packages\\torch\\nn\\functional.py:2610: UserWarning: reduction: 'mean' divides the total loss by both the batch size and the support size.'batchmean' divides only by the batch size, and aligns with the KL div math definition.'mean' will be changed to behave the same as 'batchmean' in the next major release.\n",
      "  warnings.warn(\n"
     ]
    },
    {
     "name": "stdout",
     "output_type": "stream",
     "text": [
      "Epoch 137 Current LR 0.06\n",
      "Percent of estimated labels that have remained the same since end of phase 1 0.8774\n",
      "% y_tilde equal to noisy label 0.8774\n",
      "% y_tilde equal to true label 0.9054\n",
      "Train acc 0.759, Train auroc 0.950\n",
      "Val acc 0.716, Val auroc 0.945\n"
     ]
    },
    {
     "name": "stderr",
     "output_type": "stream",
     "text": [
      "C:\\Users\\Administrator\\anaconda3\\lib\\site-packages\\torch\\nn\\functional.py:2610: UserWarning: reduction: 'mean' divides the total loss by both the batch size and the support size.'batchmean' divides only by the batch size, and aligns with the KL div math definition.'mean' will be changed to behave the same as 'batchmean' in the next major release.\n",
      "  warnings.warn(\n"
     ]
    },
    {
     "name": "stdout",
     "output_type": "stream",
     "text": [
      "Epoch 138 Current LR 0.06\n",
      "Percent of estimated labels that have remained the same since end of phase 1 0.8773\n",
      "% y_tilde equal to noisy label 0.8773\n",
      "% y_tilde equal to true label 0.905\n",
      "Train acc 0.758, Train auroc 0.949\n",
      "Val acc 0.708, Val auroc 0.950\n"
     ]
    },
    {
     "name": "stderr",
     "output_type": "stream",
     "text": [
      "C:\\Users\\Administrator\\anaconda3\\lib\\site-packages\\torch\\nn\\functional.py:2610: UserWarning: reduction: 'mean' divides the total loss by both the batch size and the support size.'batchmean' divides only by the batch size, and aligns with the KL div math definition.'mean' will be changed to behave the same as 'batchmean' in the next major release.\n",
      "  warnings.warn(\n"
     ]
    },
    {
     "name": "stdout",
     "output_type": "stream",
     "text": [
      "Epoch 139 Current LR 0.06\n",
      "Percent of estimated labels that have remained the same since end of phase 1 0.8761\n",
      "% y_tilde equal to noisy label 0.8761\n",
      "% y_tilde equal to true label 0.904\n",
      "Train acc 0.758, Train auroc 0.949\n",
      "Val acc 0.770, Val auroc 0.961\n"
     ]
    },
    {
     "name": "stderr",
     "output_type": "stream",
     "text": [
      "C:\\Users\\Administrator\\anaconda3\\lib\\site-packages\\torch\\nn\\functional.py:2610: UserWarning: reduction: 'mean' divides the total loss by both the batch size and the support size.'batchmean' divides only by the batch size, and aligns with the KL div math definition.'mean' will be changed to behave the same as 'batchmean' in the next major release.\n",
      "  warnings.warn(\n"
     ]
    },
    {
     "name": "stdout",
     "output_type": "stream",
     "text": [
      "Epoch 140 Current LR 0.06\n",
      "Percent of estimated labels that have remained the same since end of phase 1 0.8753\n",
      "% y_tilde equal to noisy label 0.8753\n",
      "% y_tilde equal to true label 0.903\n",
      "Train acc 0.757, Train auroc 0.948\n",
      "Val acc 0.752, Val auroc 0.952\n"
     ]
    },
    {
     "name": "stderr",
     "output_type": "stream",
     "text": [
      "C:\\Users\\Administrator\\anaconda3\\lib\\site-packages\\torch\\nn\\functional.py:2610: UserWarning: reduction: 'mean' divides the total loss by both the batch size and the support size.'batchmean' divides only by the batch size, and aligns with the KL div math definition.'mean' will be changed to behave the same as 'batchmean' in the next major release.\n",
      "  warnings.warn(\n"
     ]
    },
    {
     "name": "stdout",
     "output_type": "stream",
     "text": [
      "Epoch 141 Current LR 0.06\n",
      "Percent of estimated labels that have remained the same since end of phase 1 0.8749\n",
      "% y_tilde equal to noisy label 0.8749\n",
      "% y_tilde equal to true label 0.903\n",
      "Train acc 0.756, Train auroc 0.949\n",
      "Val acc 0.774, Val auroc 0.964\n"
     ]
    },
    {
     "name": "stderr",
     "output_type": "stream",
     "text": [
      "C:\\Users\\Administrator\\anaconda3\\lib\\site-packages\\torch\\nn\\functional.py:2610: UserWarning: reduction: 'mean' divides the total loss by both the batch size and the support size.'batchmean' divides only by the batch size, and aligns with the KL div math definition.'mean' will be changed to behave the same as 'batchmean' in the next major release.\n",
      "  warnings.warn(\n"
     ]
    },
    {
     "name": "stdout",
     "output_type": "stream",
     "text": [
      "Epoch 142 Current LR 0.06\n",
      "Percent of estimated labels that have remained the same since end of phase 1 0.8744\n",
      "% y_tilde equal to noisy label 0.8744\n",
      "% y_tilde equal to true label 0.9022\n",
      "Train acc 0.758, Train auroc 0.948\n",
      "Val acc 0.741, Val auroc 0.950\n"
     ]
    },
    {
     "name": "stderr",
     "output_type": "stream",
     "text": [
      "C:\\Users\\Administrator\\anaconda3\\lib\\site-packages\\torch\\nn\\functional.py:2610: UserWarning: reduction: 'mean' divides the total loss by both the batch size and the support size.'batchmean' divides only by the batch size, and aligns with the KL div math definition.'mean' will be changed to behave the same as 'batchmean' in the next major release.\n",
      "  warnings.warn(\n"
     ]
    },
    {
     "name": "stdout",
     "output_type": "stream",
     "text": [
      "Epoch 143 Current LR 0.06\n",
      "Percent of estimated labels that have remained the same since end of phase 1 0.8738\n",
      "% y_tilde equal to noisy label 0.8738\n",
      "% y_tilde equal to true label 0.9014\n",
      "Train acc 0.753, Train auroc 0.948\n",
      "Val acc 0.777, Val auroc 0.963\n"
     ]
    },
    {
     "name": "stderr",
     "output_type": "stream",
     "text": [
      "C:\\Users\\Administrator\\anaconda3\\lib\\site-packages\\torch\\nn\\functional.py:2610: UserWarning: reduction: 'mean' divides the total loss by both the batch size and the support size.'batchmean' divides only by the batch size, and aligns with the KL div math definition.'mean' will be changed to behave the same as 'batchmean' in the next major release.\n",
      "  warnings.warn(\n"
     ]
    },
    {
     "name": "stdout",
     "output_type": "stream",
     "text": [
      "Epoch 144 Current LR 0.06\n",
      "Percent of estimated labels that have remained the same since end of phase 1 0.8736\n",
      "% y_tilde equal to noisy label 0.8736\n",
      "% y_tilde equal to true label 0.9011\n",
      "Train acc 0.757, Train auroc 0.949\n",
      "Val acc 0.652, Val auroc 0.916\n"
     ]
    },
    {
     "name": "stderr",
     "output_type": "stream",
     "text": [
      "C:\\Users\\Administrator\\anaconda3\\lib\\site-packages\\torch\\nn\\functional.py:2610: UserWarning: reduction: 'mean' divides the total loss by both the batch size and the support size.'batchmean' divides only by the batch size, and aligns with the KL div math definition.'mean' will be changed to behave the same as 'batchmean' in the next major release.\n",
      "  warnings.warn(\n"
     ]
    },
    {
     "name": "stdout",
     "output_type": "stream",
     "text": [
      "Epoch 145 Current LR 0.06\n",
      "Percent of estimated labels that have remained the same since end of phase 1 0.8734\n",
      "% y_tilde equal to noisy label 0.8734\n",
      "% y_tilde equal to true label 0.9011\n",
      "Train acc 0.764, Train auroc 0.951\n",
      "Val acc 0.715, Val auroc 0.948\n"
     ]
    },
    {
     "name": "stderr",
     "output_type": "stream",
     "text": [
      "C:\\Users\\Administrator\\anaconda3\\lib\\site-packages\\torch\\nn\\functional.py:2610: UserWarning: reduction: 'mean' divides the total loss by both the batch size and the support size.'batchmean' divides only by the batch size, and aligns with the KL div math definition.'mean' will be changed to behave the same as 'batchmean' in the next major release.\n",
      "  warnings.warn(\n"
     ]
    },
    {
     "name": "stdout",
     "output_type": "stream",
     "text": [
      "Epoch 146 Current LR 0.06\n",
      "Percent of estimated labels that have remained the same since end of phase 1 0.8736\n",
      "% y_tilde equal to noisy label 0.8736\n",
      "% y_tilde equal to true label 0.9009\n",
      "Train acc 0.750, Train auroc 0.947\n",
      "Val acc 0.751, Val auroc 0.957\n"
     ]
    },
    {
     "name": "stderr",
     "output_type": "stream",
     "text": [
      "C:\\Users\\Administrator\\anaconda3\\lib\\site-packages\\torch\\nn\\functional.py:2610: UserWarning: reduction: 'mean' divides the total loss by both the batch size and the support size.'batchmean' divides only by the batch size, and aligns with the KL div math definition.'mean' will be changed to behave the same as 'batchmean' in the next major release.\n",
      "  warnings.warn(\n"
     ]
    },
    {
     "name": "stdout",
     "output_type": "stream",
     "text": [
      "Epoch 147 Current LR 0.06\n",
      "Percent of estimated labels that have remained the same since end of phase 1 0.8733\n",
      "% y_tilde equal to noisy label 0.8733\n",
      "% y_tilde equal to true label 0.9006\n",
      "Train acc 0.762, Train auroc 0.950\n",
      "Val acc 0.733, Val auroc 0.949\n"
     ]
    },
    {
     "name": "stderr",
     "output_type": "stream",
     "text": [
      "C:\\Users\\Administrator\\anaconda3\\lib\\site-packages\\torch\\nn\\functional.py:2610: UserWarning: reduction: 'mean' divides the total loss by both the batch size and the support size.'batchmean' divides only by the batch size, and aligns with the KL div math definition.'mean' will be changed to behave the same as 'batchmean' in the next major release.\n",
      "  warnings.warn(\n"
     ]
    },
    {
     "name": "stdout",
     "output_type": "stream",
     "text": [
      "Epoch 148 Current LR 0.06\n",
      "Percent of estimated labels that have remained the same since end of phase 1 0.8725\n",
      "% y_tilde equal to noisy label 0.8725\n",
      "% y_tilde equal to true label 0.9002\n",
      "Train acc 0.758, Train auroc 0.948\n",
      "Val acc 0.663, Val auroc 0.928\n"
     ]
    },
    {
     "name": "stderr",
     "output_type": "stream",
     "text": [
      "C:\\Users\\Administrator\\anaconda3\\lib\\site-packages\\torch\\nn\\functional.py:2610: UserWarning: reduction: 'mean' divides the total loss by both the batch size and the support size.'batchmean' divides only by the batch size, and aligns with the KL div math definition.'mean' will be changed to behave the same as 'batchmean' in the next major release.\n",
      "  warnings.warn(\n"
     ]
    },
    {
     "name": "stdout",
     "output_type": "stream",
     "text": [
      "Epoch 149 Current LR 0.06\n",
      "Percent of estimated labels that have remained the same since end of phase 1 0.8738\n",
      "% y_tilde equal to noisy label 0.8738\n",
      "% y_tilde equal to true label 0.9015\n",
      "Train acc 0.756, Train auroc 0.949\n",
      "Val acc 0.770, Val auroc 0.963\n"
     ]
    },
    {
     "name": "stderr",
     "output_type": "stream",
     "text": [
      "C:\\Users\\Administrator\\anaconda3\\lib\\site-packages\\torch\\nn\\functional.py:2610: UserWarning: reduction: 'mean' divides the total loss by both the batch size and the support size.'batchmean' divides only by the batch size, and aligns with the KL div math definition.'mean' will be changed to behave the same as 'batchmean' in the next major release.\n",
      "  warnings.warn(\n"
     ]
    },
    {
     "name": "stdout",
     "output_type": "stream",
     "text": [
      "Epoch 150 Current LR 0.06\n",
      "Percent of estimated labels that have remained the same since end of phase 1 0.873\n",
      "% y_tilde equal to noisy label 0.873\n",
      "% y_tilde equal to true label 0.9007\n",
      "Train acc 0.760, Train auroc 0.949\n",
      "Val acc 0.745, Val auroc 0.953\n"
     ]
    },
    {
     "name": "stderr",
     "output_type": "stream",
     "text": [
      "C:\\Users\\Administrator\\anaconda3\\lib\\site-packages\\torch\\nn\\functional.py:2610: UserWarning: reduction: 'mean' divides the total loss by both the batch size and the support size.'batchmean' divides only by the batch size, and aligns with the KL div math definition.'mean' will be changed to behave the same as 'batchmean' in the next major release.\n",
      "  warnings.warn(\n"
     ]
    },
    {
     "name": "stdout",
     "output_type": "stream",
     "text": [
      "Epoch 151 Current LR 0.06\n",
      "Percent of estimated labels that have remained the same since end of phase 1 0.873\n",
      "% y_tilde equal to noisy label 0.873\n",
      "% y_tilde equal to true label 0.9005\n",
      "Train acc 0.756, Train auroc 0.949\n",
      "Val acc 0.691, Val auroc 0.938\n"
     ]
    },
    {
     "name": "stderr",
     "output_type": "stream",
     "text": [
      "C:\\Users\\Administrator\\anaconda3\\lib\\site-packages\\torch\\nn\\functional.py:2610: UserWarning: reduction: 'mean' divides the total loss by both the batch size and the support size.'batchmean' divides only by the batch size, and aligns with the KL div math definition.'mean' will be changed to behave the same as 'batchmean' in the next major release.\n",
      "  warnings.warn(\n"
     ]
    },
    {
     "name": "stdout",
     "output_type": "stream",
     "text": [
      "Epoch 152 Current LR 0.06\n",
      "Percent of estimated labels that have remained the same since end of phase 1 0.8725\n",
      "% y_tilde equal to noisy label 0.8725\n",
      "% y_tilde equal to true label 0.9\n",
      "Train acc 0.755, Train auroc 0.949\n",
      "Val acc 0.730, Val auroc 0.951\n"
     ]
    },
    {
     "name": "stderr",
     "output_type": "stream",
     "text": [
      "C:\\Users\\Administrator\\anaconda3\\lib\\site-packages\\torch\\nn\\functional.py:2610: UserWarning: reduction: 'mean' divides the total loss by both the batch size and the support size.'batchmean' divides only by the batch size, and aligns with the KL div math definition.'mean' will be changed to behave the same as 'batchmean' in the next major release.\n",
      "  warnings.warn(\n"
     ]
    },
    {
     "name": "stdout",
     "output_type": "stream",
     "text": [
      "Epoch 153 Current LR 0.06\n",
      "Percent of estimated labels that have remained the same since end of phase 1 0.8731\n",
      "% y_tilde equal to noisy label 0.8731\n",
      "% y_tilde equal to true label 0.9006\n",
      "Train acc 0.761, Train auroc 0.950\n",
      "Val acc 0.729, Val auroc 0.952\n"
     ]
    },
    {
     "name": "stderr",
     "output_type": "stream",
     "text": [
      "C:\\Users\\Administrator\\anaconda3\\lib\\site-packages\\torch\\nn\\functional.py:2610: UserWarning: reduction: 'mean' divides the total loss by both the batch size and the support size.'batchmean' divides only by the batch size, and aligns with the KL div math definition.'mean' will be changed to behave the same as 'batchmean' in the next major release.\n",
      "  warnings.warn(\n"
     ]
    },
    {
     "name": "stdout",
     "output_type": "stream",
     "text": [
      "Epoch 154 Current LR 0.06\n",
      "Percent of estimated labels that have remained the same since end of phase 1 0.8722\n",
      "% y_tilde equal to noisy label 0.8722\n",
      "% y_tilde equal to true label 0.8994\n",
      "Train acc 0.760, Train auroc 0.950\n",
      "Val acc 0.731, Val auroc 0.949\n"
     ]
    },
    {
     "name": "stderr",
     "output_type": "stream",
     "text": [
      "C:\\Users\\Administrator\\anaconda3\\lib\\site-packages\\torch\\nn\\functional.py:2610: UserWarning: reduction: 'mean' divides the total loss by both the batch size and the support size.'batchmean' divides only by the batch size, and aligns with the KL div math definition.'mean' will be changed to behave the same as 'batchmean' in the next major release.\n",
      "  warnings.warn(\n"
     ]
    },
    {
     "name": "stdout",
     "output_type": "stream",
     "text": [
      "Epoch 155 Current LR 0.06\n",
      "Percent of estimated labels that have remained the same since end of phase 1 0.8712\n",
      "% y_tilde equal to noisy label 0.8712\n",
      "% y_tilde equal to true label 0.8985\n",
      "Train acc 0.751, Train auroc 0.947\n",
      "Val acc 0.692, Val auroc 0.936\n"
     ]
    },
    {
     "name": "stderr",
     "output_type": "stream",
     "text": [
      "C:\\Users\\Administrator\\anaconda3\\lib\\site-packages\\torch\\nn\\functional.py:2610: UserWarning: reduction: 'mean' divides the total loss by both the batch size and the support size.'batchmean' divides only by the batch size, and aligns with the KL div math definition.'mean' will be changed to behave the same as 'batchmean' in the next major release.\n",
      "  warnings.warn(\n"
     ]
    },
    {
     "name": "stdout",
     "output_type": "stream",
     "text": [
      "Epoch 156 Current LR 0.06\n",
      "Percent of estimated labels that have remained the same since end of phase 1 0.8721\n",
      "% y_tilde equal to noisy label 0.8721\n",
      "% y_tilde equal to true label 0.8994\n",
      "Train acc 0.758, Train auroc 0.949\n",
      "Val acc 0.730, Val auroc 0.951\n"
     ]
    },
    {
     "name": "stderr",
     "output_type": "stream",
     "text": [
      "C:\\Users\\Administrator\\anaconda3\\lib\\site-packages\\torch\\nn\\functional.py:2610: UserWarning: reduction: 'mean' divides the total loss by both the batch size and the support size.'batchmean' divides only by the batch size, and aligns with the KL div math definition.'mean' will be changed to behave the same as 'batchmean' in the next major release.\n",
      "  warnings.warn(\n"
     ]
    },
    {
     "name": "stdout",
     "output_type": "stream",
     "text": [
      "Epoch 157 Current LR 0.06\n",
      "Percent of estimated labels that have remained the same since end of phase 1 0.871\n",
      "% y_tilde equal to noisy label 0.871\n",
      "% y_tilde equal to true label 0.8985\n",
      "Train acc 0.760, Train auroc 0.951\n",
      "Val acc 0.760, Val auroc 0.961\n"
     ]
    },
    {
     "name": "stderr",
     "output_type": "stream",
     "text": [
      "C:\\Users\\Administrator\\anaconda3\\lib\\site-packages\\torch\\nn\\functional.py:2610: UserWarning: reduction: 'mean' divides the total loss by both the batch size and the support size.'batchmean' divides only by the batch size, and aligns with the KL div math definition.'mean' will be changed to behave the same as 'batchmean' in the next major release.\n",
      "  warnings.warn(\n"
     ]
    },
    {
     "name": "stdout",
     "output_type": "stream",
     "text": [
      "Epoch 158 Current LR 0.06\n",
      "Percent of estimated labels that have remained the same since end of phase 1 0.8713\n",
      "% y_tilde equal to noisy label 0.8713\n",
      "% y_tilde equal to true label 0.8989\n",
      "Train acc 0.758, Train auroc 0.949\n",
      "Val acc 0.746, Val auroc 0.956\n"
     ]
    },
    {
     "name": "stderr",
     "output_type": "stream",
     "text": [
      "C:\\Users\\Administrator\\anaconda3\\lib\\site-packages\\torch\\nn\\functional.py:2610: UserWarning: reduction: 'mean' divides the total loss by both the batch size and the support size.'batchmean' divides only by the batch size, and aligns with the KL div math definition.'mean' will be changed to behave the same as 'batchmean' in the next major release.\n",
      "  warnings.warn(\n"
     ]
    },
    {
     "name": "stdout",
     "output_type": "stream",
     "text": [
      "Epoch 159 Current LR 0.06\n",
      "Percent of estimated labels that have remained the same since end of phase 1 0.8713\n",
      "% y_tilde equal to noisy label 0.8713\n",
      "% y_tilde equal to true label 0.8985\n",
      "Train acc 0.758, Train auroc 0.950\n",
      "Val acc 0.763, Val auroc 0.957\n"
     ]
    },
    {
     "name": "stderr",
     "output_type": "stream",
     "text": [
      "C:\\Users\\Administrator\\anaconda3\\lib\\site-packages\\torch\\nn\\functional.py:2610: UserWarning: reduction: 'mean' divides the total loss by both the batch size and the support size.'batchmean' divides only by the batch size, and aligns with the KL div math definition.'mean' will be changed to behave the same as 'batchmean' in the next major release.\n",
      "  warnings.warn(\n"
     ]
    },
    {
     "name": "stdout",
     "output_type": "stream",
     "text": [
      "Epoch 160 Current LR 0.06\n",
      "Percent of estimated labels that have remained the same since end of phase 1 0.8704\n",
      "% y_tilde equal to noisy label 0.8704\n",
      "% y_tilde equal to true label 0.8977\n",
      "Train acc 0.756, Train auroc 0.949\n",
      "Val acc 0.786, Val auroc 0.966\n"
     ]
    },
    {
     "name": "stderr",
     "output_type": "stream",
     "text": [
      "C:\\Users\\Administrator\\anaconda3\\lib\\site-packages\\torch\\nn\\functional.py:2610: UserWarning: reduction: 'mean' divides the total loss by both the batch size and the support size.'batchmean' divides only by the batch size, and aligns with the KL div math definition.'mean' will be changed to behave the same as 'batchmean' in the next major release.\n",
      "  warnings.warn(\n"
     ]
    },
    {
     "name": "stdout",
     "output_type": "stream",
     "text": [
      "Epoch 161 Current LR 0.06\n",
      "Percent of estimated labels that have remained the same since end of phase 1 0.871\n",
      "% y_tilde equal to noisy label 0.871\n",
      "% y_tilde equal to true label 0.8983\n",
      "Train acc 0.755, Train auroc 0.949\n",
      "Val acc 0.720, Val auroc 0.947\n"
     ]
    },
    {
     "name": "stderr",
     "output_type": "stream",
     "text": [
      "C:\\Users\\Administrator\\anaconda3\\lib\\site-packages\\torch\\nn\\functional.py:2610: UserWarning: reduction: 'mean' divides the total loss by both the batch size and the support size.'batchmean' divides only by the batch size, and aligns with the KL div math definition.'mean' will be changed to behave the same as 'batchmean' in the next major release.\n",
      "  warnings.warn(\n"
     ]
    },
    {
     "name": "stdout",
     "output_type": "stream",
     "text": [
      "Epoch 162 Current LR 0.06\n",
      "Percent of estimated labels that have remained the same since end of phase 1 0.8718\n",
      "% y_tilde equal to noisy label 0.8718\n",
      "% y_tilde equal to true label 0.8993\n",
      "Train acc 0.757, Train auroc 0.950\n",
      "Val acc 0.778, Val auroc 0.964\n"
     ]
    },
    {
     "name": "stderr",
     "output_type": "stream",
     "text": [
      "C:\\Users\\Administrator\\anaconda3\\lib\\site-packages\\torch\\nn\\functional.py:2610: UserWarning: reduction: 'mean' divides the total loss by both the batch size and the support size.'batchmean' divides only by the batch size, and aligns with the KL div math definition.'mean' will be changed to behave the same as 'batchmean' in the next major release.\n",
      "  warnings.warn(\n"
     ]
    },
    {
     "name": "stdout",
     "output_type": "stream",
     "text": [
      "Epoch 163 Current LR 0.06\n",
      "Percent of estimated labels that have remained the same since end of phase 1 0.8716\n",
      "% y_tilde equal to noisy label 0.8716\n",
      "% y_tilde equal to true label 0.8991\n",
      "Train acc 0.760, Train auroc 0.949\n",
      "Val acc 0.719, Val auroc 0.948\n"
     ]
    },
    {
     "name": "stderr",
     "output_type": "stream",
     "text": [
      "C:\\Users\\Administrator\\anaconda3\\lib\\site-packages\\torch\\nn\\functional.py:2610: UserWarning: reduction: 'mean' divides the total loss by both the batch size and the support size.'batchmean' divides only by the batch size, and aligns with the KL div math definition.'mean' will be changed to behave the same as 'batchmean' in the next major release.\n",
      "  warnings.warn(\n"
     ]
    },
    {
     "name": "stdout",
     "output_type": "stream",
     "text": [
      "Epoch 164 Current LR 0.06\n",
      "Percent of estimated labels that have remained the same since end of phase 1 0.8708\n",
      "% y_tilde equal to noisy label 0.8708\n",
      "% y_tilde equal to true label 0.8985\n",
      "Train acc 0.755, Train auroc 0.948\n",
      "Val acc 0.730, Val auroc 0.949\n"
     ]
    },
    {
     "name": "stderr",
     "output_type": "stream",
     "text": [
      "C:\\Users\\Administrator\\anaconda3\\lib\\site-packages\\torch\\nn\\functional.py:2610: UserWarning: reduction: 'mean' divides the total loss by both the batch size and the support size.'batchmean' divides only by the batch size, and aligns with the KL div math definition.'mean' will be changed to behave the same as 'batchmean' in the next major release.\n",
      "  warnings.warn(\n"
     ]
    },
    {
     "name": "stdout",
     "output_type": "stream",
     "text": [
      "Epoch 165 Current LR 0.06\n",
      "Percent of estimated labels that have remained the same since end of phase 1 0.8709\n",
      "% y_tilde equal to noisy label 0.8709\n",
      "% y_tilde equal to true label 0.8987\n",
      "Train acc 0.760, Train auroc 0.950\n",
      "Val acc 0.760, Val auroc 0.957\n"
     ]
    },
    {
     "name": "stderr",
     "output_type": "stream",
     "text": [
      "C:\\Users\\Administrator\\anaconda3\\lib\\site-packages\\torch\\nn\\functional.py:2610: UserWarning: reduction: 'mean' divides the total loss by both the batch size and the support size.'batchmean' divides only by the batch size, and aligns with the KL div math definition.'mean' will be changed to behave the same as 'batchmean' in the next major release.\n",
      "  warnings.warn(\n"
     ]
    },
    {
     "name": "stdout",
     "output_type": "stream",
     "text": [
      "Epoch 166 Current LR 0.06\n",
      "Percent of estimated labels that have remained the same since end of phase 1 0.871\n",
      "% y_tilde equal to noisy label 0.871\n",
      "% y_tilde equal to true label 0.8988\n",
      "Train acc 0.758, Train auroc 0.949\n",
      "Val acc 0.736, Val auroc 0.952\n"
     ]
    },
    {
     "name": "stderr",
     "output_type": "stream",
     "text": [
      "C:\\Users\\Administrator\\anaconda3\\lib\\site-packages\\torch\\nn\\functional.py:2610: UserWarning: reduction: 'mean' divides the total loss by both the batch size and the support size.'batchmean' divides only by the batch size, and aligns with the KL div math definition.'mean' will be changed to behave the same as 'batchmean' in the next major release.\n",
      "  warnings.warn(\n"
     ]
    },
    {
     "name": "stdout",
     "output_type": "stream",
     "text": [
      "Epoch 167 Current LR 0.06\n",
      "Percent of estimated labels that have remained the same since end of phase 1 0.8708\n",
      "% y_tilde equal to noisy label 0.8708\n",
      "% y_tilde equal to true label 0.8984\n",
      "Train acc 0.756, Train auroc 0.949\n",
      "Val acc 0.625, Val auroc 0.922\n"
     ]
    },
    {
     "name": "stderr",
     "output_type": "stream",
     "text": [
      "C:\\Users\\Administrator\\anaconda3\\lib\\site-packages\\torch\\nn\\functional.py:2610: UserWarning: reduction: 'mean' divides the total loss by both the batch size and the support size.'batchmean' divides only by the batch size, and aligns with the KL div math definition.'mean' will be changed to behave the same as 'batchmean' in the next major release.\n",
      "  warnings.warn(\n"
     ]
    },
    {
     "name": "stdout",
     "output_type": "stream",
     "text": [
      "Epoch 168 Current LR 0.06\n",
      "Percent of estimated labels that have remained the same since end of phase 1 0.8708\n",
      "% y_tilde equal to noisy label 0.8708\n",
      "% y_tilde equal to true label 0.8982\n",
      "Train acc 0.757, Train auroc 0.949\n",
      "Val acc 0.750, Val auroc 0.952\n"
     ]
    },
    {
     "name": "stderr",
     "output_type": "stream",
     "text": [
      "C:\\Users\\Administrator\\anaconda3\\lib\\site-packages\\torch\\nn\\functional.py:2610: UserWarning: reduction: 'mean' divides the total loss by both the batch size and the support size.'batchmean' divides only by the batch size, and aligns with the KL div math definition.'mean' will be changed to behave the same as 'batchmean' in the next major release.\n",
      "  warnings.warn(\n"
     ]
    },
    {
     "name": "stdout",
     "output_type": "stream",
     "text": [
      "Epoch 169 Current LR 0.06\n",
      "Percent of estimated labels that have remained the same since end of phase 1 0.8702\n",
      "% y_tilde equal to noisy label 0.8702\n",
      "% y_tilde equal to true label 0.8977\n",
      "Train acc 0.754, Train auroc 0.949\n",
      "Val acc 0.748, Val auroc 0.958\n"
     ]
    },
    {
     "name": "stderr",
     "output_type": "stream",
     "text": [
      "C:\\Users\\Administrator\\anaconda3\\lib\\site-packages\\torch\\nn\\functional.py:2610: UserWarning: reduction: 'mean' divides the total loss by both the batch size and the support size.'batchmean' divides only by the batch size, and aligns with the KL div math definition.'mean' will be changed to behave the same as 'batchmean' in the next major release.\n",
      "  warnings.warn(\n"
     ]
    },
    {
     "name": "stdout",
     "output_type": "stream",
     "text": [
      "Epoch 170 Current LR 0.06\n",
      "Percent of estimated labels that have remained the same since end of phase 1 0.8698\n",
      "% y_tilde equal to noisy label 0.8698\n",
      "% y_tilde equal to true label 0.8974\n",
      "Train acc 0.755, Train auroc 0.948\n",
      "Val acc 0.748, Val auroc 0.957\n"
     ]
    },
    {
     "name": "stderr",
     "output_type": "stream",
     "text": [
      "C:\\Users\\Administrator\\anaconda3\\lib\\site-packages\\torch\\nn\\functional.py:2610: UserWarning: reduction: 'mean' divides the total loss by both the batch size and the support size.'batchmean' divides only by the batch size, and aligns with the KL div math definition.'mean' will be changed to behave the same as 'batchmean' in the next major release.\n",
      "  warnings.warn(\n"
     ]
    },
    {
     "name": "stdout",
     "output_type": "stream",
     "text": [
      "Epoch 171 Current LR 0.06\n",
      "Percent of estimated labels that have remained the same since end of phase 1 0.8701\n",
      "% y_tilde equal to noisy label 0.8701\n",
      "% y_tilde equal to true label 0.8976\n",
      "Train acc 0.759, Train auroc 0.950\n",
      "Val acc 0.772, Val auroc 0.963\n"
     ]
    },
    {
     "name": "stderr",
     "output_type": "stream",
     "text": [
      "C:\\Users\\Administrator\\anaconda3\\lib\\site-packages\\torch\\nn\\functional.py:2610: UserWarning: reduction: 'mean' divides the total loss by both the batch size and the support size.'batchmean' divides only by the batch size, and aligns with the KL div math definition.'mean' will be changed to behave the same as 'batchmean' in the next major release.\n",
      "  warnings.warn(\n"
     ]
    },
    {
     "name": "stdout",
     "output_type": "stream",
     "text": [
      "Epoch 172 Current LR 0.06\n",
      "Percent of estimated labels that have remained the same since end of phase 1 0.8702\n",
      "% y_tilde equal to noisy label 0.8702\n",
      "% y_tilde equal to true label 0.8982\n",
      "Train acc 0.758, Train auroc 0.949\n",
      "Val acc 0.776, Val auroc 0.961\n"
     ]
    },
    {
     "name": "stderr",
     "output_type": "stream",
     "text": [
      "C:\\Users\\Administrator\\anaconda3\\lib\\site-packages\\torch\\nn\\functional.py:2610: UserWarning: reduction: 'mean' divides the total loss by both the batch size and the support size.'batchmean' divides only by the batch size, and aligns with the KL div math definition.'mean' will be changed to behave the same as 'batchmean' in the next major release.\n",
      "  warnings.warn(\n"
     ]
    },
    {
     "name": "stdout",
     "output_type": "stream",
     "text": [
      "Epoch 173 Current LR 0.06\n",
      "Percent of estimated labels that have remained the same since end of phase 1 0.8707\n",
      "% y_tilde equal to noisy label 0.8707\n",
      "% y_tilde equal to true label 0.8981\n",
      "Train acc 0.756, Train auroc 0.948\n",
      "Val acc 0.748, Val auroc 0.955\n"
     ]
    },
    {
     "name": "stderr",
     "output_type": "stream",
     "text": [
      "C:\\Users\\Administrator\\anaconda3\\lib\\site-packages\\torch\\nn\\functional.py:2610: UserWarning: reduction: 'mean' divides the total loss by both the batch size and the support size.'batchmean' divides only by the batch size, and aligns with the KL div math definition.'mean' will be changed to behave the same as 'batchmean' in the next major release.\n",
      "  warnings.warn(\n"
     ]
    },
    {
     "name": "stdout",
     "output_type": "stream",
     "text": [
      "Epoch 174 Current LR 0.06\n",
      "Percent of estimated labels that have remained the same since end of phase 1 0.8698\n",
      "% y_tilde equal to noisy label 0.8698\n",
      "% y_tilde equal to true label 0.8979\n",
      "Train acc 0.758, Train auroc 0.949\n",
      "Val acc 0.784, Val auroc 0.967\n"
     ]
    },
    {
     "name": "stderr",
     "output_type": "stream",
     "text": [
      "C:\\Users\\Administrator\\anaconda3\\lib\\site-packages\\torch\\nn\\functional.py:2610: UserWarning: reduction: 'mean' divides the total loss by both the batch size and the support size.'batchmean' divides only by the batch size, and aligns with the KL div math definition.'mean' will be changed to behave the same as 'batchmean' in the next major release.\n",
      "  warnings.warn(\n"
     ]
    },
    {
     "name": "stdout",
     "output_type": "stream",
     "text": [
      "Epoch 175 Current LR 0.06\n",
      "Percent of estimated labels that have remained the same since end of phase 1 0.8694\n",
      "% y_tilde equal to noisy label 0.8694\n",
      "% y_tilde equal to true label 0.8972\n",
      "Train acc 0.754, Train auroc 0.948\n",
      "Val acc 0.672, Val auroc 0.933\n"
     ]
    },
    {
     "name": "stderr",
     "output_type": "stream",
     "text": [
      "C:\\Users\\Administrator\\anaconda3\\lib\\site-packages\\torch\\nn\\functional.py:2610: UserWarning: reduction: 'mean' divides the total loss by both the batch size and the support size.'batchmean' divides only by the batch size, and aligns with the KL div math definition.'mean' will be changed to behave the same as 'batchmean' in the next major release.\n",
      "  warnings.warn(\n"
     ]
    },
    {
     "name": "stdout",
     "output_type": "stream",
     "text": [
      "Epoch 176 Current LR 0.06\n",
      "Percent of estimated labels that have remained the same since end of phase 1 0.8692\n",
      "% y_tilde equal to noisy label 0.8692\n",
      "% y_tilde equal to true label 0.8974\n",
      "Train acc 0.755, Train auroc 0.949\n",
      "Val acc 0.763, Val auroc 0.958\n"
     ]
    },
    {
     "name": "stderr",
     "output_type": "stream",
     "text": [
      "C:\\Users\\Administrator\\anaconda3\\lib\\site-packages\\torch\\nn\\functional.py:2610: UserWarning: reduction: 'mean' divides the total loss by both the batch size and the support size.'batchmean' divides only by the batch size, and aligns with the KL div math definition.'mean' will be changed to behave the same as 'batchmean' in the next major release.\n",
      "  warnings.warn(\n"
     ]
    },
    {
     "name": "stdout",
     "output_type": "stream",
     "text": [
      "Epoch 177 Current LR 0.06\n",
      "Percent of estimated labels that have remained the same since end of phase 1 0.8699\n",
      "% y_tilde equal to noisy label 0.8699\n",
      "% y_tilde equal to true label 0.8972\n",
      "Train acc 0.757, Train auroc 0.949\n",
      "Val acc 0.711, Val auroc 0.946\n"
     ]
    },
    {
     "name": "stderr",
     "output_type": "stream",
     "text": [
      "C:\\Users\\Administrator\\anaconda3\\lib\\site-packages\\torch\\nn\\functional.py:2610: UserWarning: reduction: 'mean' divides the total loss by both the batch size and the support size.'batchmean' divides only by the batch size, and aligns with the KL div math definition.'mean' will be changed to behave the same as 'batchmean' in the next major release.\n",
      "  warnings.warn(\n"
     ]
    },
    {
     "name": "stdout",
     "output_type": "stream",
     "text": [
      "Epoch 178 Current LR 0.06\n",
      "Percent of estimated labels that have remained the same since end of phase 1 0.8697\n",
      "% y_tilde equal to noisy label 0.8697\n",
      "% y_tilde equal to true label 0.8972\n",
      "Train acc 0.755, Train auroc 0.949\n",
      "Val acc 0.744, Val auroc 0.950\n"
     ]
    },
    {
     "name": "stderr",
     "output_type": "stream",
     "text": [
      "C:\\Users\\Administrator\\anaconda3\\lib\\site-packages\\torch\\nn\\functional.py:2610: UserWarning: reduction: 'mean' divides the total loss by both the batch size and the support size.'batchmean' divides only by the batch size, and aligns with the KL div math definition.'mean' will be changed to behave the same as 'batchmean' in the next major release.\n",
      "  warnings.warn(\n"
     ]
    },
    {
     "name": "stdout",
     "output_type": "stream",
     "text": [
      "Epoch 179 Current LR 0.06\n",
      "Percent of estimated labels that have remained the same since end of phase 1 0.8697\n",
      "% y_tilde equal to noisy label 0.8697\n",
      "% y_tilde equal to true label 0.8968\n",
      "Train acc 0.754, Train auroc 0.950\n",
      "Val acc 0.695, Val auroc 0.941\n"
     ]
    },
    {
     "name": "stderr",
     "output_type": "stream",
     "text": [
      "C:\\Users\\Administrator\\anaconda3\\lib\\site-packages\\torch\\nn\\functional.py:2610: UserWarning: reduction: 'mean' divides the total loss by both the batch size and the support size.'batchmean' divides only by the batch size, and aligns with the KL div math definition.'mean' will be changed to behave the same as 'batchmean' in the next major release.\n",
      "  warnings.warn(\n"
     ]
    },
    {
     "name": "stdout",
     "output_type": "stream",
     "text": [
      "Epoch 180 Current LR 0.06\n",
      "Percent of estimated labels that have remained the same since end of phase 1 0.8689\n",
      "% y_tilde equal to noisy label 0.8689\n",
      "% y_tilde equal to true label 0.8966\n",
      "Train acc 0.758, Train auroc 0.949\n",
      "Val acc 0.768, Val auroc 0.961\n"
     ]
    },
    {
     "name": "stderr",
     "output_type": "stream",
     "text": [
      "C:\\Users\\Administrator\\anaconda3\\lib\\site-packages\\torch\\nn\\functional.py:2610: UserWarning: reduction: 'mean' divides the total loss by both the batch size and the support size.'batchmean' divides only by the batch size, and aligns with the KL div math definition.'mean' will be changed to behave the same as 'batchmean' in the next major release.\n",
      "  warnings.warn(\n"
     ]
    },
    {
     "name": "stdout",
     "output_type": "stream",
     "text": [
      "Epoch 181 Current LR 0.06\n",
      "Percent of estimated labels that have remained the same since end of phase 1 0.8696\n",
      "% y_tilde equal to noisy label 0.8696\n",
      "% y_tilde equal to true label 0.8974\n",
      "Train acc 0.762, Train auroc 0.951\n",
      "Val acc 0.760, Val auroc 0.957\n"
     ]
    },
    {
     "name": "stderr",
     "output_type": "stream",
     "text": [
      "C:\\Users\\Administrator\\anaconda3\\lib\\site-packages\\torch\\nn\\functional.py:2610: UserWarning: reduction: 'mean' divides the total loss by both the batch size and the support size.'batchmean' divides only by the batch size, and aligns with the KL div math definition.'mean' will be changed to behave the same as 'batchmean' in the next major release.\n",
      "  warnings.warn(\n"
     ]
    },
    {
     "name": "stdout",
     "output_type": "stream",
     "text": [
      "Epoch 182 Current LR 0.06\n",
      "Percent of estimated labels that have remained the same since end of phase 1 0.8705\n",
      "% y_tilde equal to noisy label 0.8705\n",
      "% y_tilde equal to true label 0.898\n",
      "Train acc 0.756, Train auroc 0.949\n",
      "Val acc 0.663, Val auroc 0.934\n"
     ]
    },
    {
     "name": "stderr",
     "output_type": "stream",
     "text": [
      "C:\\Users\\Administrator\\anaconda3\\lib\\site-packages\\torch\\nn\\functional.py:2610: UserWarning: reduction: 'mean' divides the total loss by both the batch size and the support size.'batchmean' divides only by the batch size, and aligns with the KL div math definition.'mean' will be changed to behave the same as 'batchmean' in the next major release.\n",
      "  warnings.warn(\n"
     ]
    },
    {
     "name": "stdout",
     "output_type": "stream",
     "text": [
      "Epoch 183 Current LR 0.06\n",
      "Percent of estimated labels that have remained the same since end of phase 1 0.8703\n",
      "% y_tilde equal to noisy label 0.8703\n",
      "% y_tilde equal to true label 0.8979\n",
      "Train acc 0.757, Train auroc 0.950\n",
      "Val acc 0.789, Val auroc 0.965\n"
     ]
    },
    {
     "name": "stderr",
     "output_type": "stream",
     "text": [
      "C:\\Users\\Administrator\\anaconda3\\lib\\site-packages\\torch\\nn\\functional.py:2610: UserWarning: reduction: 'mean' divides the total loss by both the batch size and the support size.'batchmean' divides only by the batch size, and aligns with the KL div math definition.'mean' will be changed to behave the same as 'batchmean' in the next major release.\n",
      "  warnings.warn(\n"
     ]
    },
    {
     "name": "stdout",
     "output_type": "stream",
     "text": [
      "Epoch 184 Current LR 0.06\n",
      "Percent of estimated labels that have remained the same since end of phase 1 0.869\n",
      "% y_tilde equal to noisy label 0.869\n",
      "% y_tilde equal to true label 0.8966\n",
      "Train acc 0.759, Train auroc 0.950\n",
      "Val acc 0.765, Val auroc 0.962\n"
     ]
    },
    {
     "name": "stderr",
     "output_type": "stream",
     "text": [
      "C:\\Users\\Administrator\\anaconda3\\lib\\site-packages\\torch\\nn\\functional.py:2610: UserWarning: reduction: 'mean' divides the total loss by both the batch size and the support size.'batchmean' divides only by the batch size, and aligns with the KL div math definition.'mean' will be changed to behave the same as 'batchmean' in the next major release.\n",
      "  warnings.warn(\n"
     ]
    },
    {
     "name": "stdout",
     "output_type": "stream",
     "text": [
      "Epoch 185 Current LR 0.06\n",
      "Percent of estimated labels that have remained the same since end of phase 1 0.8696\n",
      "% y_tilde equal to noisy label 0.8696\n",
      "% y_tilde equal to true label 0.8966\n",
      "Train acc 0.756, Train auroc 0.948\n",
      "Val acc 0.711, Val auroc 0.944\n"
     ]
    },
    {
     "name": "stderr",
     "output_type": "stream",
     "text": [
      "C:\\Users\\Administrator\\anaconda3\\lib\\site-packages\\torch\\nn\\functional.py:2610: UserWarning: reduction: 'mean' divides the total loss by both the batch size and the support size.'batchmean' divides only by the batch size, and aligns with the KL div math definition.'mean' will be changed to behave the same as 'batchmean' in the next major release.\n",
      "  warnings.warn(\n"
     ]
    },
    {
     "name": "stdout",
     "output_type": "stream",
     "text": [
      "Epoch 186 Current LR 0.06\n",
      "Percent of estimated labels that have remained the same since end of phase 1 0.8692\n",
      "% y_tilde equal to noisy label 0.8692\n",
      "% y_tilde equal to true label 0.8962\n",
      "Train acc 0.757, Train auroc 0.950\n",
      "Val acc 0.758, Val auroc 0.956\n"
     ]
    },
    {
     "name": "stderr",
     "output_type": "stream",
     "text": [
      "C:\\Users\\Administrator\\anaconda3\\lib\\site-packages\\torch\\nn\\functional.py:2610: UserWarning: reduction: 'mean' divides the total loss by both the batch size and the support size.'batchmean' divides only by the batch size, and aligns with the KL div math definition.'mean' will be changed to behave the same as 'batchmean' in the next major release.\n",
      "  warnings.warn(\n"
     ]
    },
    {
     "name": "stdout",
     "output_type": "stream",
     "text": [
      "Epoch 187 Current LR 0.06\n",
      "Percent of estimated labels that have remained the same since end of phase 1 0.8677\n",
      "% y_tilde equal to noisy label 0.8677\n",
      "% y_tilde equal to true label 0.8949\n",
      "Train acc 0.759, Train auroc 0.950\n",
      "Val acc 0.764, Val auroc 0.959\n"
     ]
    },
    {
     "name": "stderr",
     "output_type": "stream",
     "text": [
      "C:\\Users\\Administrator\\anaconda3\\lib\\site-packages\\torch\\nn\\functional.py:2610: UserWarning: reduction: 'mean' divides the total loss by both the batch size and the support size.'batchmean' divides only by the batch size, and aligns with the KL div math definition.'mean' will be changed to behave the same as 'batchmean' in the next major release.\n",
      "  warnings.warn(\n"
     ]
    },
    {
     "name": "stdout",
     "output_type": "stream",
     "text": [
      "Epoch 188 Current LR 0.06\n",
      "Percent of estimated labels that have remained the same since end of phase 1 0.8679\n",
      "% y_tilde equal to noisy label 0.8679\n",
      "% y_tilde equal to true label 0.8948\n",
      "Train acc 0.754, Train auroc 0.948\n",
      "Val acc 0.773, Val auroc 0.962\n"
     ]
    },
    {
     "name": "stderr",
     "output_type": "stream",
     "text": [
      "C:\\Users\\Administrator\\anaconda3\\lib\\site-packages\\torch\\nn\\functional.py:2610: UserWarning: reduction: 'mean' divides the total loss by both the batch size and the support size.'batchmean' divides only by the batch size, and aligns with the KL div math definition.'mean' will be changed to behave the same as 'batchmean' in the next major release.\n",
      "  warnings.warn(\n"
     ]
    },
    {
     "name": "stdout",
     "output_type": "stream",
     "text": [
      "Epoch 189 Current LR 0.06\n",
      "Percent of estimated labels that have remained the same since end of phase 1 0.868\n",
      "% y_tilde equal to noisy label 0.868\n",
      "% y_tilde equal to true label 0.8952\n",
      "Train acc 0.755, Train auroc 0.950\n",
      "Val acc 0.746, Val auroc 0.953\n"
     ]
    },
    {
     "name": "stderr",
     "output_type": "stream",
     "text": [
      "C:\\Users\\Administrator\\anaconda3\\lib\\site-packages\\torch\\nn\\functional.py:2610: UserWarning: reduction: 'mean' divides the total loss by both the batch size and the support size.'batchmean' divides only by the batch size, and aligns with the KL div math definition.'mean' will be changed to behave the same as 'batchmean' in the next major release.\n",
      "  warnings.warn(\n"
     ]
    },
    {
     "name": "stdout",
     "output_type": "stream",
     "text": [
      "Epoch 190 Current LR 0.06\n",
      "Percent of estimated labels that have remained the same since end of phase 1 0.8678\n",
      "% y_tilde equal to noisy label 0.8678\n",
      "% y_tilde equal to true label 0.895\n",
      "Train acc 0.754, Train auroc 0.950\n",
      "Val acc 0.711, Val auroc 0.944\n"
     ]
    },
    {
     "name": "stderr",
     "output_type": "stream",
     "text": [
      "C:\\Users\\Administrator\\anaconda3\\lib\\site-packages\\torch\\nn\\functional.py:2610: UserWarning: reduction: 'mean' divides the total loss by both the batch size and the support size.'batchmean' divides only by the batch size, and aligns with the KL div math definition.'mean' will be changed to behave the same as 'batchmean' in the next major release.\n",
      "  warnings.warn(\n"
     ]
    },
    {
     "name": "stdout",
     "output_type": "stream",
     "text": [
      "Epoch 191 Current LR 0.06\n",
      "Percent of estimated labels that have remained the same since end of phase 1 0.8678\n",
      "% y_tilde equal to noisy label 0.8678\n",
      "% y_tilde equal to true label 0.8951\n",
      "Train acc 0.761, Train auroc 0.951\n",
      "Val acc 0.774, Val auroc 0.960\n"
     ]
    },
    {
     "name": "stderr",
     "output_type": "stream",
     "text": [
      "C:\\Users\\Administrator\\anaconda3\\lib\\site-packages\\torch\\nn\\functional.py:2610: UserWarning: reduction: 'mean' divides the total loss by both the batch size and the support size.'batchmean' divides only by the batch size, and aligns with the KL div math definition.'mean' will be changed to behave the same as 'batchmean' in the next major release.\n",
      "  warnings.warn(\n"
     ]
    },
    {
     "name": "stdout",
     "output_type": "stream",
     "text": [
      "Epoch 192 Current LR 0.06\n",
      "Percent of estimated labels that have remained the same since end of phase 1 0.8664\n",
      "% y_tilde equal to noisy label 0.8664\n",
      "% y_tilde equal to true label 0.8933\n",
      "Train acc 0.755, Train auroc 0.949\n",
      "Val acc 0.762, Val auroc 0.958\n"
     ]
    },
    {
     "name": "stderr",
     "output_type": "stream",
     "text": [
      "C:\\Users\\Administrator\\anaconda3\\lib\\site-packages\\torch\\nn\\functional.py:2610: UserWarning: reduction: 'mean' divides the total loss by both the batch size and the support size.'batchmean' divides only by the batch size, and aligns with the KL div math definition.'mean' will be changed to behave the same as 'batchmean' in the next major release.\n",
      "  warnings.warn(\n"
     ]
    },
    {
     "name": "stdout",
     "output_type": "stream",
     "text": [
      "Epoch 193 Current LR 0.06\n",
      "Percent of estimated labels that have remained the same since end of phase 1 0.8672\n",
      "% y_tilde equal to noisy label 0.8672\n",
      "% y_tilde equal to true label 0.895\n",
      "Train acc 0.753, Train auroc 0.948\n",
      "Val acc 0.759, Val auroc 0.955\n"
     ]
    },
    {
     "name": "stderr",
     "output_type": "stream",
     "text": [
      "C:\\Users\\Administrator\\anaconda3\\lib\\site-packages\\torch\\nn\\functional.py:2610: UserWarning: reduction: 'mean' divides the total loss by both the batch size and the support size.'batchmean' divides only by the batch size, and aligns with the KL div math definition.'mean' will be changed to behave the same as 'batchmean' in the next major release.\n",
      "  warnings.warn(\n"
     ]
    },
    {
     "name": "stdout",
     "output_type": "stream",
     "text": [
      "Epoch 194 Current LR 0.06\n",
      "Percent of estimated labels that have remained the same since end of phase 1 0.8675\n",
      "% y_tilde equal to noisy label 0.8675\n",
      "% y_tilde equal to true label 0.8951\n",
      "Train acc 0.763, Train auroc 0.951\n",
      "Val acc 0.743, Val auroc 0.953\n"
     ]
    },
    {
     "name": "stderr",
     "output_type": "stream",
     "text": [
      "C:\\Users\\Administrator\\anaconda3\\lib\\site-packages\\torch\\nn\\functional.py:2610: UserWarning: reduction: 'mean' divides the total loss by both the batch size and the support size.'batchmean' divides only by the batch size, and aligns with the KL div math definition.'mean' will be changed to behave the same as 'batchmean' in the next major release.\n",
      "  warnings.warn(\n"
     ]
    },
    {
     "name": "stdout",
     "output_type": "stream",
     "text": [
      "Epoch 195 Current LR 0.06\n",
      "Percent of estimated labels that have remained the same since end of phase 1 0.8678\n",
      "% y_tilde equal to noisy label 0.8678\n",
      "% y_tilde equal to true label 0.8954\n",
      "Train acc 0.754, Train auroc 0.949\n",
      "Val acc 0.728, Val auroc 0.953\n"
     ]
    },
    {
     "name": "stderr",
     "output_type": "stream",
     "text": [
      "C:\\Users\\Administrator\\anaconda3\\lib\\site-packages\\torch\\nn\\functional.py:2610: UserWarning: reduction: 'mean' divides the total loss by both the batch size and the support size.'batchmean' divides only by the batch size, and aligns with the KL div math definition.'mean' will be changed to behave the same as 'batchmean' in the next major release.\n",
      "  warnings.warn(\n"
     ]
    },
    {
     "name": "stdout",
     "output_type": "stream",
     "text": [
      "Epoch 196 Current LR 0.06\n",
      "Percent of estimated labels that have remained the same since end of phase 1 0.8679\n",
      "% y_tilde equal to noisy label 0.8679\n",
      "% y_tilde equal to true label 0.895\n",
      "Train acc 0.754, Train auroc 0.950\n",
      "Val acc 0.708, Val auroc 0.943\n"
     ]
    },
    {
     "name": "stderr",
     "output_type": "stream",
     "text": [
      "C:\\Users\\Administrator\\anaconda3\\lib\\site-packages\\torch\\nn\\functional.py:2610: UserWarning: reduction: 'mean' divides the total loss by both the batch size and the support size.'batchmean' divides only by the batch size, and aligns with the KL div math definition.'mean' will be changed to behave the same as 'batchmean' in the next major release.\n",
      "  warnings.warn(\n"
     ]
    },
    {
     "name": "stdout",
     "output_type": "stream",
     "text": [
      "Epoch 197 Current LR 0.06\n",
      "Percent of estimated labels that have remained the same since end of phase 1 0.8686\n",
      "% y_tilde equal to noisy label 0.8686\n",
      "% y_tilde equal to true label 0.8962\n",
      "Train acc 0.759, Train auroc 0.950\n",
      "Val acc 0.752, Val auroc 0.958\n"
     ]
    },
    {
     "name": "stderr",
     "output_type": "stream",
     "text": [
      "C:\\Users\\Administrator\\anaconda3\\lib\\site-packages\\torch\\nn\\functional.py:2610: UserWarning: reduction: 'mean' divides the total loss by both the batch size and the support size.'batchmean' divides only by the batch size, and aligns with the KL div math definition.'mean' will be changed to behave the same as 'batchmean' in the next major release.\n",
      "  warnings.warn(\n"
     ]
    },
    {
     "name": "stdout",
     "output_type": "stream",
     "text": [
      "Epoch 198 Current LR 0.06\n",
      "Percent of estimated labels that have remained the same since end of phase 1 0.8687\n",
      "% y_tilde equal to noisy label 0.8687\n",
      "% y_tilde equal to true label 0.8962\n",
      "Train acc 0.753, Train auroc 0.949\n",
      "Val acc 0.723, Val auroc 0.954\n"
     ]
    },
    {
     "name": "stderr",
     "output_type": "stream",
     "text": [
      "C:\\Users\\Administrator\\anaconda3\\lib\\site-packages\\torch\\nn\\functional.py:2610: UserWarning: reduction: 'mean' divides the total loss by both the batch size and the support size.'batchmean' divides only by the batch size, and aligns with the KL div math definition.'mean' will be changed to behave the same as 'batchmean' in the next major release.\n",
      "  warnings.warn(\n"
     ]
    },
    {
     "name": "stdout",
     "output_type": "stream",
     "text": [
      "Epoch 199 Current LR 0.06\n",
      "Percent of estimated labels that have remained the same since end of phase 1 0.8683\n",
      "% y_tilde equal to noisy label 0.8683\n",
      "% y_tilde equal to true label 0.8962\n",
      "Train acc 0.759, Train auroc 0.950\n",
      "Val acc 0.743, Val auroc 0.958\n"
     ]
    },
    {
     "name": "stderr",
     "output_type": "stream",
     "text": [
      "C:\\Users\\Administrator\\anaconda3\\lib\\site-packages\\torch\\nn\\functional.py:2610: UserWarning: reduction: 'mean' divides the total loss by both the batch size and the support size.'batchmean' divides only by the batch size, and aligns with the KL div math definition.'mean' will be changed to behave the same as 'batchmean' in the next major release.\n",
      "  warnings.warn(\n"
     ]
    },
    {
     "name": "stdout",
     "output_type": "stream",
     "text": [
      "Epoch 200 Current LR 0.06\n",
      "Percent of estimated labels that have remained the same since end of phase 1 0.8683\n",
      "% y_tilde equal to noisy label 0.8683\n",
      "% y_tilde equal to true label 0.8962\n",
      "Train acc 0.774, Train auroc 0.956\n",
      "Val acc 0.788, Val auroc 0.971\n"
     ]
    },
    {
     "name": "stderr",
     "output_type": "stream",
     "text": [
      "C:\\Users\\Administrator\\anaconda3\\lib\\site-packages\\torch\\nn\\functional.py:2610: UserWarning: reduction: 'mean' divides the total loss by both the batch size and the support size.'batchmean' divides only by the batch size, and aligns with the KL div math definition.'mean' will be changed to behave the same as 'batchmean' in the next major release.\n",
      "  warnings.warn(\n"
     ]
    },
    {
     "name": "stdout",
     "output_type": "stream",
     "text": [
      "Epoch 201 Current LR 0.06\n",
      "Percent of estimated labels that have remained the same since end of phase 1 0.8683\n",
      "% y_tilde equal to noisy label 0.8683\n",
      "% y_tilde equal to true label 0.8962\n",
      "Train acc 0.784, Train auroc 0.960\n",
      "Val acc 0.794, Val auroc 0.973\n"
     ]
    },
    {
     "name": "stderr",
     "output_type": "stream",
     "text": [
      "C:\\Users\\Administrator\\anaconda3\\lib\\site-packages\\torch\\nn\\functional.py:2610: UserWarning: reduction: 'mean' divides the total loss by both the batch size and the support size.'batchmean' divides only by the batch size, and aligns with the KL div math definition.'mean' will be changed to behave the same as 'batchmean' in the next major release.\n",
      "  warnings.warn(\n"
     ]
    },
    {
     "name": "stdout",
     "output_type": "stream",
     "text": [
      "Epoch 202 Current LR 0.06\n",
      "Percent of estimated labels that have remained the same since end of phase 1 0.8683\n",
      "% y_tilde equal to noisy label 0.8683\n",
      "% y_tilde equal to true label 0.8962\n",
      "Train acc 0.777, Train auroc 0.958\n",
      "Val acc 0.739, Val auroc 0.960\n"
     ]
    },
    {
     "name": "stderr",
     "output_type": "stream",
     "text": [
      "C:\\Users\\Administrator\\anaconda3\\lib\\site-packages\\torch\\nn\\functional.py:2610: UserWarning: reduction: 'mean' divides the total loss by both the batch size and the support size.'batchmean' divides only by the batch size, and aligns with the KL div math definition.'mean' will be changed to behave the same as 'batchmean' in the next major release.\n",
      "  warnings.warn(\n"
     ]
    },
    {
     "name": "stdout",
     "output_type": "stream",
     "text": [
      "Epoch 203 Current LR 0.06\n",
      "Percent of estimated labels that have remained the same since end of phase 1 0.8683\n",
      "% y_tilde equal to noisy label 0.8683\n",
      "% y_tilde equal to true label 0.8962\n",
      "Train acc 0.769, Train auroc 0.956\n",
      "Val acc 0.767, Val auroc 0.961\n"
     ]
    },
    {
     "name": "stderr",
     "output_type": "stream",
     "text": [
      "C:\\Users\\Administrator\\anaconda3\\lib\\site-packages\\torch\\nn\\functional.py:2610: UserWarning: reduction: 'mean' divides the total loss by both the batch size and the support size.'batchmean' divides only by the batch size, and aligns with the KL div math definition.'mean' will be changed to behave the same as 'batchmean' in the next major release.\n",
      "  warnings.warn(\n"
     ]
    },
    {
     "name": "stdout",
     "output_type": "stream",
     "text": [
      "Epoch 204 Current LR 0.06\n",
      "Percent of estimated labels that have remained the same since end of phase 1 0.8683\n",
      "% y_tilde equal to noisy label 0.8683\n",
      "% y_tilde equal to true label 0.8962\n",
      "Train acc 0.769, Train auroc 0.956\n",
      "Val acc 0.763, Val auroc 0.964\n"
     ]
    },
    {
     "name": "stderr",
     "output_type": "stream",
     "text": [
      "C:\\Users\\Administrator\\anaconda3\\lib\\site-packages\\torch\\nn\\functional.py:2610: UserWarning: reduction: 'mean' divides the total loss by both the batch size and the support size.'batchmean' divides only by the batch size, and aligns with the KL div math definition.'mean' will be changed to behave the same as 'batchmean' in the next major release.\n",
      "  warnings.warn(\n"
     ]
    },
    {
     "name": "stdout",
     "output_type": "stream",
     "text": [
      "Epoch 205 Current LR 0.06\n",
      "Percent of estimated labels that have remained the same since end of phase 1 0.8683\n",
      "% y_tilde equal to noisy label 0.8683\n",
      "% y_tilde equal to true label 0.8962\n",
      "Train acc 0.769, Train auroc 0.957\n",
      "Val acc 0.748, Val auroc 0.961\n"
     ]
    },
    {
     "name": "stderr",
     "output_type": "stream",
     "text": [
      "C:\\Users\\Administrator\\anaconda3\\lib\\site-packages\\torch\\nn\\functional.py:2610: UserWarning: reduction: 'mean' divides the total loss by both the batch size and the support size.'batchmean' divides only by the batch size, and aligns with the KL div math definition.'mean' will be changed to behave the same as 'batchmean' in the next major release.\n",
      "  warnings.warn(\n"
     ]
    },
    {
     "name": "stdout",
     "output_type": "stream",
     "text": [
      "Epoch 206 Current LR 0.06\n",
      "Percent of estimated labels that have remained the same since end of phase 1 0.8683\n",
      "% y_tilde equal to noisy label 0.8683\n",
      "% y_tilde equal to true label 0.8962\n",
      "Train acc 0.766, Train auroc 0.956\n",
      "Val acc 0.764, Val auroc 0.964\n"
     ]
    },
    {
     "name": "stderr",
     "output_type": "stream",
     "text": [
      "C:\\Users\\Administrator\\anaconda3\\lib\\site-packages\\torch\\nn\\functional.py:2610: UserWarning: reduction: 'mean' divides the total loss by both the batch size and the support size.'batchmean' divides only by the batch size, and aligns with the KL div math definition.'mean' will be changed to behave the same as 'batchmean' in the next major release.\n",
      "  warnings.warn(\n"
     ]
    },
    {
     "name": "stdout",
     "output_type": "stream",
     "text": [
      "Epoch 207 Current LR 0.06\n",
      "Percent of estimated labels that have remained the same since end of phase 1 0.8683\n",
      "% y_tilde equal to noisy label 0.8683\n",
      "% y_tilde equal to true label 0.8962\n",
      "Train acc 0.776, Train auroc 0.958\n",
      "Val acc 0.777, Val auroc 0.966\n"
     ]
    },
    {
     "name": "stderr",
     "output_type": "stream",
     "text": [
      "C:\\Users\\Administrator\\anaconda3\\lib\\site-packages\\torch\\nn\\functional.py:2610: UserWarning: reduction: 'mean' divides the total loss by both the batch size and the support size.'batchmean' divides only by the batch size, and aligns with the KL div math definition.'mean' will be changed to behave the same as 'batchmean' in the next major release.\n",
      "  warnings.warn(\n"
     ]
    },
    {
     "name": "stdout",
     "output_type": "stream",
     "text": [
      "Epoch 208 Current LR 0.06\n",
      "Percent of estimated labels that have remained the same since end of phase 1 0.8683\n",
      "% y_tilde equal to noisy label 0.8683\n",
      "% y_tilde equal to true label 0.8962\n",
      "Train acc 0.769, Train auroc 0.956\n",
      "Val acc 0.745, Val auroc 0.961\n"
     ]
    },
    {
     "name": "stderr",
     "output_type": "stream",
     "text": [
      "C:\\Users\\Administrator\\anaconda3\\lib\\site-packages\\torch\\nn\\functional.py:2610: UserWarning: reduction: 'mean' divides the total loss by both the batch size and the support size.'batchmean' divides only by the batch size, and aligns with the KL div math definition.'mean' will be changed to behave the same as 'batchmean' in the next major release.\n",
      "  warnings.warn(\n"
     ]
    },
    {
     "name": "stdout",
     "output_type": "stream",
     "text": [
      "Epoch 209 Current LR 0.06\n",
      "Percent of estimated labels that have remained the same since end of phase 1 0.8683\n",
      "% y_tilde equal to noisy label 0.8683\n",
      "% y_tilde equal to true label 0.8962\n",
      "Train acc 0.772, Train auroc 0.957\n",
      "Val acc 0.767, Val auroc 0.964\n"
     ]
    },
    {
     "name": "stderr",
     "output_type": "stream",
     "text": [
      "C:\\Users\\Administrator\\anaconda3\\lib\\site-packages\\torch\\nn\\functional.py:2610: UserWarning: reduction: 'mean' divides the total loss by both the batch size and the support size.'batchmean' divides only by the batch size, and aligns with the KL div math definition.'mean' will be changed to behave the same as 'batchmean' in the next major release.\n",
      "  warnings.warn(\n"
     ]
    },
    {
     "name": "stdout",
     "output_type": "stream",
     "text": [
      "Epoch 210 Current LR 0.06\n",
      "Percent of estimated labels that have remained the same since end of phase 1 0.8683\n",
      "% y_tilde equal to noisy label 0.8683\n",
      "% y_tilde equal to true label 0.8962\n",
      "Train acc 0.770, Train auroc 0.957\n",
      "Val acc 0.718, Val auroc 0.951\n"
     ]
    },
    {
     "name": "stderr",
     "output_type": "stream",
     "text": [
      "C:\\Users\\Administrator\\anaconda3\\lib\\site-packages\\torch\\nn\\functional.py:2610: UserWarning: reduction: 'mean' divides the total loss by both the batch size and the support size.'batchmean' divides only by the batch size, and aligns with the KL div math definition.'mean' will be changed to behave the same as 'batchmean' in the next major release.\n",
      "  warnings.warn(\n"
     ]
    },
    {
     "name": "stdout",
     "output_type": "stream",
     "text": [
      "Epoch 211 Current LR 0.06\n",
      "Percent of estimated labels that have remained the same since end of phase 1 0.8683\n",
      "% y_tilde equal to noisy label 0.8683\n",
      "% y_tilde equal to true label 0.8962\n",
      "Train acc 0.772, Train auroc 0.956\n",
      "Val acc 0.787, Val auroc 0.971\n"
     ]
    },
    {
     "name": "stderr",
     "output_type": "stream",
     "text": [
      "C:\\Users\\Administrator\\anaconda3\\lib\\site-packages\\torch\\nn\\functional.py:2610: UserWarning: reduction: 'mean' divides the total loss by both the batch size and the support size.'batchmean' divides only by the batch size, and aligns with the KL div math definition.'mean' will be changed to behave the same as 'batchmean' in the next major release.\n",
      "  warnings.warn(\n"
     ]
    },
    {
     "name": "stdout",
     "output_type": "stream",
     "text": [
      "Epoch 212 Current LR 0.06\n",
      "Percent of estimated labels that have remained the same since end of phase 1 0.8683\n",
      "% y_tilde equal to noisy label 0.8683\n",
      "% y_tilde equal to true label 0.8962\n",
      "Train acc 0.775, Train auroc 0.958\n",
      "Val acc 0.757, Val auroc 0.966\n"
     ]
    },
    {
     "name": "stderr",
     "output_type": "stream",
     "text": [
      "C:\\Users\\Administrator\\anaconda3\\lib\\site-packages\\torch\\nn\\functional.py:2610: UserWarning: reduction: 'mean' divides the total loss by both the batch size and the support size.'batchmean' divides only by the batch size, and aligns with the KL div math definition.'mean' will be changed to behave the same as 'batchmean' in the next major release.\n",
      "  warnings.warn(\n"
     ]
    },
    {
     "name": "stdout",
     "output_type": "stream",
     "text": [
      "Epoch 213 Current LR 0.06\n",
      "Percent of estimated labels that have remained the same since end of phase 1 0.8683\n",
      "% y_tilde equal to noisy label 0.8683\n",
      "% y_tilde equal to true label 0.8962\n",
      "Train acc 0.766, Train auroc 0.956\n",
      "Val acc 0.755, Val auroc 0.964\n"
     ]
    },
    {
     "name": "stderr",
     "output_type": "stream",
     "text": [
      "C:\\Users\\Administrator\\anaconda3\\lib\\site-packages\\torch\\nn\\functional.py:2610: UserWarning: reduction: 'mean' divides the total loss by both the batch size and the support size.'batchmean' divides only by the batch size, and aligns with the KL div math definition.'mean' will be changed to behave the same as 'batchmean' in the next major release.\n",
      "  warnings.warn(\n"
     ]
    },
    {
     "name": "stdout",
     "output_type": "stream",
     "text": [
      "Epoch 214 Current LR 0.06\n",
      "Percent of estimated labels that have remained the same since end of phase 1 0.8683\n",
      "% y_tilde equal to noisy label 0.8683\n",
      "% y_tilde equal to true label 0.8962\n",
      "Train acc 0.775, Train auroc 0.958\n",
      "Val acc 0.722, Val auroc 0.955\n"
     ]
    },
    {
     "name": "stderr",
     "output_type": "stream",
     "text": [
      "C:\\Users\\Administrator\\anaconda3\\lib\\site-packages\\torch\\nn\\functional.py:2610: UserWarning: reduction: 'mean' divides the total loss by both the batch size and the support size.'batchmean' divides only by the batch size, and aligns with the KL div math definition.'mean' will be changed to behave the same as 'batchmean' in the next major release.\n",
      "  warnings.warn(\n"
     ]
    },
    {
     "name": "stdout",
     "output_type": "stream",
     "text": [
      "Epoch 215 Current LR 0.06\n",
      "Percent of estimated labels that have remained the same since end of phase 1 0.8683\n",
      "% y_tilde equal to noisy label 0.8683\n",
      "% y_tilde equal to true label 0.8962\n",
      "Train acc 0.769, Train auroc 0.957\n",
      "Val acc 0.774, Val auroc 0.968\n"
     ]
    },
    {
     "name": "stderr",
     "output_type": "stream",
     "text": [
      "C:\\Users\\Administrator\\anaconda3\\lib\\site-packages\\torch\\nn\\functional.py:2610: UserWarning: reduction: 'mean' divides the total loss by both the batch size and the support size.'batchmean' divides only by the batch size, and aligns with the KL div math definition.'mean' will be changed to behave the same as 'batchmean' in the next major release.\n",
      "  warnings.warn(\n"
     ]
    },
    {
     "name": "stdout",
     "output_type": "stream",
     "text": [
      "Epoch 216 Current LR 0.06\n",
      "Percent of estimated labels that have remained the same since end of phase 1 0.8683\n",
      "% y_tilde equal to noisy label 0.8683\n",
      "% y_tilde equal to true label 0.8962\n",
      "Train acc 0.772, Train auroc 0.957\n",
      "Val acc 0.639, Val auroc 0.931\n"
     ]
    },
    {
     "name": "stderr",
     "output_type": "stream",
     "text": [
      "C:\\Users\\Administrator\\anaconda3\\lib\\site-packages\\torch\\nn\\functional.py:2610: UserWarning: reduction: 'mean' divides the total loss by both the batch size and the support size.'batchmean' divides only by the batch size, and aligns with the KL div math definition.'mean' will be changed to behave the same as 'batchmean' in the next major release.\n",
      "  warnings.warn(\n"
     ]
    },
    {
     "name": "stdout",
     "output_type": "stream",
     "text": [
      "Epoch 217 Current LR 0.06\n",
      "Percent of estimated labels that have remained the same since end of phase 1 0.8683\n",
      "% y_tilde equal to noisy label 0.8683\n",
      "% y_tilde equal to true label 0.8962\n",
      "Train acc 0.766, Train auroc 0.957\n",
      "Val acc 0.738, Val auroc 0.957\n"
     ]
    },
    {
     "name": "stderr",
     "output_type": "stream",
     "text": [
      "C:\\Users\\Administrator\\anaconda3\\lib\\site-packages\\torch\\nn\\functional.py:2610: UserWarning: reduction: 'mean' divides the total loss by both the batch size and the support size.'batchmean' divides only by the batch size, and aligns with the KL div math definition.'mean' will be changed to behave the same as 'batchmean' in the next major release.\n",
      "  warnings.warn(\n"
     ]
    },
    {
     "name": "stdout",
     "output_type": "stream",
     "text": [
      "Epoch 218 Current LR 0.06\n",
      "Percent of estimated labels that have remained the same since end of phase 1 0.8683\n",
      "% y_tilde equal to noisy label 0.8683\n",
      "% y_tilde equal to true label 0.8962\n",
      "Train acc 0.772, Train auroc 0.957\n",
      "Val acc 0.752, Val auroc 0.961\n"
     ]
    },
    {
     "name": "stderr",
     "output_type": "stream",
     "text": [
      "C:\\Users\\Administrator\\anaconda3\\lib\\site-packages\\torch\\nn\\functional.py:2610: UserWarning: reduction: 'mean' divides the total loss by both the batch size and the support size.'batchmean' divides only by the batch size, and aligns with the KL div math definition.'mean' will be changed to behave the same as 'batchmean' in the next major release.\n",
      "  warnings.warn(\n"
     ]
    },
    {
     "name": "stdout",
     "output_type": "stream",
     "text": [
      "Epoch 219 Current LR 0.06\n",
      "Percent of estimated labels that have remained the same since end of phase 1 0.8683\n",
      "% y_tilde equal to noisy label 0.8683\n",
      "% y_tilde equal to true label 0.8962\n",
      "Train acc 0.770, Train auroc 0.957\n",
      "Val acc 0.769, Val auroc 0.962\n"
     ]
    },
    {
     "name": "stderr",
     "output_type": "stream",
     "text": [
      "C:\\Users\\Administrator\\anaconda3\\lib\\site-packages\\torch\\nn\\functional.py:2610: UserWarning: reduction: 'mean' divides the total loss by both the batch size and the support size.'batchmean' divides only by the batch size, and aligns with the KL div math definition.'mean' will be changed to behave the same as 'batchmean' in the next major release.\n",
      "  warnings.warn(\n"
     ]
    },
    {
     "name": "stdout",
     "output_type": "stream",
     "text": [
      "Epoch 220 Current LR 0.06\n",
      "Percent of estimated labels that have remained the same since end of phase 1 0.8683\n",
      "% y_tilde equal to noisy label 0.8683\n",
      "% y_tilde equal to true label 0.8962\n",
      "Train acc 0.770, Train auroc 0.957\n",
      "Val acc 0.763, Val auroc 0.963\n"
     ]
    },
    {
     "name": "stderr",
     "output_type": "stream",
     "text": [
      "C:\\Users\\Administrator\\anaconda3\\lib\\site-packages\\torch\\nn\\functional.py:2610: UserWarning: reduction: 'mean' divides the total loss by both the batch size and the support size.'batchmean' divides only by the batch size, and aligns with the KL div math definition.'mean' will be changed to behave the same as 'batchmean' in the next major release.\n",
      "  warnings.warn(\n"
     ]
    },
    {
     "name": "stdout",
     "output_type": "stream",
     "text": [
      "Epoch 221 Current LR 0.06\n",
      "Percent of estimated labels that have remained the same since end of phase 1 0.8683\n",
      "% y_tilde equal to noisy label 0.8683\n",
      "% y_tilde equal to true label 0.8962\n",
      "Train acc 0.774, Train auroc 0.958\n",
      "Val acc 0.765, Val auroc 0.965\n"
     ]
    },
    {
     "name": "stderr",
     "output_type": "stream",
     "text": [
      "C:\\Users\\Administrator\\anaconda3\\lib\\site-packages\\torch\\nn\\functional.py:2610: UserWarning: reduction: 'mean' divides the total loss by both the batch size and the support size.'batchmean' divides only by the batch size, and aligns with the KL div math definition.'mean' will be changed to behave the same as 'batchmean' in the next major release.\n",
      "  warnings.warn(\n"
     ]
    },
    {
     "name": "stdout",
     "output_type": "stream",
     "text": [
      "Epoch 222 Current LR 0.06\n",
      "Percent of estimated labels that have remained the same since end of phase 1 0.8683\n",
      "% y_tilde equal to noisy label 0.8683\n",
      "% y_tilde equal to true label 0.8962\n",
      "Train acc 0.770, Train auroc 0.957\n",
      "Val acc 0.763, Val auroc 0.963\n"
     ]
    },
    {
     "name": "stderr",
     "output_type": "stream",
     "text": [
      "C:\\Users\\Administrator\\anaconda3\\lib\\site-packages\\torch\\nn\\functional.py:2610: UserWarning: reduction: 'mean' divides the total loss by both the batch size and the support size.'batchmean' divides only by the batch size, and aligns with the KL div math definition.'mean' will be changed to behave the same as 'batchmean' in the next major release.\n",
      "  warnings.warn(\n"
     ]
    },
    {
     "name": "stdout",
     "output_type": "stream",
     "text": [
      "Epoch 223 Current LR 0.06\n",
      "Percent of estimated labels that have remained the same since end of phase 1 0.8683\n",
      "% y_tilde equal to noisy label 0.8683\n",
      "% y_tilde equal to true label 0.8962\n",
      "Train acc 0.769, Train auroc 0.957\n",
      "Val acc 0.753, Val auroc 0.968\n"
     ]
    },
    {
     "name": "stderr",
     "output_type": "stream",
     "text": [
      "C:\\Users\\Administrator\\anaconda3\\lib\\site-packages\\torch\\nn\\functional.py:2610: UserWarning: reduction: 'mean' divides the total loss by both the batch size and the support size.'batchmean' divides only by the batch size, and aligns with the KL div math definition.'mean' will be changed to behave the same as 'batchmean' in the next major release.\n",
      "  warnings.warn(\n"
     ]
    },
    {
     "name": "stdout",
     "output_type": "stream",
     "text": [
      "Epoch 224 Current LR 0.06\n",
      "Percent of estimated labels that have remained the same since end of phase 1 0.8683\n",
      "% y_tilde equal to noisy label 0.8683\n",
      "% y_tilde equal to true label 0.8962\n",
      "Train acc 0.771, Train auroc 0.957\n",
      "Val acc 0.704, Val auroc 0.950\n"
     ]
    },
    {
     "name": "stderr",
     "output_type": "stream",
     "text": [
      "C:\\Users\\Administrator\\anaconda3\\lib\\site-packages\\torch\\nn\\functional.py:2610: UserWarning: reduction: 'mean' divides the total loss by both the batch size and the support size.'batchmean' divides only by the batch size, and aligns with the KL div math definition.'mean' will be changed to behave the same as 'batchmean' in the next major release.\n",
      "  warnings.warn(\n"
     ]
    },
    {
     "name": "stdout",
     "output_type": "stream",
     "text": [
      "Epoch 225 Current LR 0.06\n",
      "Percent of estimated labels that have remained the same since end of phase 1 0.8683\n",
      "% y_tilde equal to noisy label 0.8683\n",
      "% y_tilde equal to true label 0.8962\n",
      "Train acc 0.770, Train auroc 0.957\n",
      "Val acc 0.749, Val auroc 0.961\n"
     ]
    },
    {
     "name": "stderr",
     "output_type": "stream",
     "text": [
      "C:\\Users\\Administrator\\anaconda3\\lib\\site-packages\\torch\\nn\\functional.py:2610: UserWarning: reduction: 'mean' divides the total loss by both the batch size and the support size.'batchmean' divides only by the batch size, and aligns with the KL div math definition.'mean' will be changed to behave the same as 'batchmean' in the next major release.\n",
      "  warnings.warn(\n"
     ]
    },
    {
     "name": "stdout",
     "output_type": "stream",
     "text": [
      "Epoch 226 Current LR 0.06\n",
      "Percent of estimated labels that have remained the same since end of phase 1 0.8683\n",
      "% y_tilde equal to noisy label 0.8683\n",
      "% y_tilde equal to true label 0.8962\n",
      "Train acc 0.772, Train auroc 0.957\n",
      "Val acc 0.773, Val auroc 0.967\n"
     ]
    },
    {
     "name": "stderr",
     "output_type": "stream",
     "text": [
      "C:\\Users\\Administrator\\anaconda3\\lib\\site-packages\\torch\\nn\\functional.py:2610: UserWarning: reduction: 'mean' divides the total loss by both the batch size and the support size.'batchmean' divides only by the batch size, and aligns with the KL div math definition.'mean' will be changed to behave the same as 'batchmean' in the next major release.\n",
      "  warnings.warn(\n"
     ]
    },
    {
     "name": "stdout",
     "output_type": "stream",
     "text": [
      "Epoch 227 Current LR 0.06\n",
      "Percent of estimated labels that have remained the same since end of phase 1 0.8683\n",
      "% y_tilde equal to noisy label 0.8683\n",
      "% y_tilde equal to true label 0.8962\n",
      "Train acc 0.770, Train auroc 0.957\n",
      "Val acc 0.781, Val auroc 0.969\n"
     ]
    },
    {
     "name": "stderr",
     "output_type": "stream",
     "text": [
      "C:\\Users\\Administrator\\anaconda3\\lib\\site-packages\\torch\\nn\\functional.py:2610: UserWarning: reduction: 'mean' divides the total loss by both the batch size and the support size.'batchmean' divides only by the batch size, and aligns with the KL div math definition.'mean' will be changed to behave the same as 'batchmean' in the next major release.\n",
      "  warnings.warn(\n"
     ]
    },
    {
     "name": "stdout",
     "output_type": "stream",
     "text": [
      "Epoch 228 Current LR 0.06\n",
      "Percent of estimated labels that have remained the same since end of phase 1 0.8683\n",
      "% y_tilde equal to noisy label 0.8683\n",
      "% y_tilde equal to true label 0.8962\n",
      "Train acc 0.768, Train auroc 0.956\n",
      "Val acc 0.769, Val auroc 0.966\n"
     ]
    },
    {
     "name": "stderr",
     "output_type": "stream",
     "text": [
      "C:\\Users\\Administrator\\anaconda3\\lib\\site-packages\\torch\\nn\\functional.py:2610: UserWarning: reduction: 'mean' divides the total loss by both the batch size and the support size.'batchmean' divides only by the batch size, and aligns with the KL div math definition.'mean' will be changed to behave the same as 'batchmean' in the next major release.\n",
      "  warnings.warn(\n"
     ]
    },
    {
     "name": "stdout",
     "output_type": "stream",
     "text": [
      "Epoch 229 Current LR 0.06\n",
      "Percent of estimated labels that have remained the same since end of phase 1 0.8683\n",
      "% y_tilde equal to noisy label 0.8683\n",
      "% y_tilde equal to true label 0.8962\n",
      "Train acc 0.774, Train auroc 0.958\n",
      "Val acc 0.682, Val auroc 0.943\n"
     ]
    },
    {
     "name": "stderr",
     "output_type": "stream",
     "text": [
      "C:\\Users\\Administrator\\anaconda3\\lib\\site-packages\\torch\\nn\\functional.py:2610: UserWarning: reduction: 'mean' divides the total loss by both the batch size and the support size.'batchmean' divides only by the batch size, and aligns with the KL div math definition.'mean' will be changed to behave the same as 'batchmean' in the next major release.\n",
      "  warnings.warn(\n"
     ]
    },
    {
     "name": "stdout",
     "output_type": "stream",
     "text": [
      "Epoch 230 Current LR 0.06\n",
      "Percent of estimated labels that have remained the same since end of phase 1 0.8683\n",
      "% y_tilde equal to noisy label 0.8683\n",
      "% y_tilde equal to true label 0.8962\n",
      "Train acc 0.771, Train auroc 0.957\n",
      "Val acc 0.761, Val auroc 0.962\n"
     ]
    },
    {
     "name": "stderr",
     "output_type": "stream",
     "text": [
      "C:\\Users\\Administrator\\anaconda3\\lib\\site-packages\\torch\\nn\\functional.py:2610: UserWarning: reduction: 'mean' divides the total loss by both the batch size and the support size.'batchmean' divides only by the batch size, and aligns with the KL div math definition.'mean' will be changed to behave the same as 'batchmean' in the next major release.\n",
      "  warnings.warn(\n"
     ]
    },
    {
     "name": "stdout",
     "output_type": "stream",
     "text": [
      "Epoch 231 Current LR 0.06\n",
      "Percent of estimated labels that have remained the same since end of phase 1 0.8683\n",
      "% y_tilde equal to noisy label 0.8683\n",
      "% y_tilde equal to true label 0.8962\n",
      "Train acc 0.776, Train auroc 0.957\n",
      "Val acc 0.752, Val auroc 0.963\n"
     ]
    },
    {
     "name": "stderr",
     "output_type": "stream",
     "text": [
      "C:\\Users\\Administrator\\anaconda3\\lib\\site-packages\\torch\\nn\\functional.py:2610: UserWarning: reduction: 'mean' divides the total loss by both the batch size and the support size.'batchmean' divides only by the batch size, and aligns with the KL div math definition.'mean' will be changed to behave the same as 'batchmean' in the next major release.\n",
      "  warnings.warn(\n"
     ]
    },
    {
     "name": "stdout",
     "output_type": "stream",
     "text": [
      "Epoch 232 Current LR 0.06\n",
      "Percent of estimated labels that have remained the same since end of phase 1 0.8683\n",
      "% y_tilde equal to noisy label 0.8683\n",
      "% y_tilde equal to true label 0.8962\n",
      "Train acc 0.766, Train auroc 0.956\n",
      "Val acc 0.780, Val auroc 0.969\n"
     ]
    },
    {
     "name": "stderr",
     "output_type": "stream",
     "text": [
      "C:\\Users\\Administrator\\anaconda3\\lib\\site-packages\\torch\\nn\\functional.py:2610: UserWarning: reduction: 'mean' divides the total loss by both the batch size and the support size.'batchmean' divides only by the batch size, and aligns with the KL div math definition.'mean' will be changed to behave the same as 'batchmean' in the next major release.\n",
      "  warnings.warn(\n"
     ]
    },
    {
     "name": "stdout",
     "output_type": "stream",
     "text": [
      "Epoch 233 Current LR 0.06\n",
      "Percent of estimated labels that have remained the same since end of phase 1 0.8683\n",
      "% y_tilde equal to noisy label 0.8683\n",
      "% y_tilde equal to true label 0.8962\n",
      "Train acc 0.775, Train auroc 0.958\n",
      "Val acc 0.785, Val auroc 0.970\n"
     ]
    },
    {
     "name": "stderr",
     "output_type": "stream",
     "text": [
      "C:\\Users\\Administrator\\anaconda3\\lib\\site-packages\\torch\\nn\\functional.py:2610: UserWarning: reduction: 'mean' divides the total loss by both the batch size and the support size.'batchmean' divides only by the batch size, and aligns with the KL div math definition.'mean' will be changed to behave the same as 'batchmean' in the next major release.\n",
      "  warnings.warn(\n"
     ]
    },
    {
     "name": "stdout",
     "output_type": "stream",
     "text": [
      "Epoch 234 Current LR 0.06\n",
      "Percent of estimated labels that have remained the same since end of phase 1 0.8683\n",
      "% y_tilde equal to noisy label 0.8683\n",
      "% y_tilde equal to true label 0.8962\n",
      "Train acc 0.771, Train auroc 0.957\n",
      "Val acc 0.761, Val auroc 0.962\n"
     ]
    },
    {
     "name": "stderr",
     "output_type": "stream",
     "text": [
      "C:\\Users\\Administrator\\anaconda3\\lib\\site-packages\\torch\\nn\\functional.py:2610: UserWarning: reduction: 'mean' divides the total loss by both the batch size and the support size.'batchmean' divides only by the batch size, and aligns with the KL div math definition.'mean' will be changed to behave the same as 'batchmean' in the next major release.\n",
      "  warnings.warn(\n"
     ]
    },
    {
     "name": "stdout",
     "output_type": "stream",
     "text": [
      "Epoch 235 Current LR 0.06\n",
      "Percent of estimated labels that have remained the same since end of phase 1 0.8683\n",
      "% y_tilde equal to noisy label 0.8683\n",
      "% y_tilde equal to true label 0.8962\n",
      "Train acc 0.769, Train auroc 0.957\n",
      "Val acc 0.784, Val auroc 0.969\n"
     ]
    },
    {
     "name": "stderr",
     "output_type": "stream",
     "text": [
      "C:\\Users\\Administrator\\anaconda3\\lib\\site-packages\\torch\\nn\\functional.py:2610: UserWarning: reduction: 'mean' divides the total loss by both the batch size and the support size.'batchmean' divides only by the batch size, and aligns with the KL div math definition.'mean' will be changed to behave the same as 'batchmean' in the next major release.\n",
      "  warnings.warn(\n"
     ]
    },
    {
     "name": "stdout",
     "output_type": "stream",
     "text": [
      "Epoch 236 Current LR 0.06\n",
      "Percent of estimated labels that have remained the same since end of phase 1 0.8683\n",
      "% y_tilde equal to noisy label 0.8683\n",
      "% y_tilde equal to true label 0.8962\n",
      "Train acc 0.771, Train auroc 0.958\n",
      "Val acc 0.801, Val auroc 0.973\n"
     ]
    },
    {
     "name": "stderr",
     "output_type": "stream",
     "text": [
      "C:\\Users\\Administrator\\anaconda3\\lib\\site-packages\\torch\\nn\\functional.py:2610: UserWarning: reduction: 'mean' divides the total loss by both the batch size and the support size.'batchmean' divides only by the batch size, and aligns with the KL div math definition.'mean' will be changed to behave the same as 'batchmean' in the next major release.\n",
      "  warnings.warn(\n"
     ]
    },
    {
     "name": "stdout",
     "output_type": "stream",
     "text": [
      "Epoch 237 Current LR 0.06\n",
      "Percent of estimated labels that have remained the same since end of phase 1 0.8683\n",
      "% y_tilde equal to noisy label 0.8683\n",
      "% y_tilde equal to true label 0.8962\n",
      "Train acc 0.770, Train auroc 0.957\n",
      "Val acc 0.770, Val auroc 0.963\n"
     ]
    },
    {
     "name": "stderr",
     "output_type": "stream",
     "text": [
      "C:\\Users\\Administrator\\anaconda3\\lib\\site-packages\\torch\\nn\\functional.py:2610: UserWarning: reduction: 'mean' divides the total loss by both the batch size and the support size.'batchmean' divides only by the batch size, and aligns with the KL div math definition.'mean' will be changed to behave the same as 'batchmean' in the next major release.\n",
      "  warnings.warn(\n"
     ]
    },
    {
     "name": "stdout",
     "output_type": "stream",
     "text": [
      "Epoch 238 Current LR 0.06\n",
      "Percent of estimated labels that have remained the same since end of phase 1 0.8683\n",
      "% y_tilde equal to noisy label 0.8683\n",
      "% y_tilde equal to true label 0.8962\n",
      "Train acc 0.773, Train auroc 0.957\n",
      "Val acc 0.784, Val auroc 0.970\n"
     ]
    },
    {
     "name": "stderr",
     "output_type": "stream",
     "text": [
      "C:\\Users\\Administrator\\anaconda3\\lib\\site-packages\\torch\\nn\\functional.py:2610: UserWarning: reduction: 'mean' divides the total loss by both the batch size and the support size.'batchmean' divides only by the batch size, and aligns with the KL div math definition.'mean' will be changed to behave the same as 'batchmean' in the next major release.\n",
      "  warnings.warn(\n"
     ]
    },
    {
     "name": "stdout",
     "output_type": "stream",
     "text": [
      "Epoch 239 Current LR 0.06\n",
      "Percent of estimated labels that have remained the same since end of phase 1 0.8683\n",
      "% y_tilde equal to noisy label 0.8683\n",
      "% y_tilde equal to true label 0.8962\n",
      "Train acc 0.769, Train auroc 0.957\n",
      "Val acc 0.727, Val auroc 0.957\n"
     ]
    },
    {
     "name": "stderr",
     "output_type": "stream",
     "text": [
      "C:\\Users\\Administrator\\anaconda3\\lib\\site-packages\\torch\\nn\\functional.py:2610: UserWarning: reduction: 'mean' divides the total loss by both the batch size and the support size.'batchmean' divides only by the batch size, and aligns with the KL div math definition.'mean' will be changed to behave the same as 'batchmean' in the next major release.\n",
      "  warnings.warn(\n"
     ]
    },
    {
     "name": "stdout",
     "output_type": "stream",
     "text": [
      "Epoch 240 Current LR 0.006\n",
      "Percent of estimated labels that have remained the same since end of phase 1 0.8683\n",
      "% y_tilde equal to noisy label 0.8683\n",
      "% y_tilde equal to true label 0.8962\n",
      "Train acc 0.794, Train auroc 0.964\n",
      "Val acc 0.840, Val auroc 0.981\n"
     ]
    },
    {
     "name": "stderr",
     "output_type": "stream",
     "text": [
      "C:\\Users\\Administrator\\anaconda3\\lib\\site-packages\\torch\\nn\\functional.py:2610: UserWarning: reduction: 'mean' divides the total loss by both the batch size and the support size.'batchmean' divides only by the batch size, and aligns with the KL div math definition.'mean' will be changed to behave the same as 'batchmean' in the next major release.\n",
      "  warnings.warn(\n"
     ]
    },
    {
     "name": "stdout",
     "output_type": "stream",
     "text": [
      "Epoch 241 Current LR 0.006\n",
      "Percent of estimated labels that have remained the same since end of phase 1 0.8683\n",
      "% y_tilde equal to noisy label 0.8683\n",
      "% y_tilde equal to true label 0.8962\n",
      "Train acc 0.806, Train auroc 0.966\n",
      "Val acc 0.842, Val auroc 0.982\n"
     ]
    },
    {
     "name": "stderr",
     "output_type": "stream",
     "text": [
      "C:\\Users\\Administrator\\anaconda3\\lib\\site-packages\\torch\\nn\\functional.py:2610: UserWarning: reduction: 'mean' divides the total loss by both the batch size and the support size.'batchmean' divides only by the batch size, and aligns with the KL div math definition.'mean' will be changed to behave the same as 'batchmean' in the next major release.\n",
      "  warnings.warn(\n"
     ]
    },
    {
     "name": "stdout",
     "output_type": "stream",
     "text": [
      "Epoch 242 Current LR 0.006\n",
      "Percent of estimated labels that have remained the same since end of phase 1 0.8683\n",
      "% y_tilde equal to noisy label 0.8683\n",
      "% y_tilde equal to true label 0.8962\n",
      "Train acc 0.809, Train auroc 0.967\n",
      "Val acc 0.841, Val auroc 0.983\n"
     ]
    },
    {
     "name": "stderr",
     "output_type": "stream",
     "text": [
      "C:\\Users\\Administrator\\anaconda3\\lib\\site-packages\\torch\\nn\\functional.py:2610: UserWarning: reduction: 'mean' divides the total loss by both the batch size and the support size.'batchmean' divides only by the batch size, and aligns with the KL div math definition.'mean' will be changed to behave the same as 'batchmean' in the next major release.\n",
      "  warnings.warn(\n"
     ]
    },
    {
     "name": "stdout",
     "output_type": "stream",
     "text": [
      "Epoch 243 Current LR 0.006\n",
      "Percent of estimated labels that have remained the same since end of phase 1 0.8683\n",
      "% y_tilde equal to noisy label 0.8683\n",
      "% y_tilde equal to true label 0.8962\n",
      "Train acc 0.808, Train auroc 0.967\n",
      "Val acc 0.846, Val auroc 0.983\n"
     ]
    },
    {
     "name": "stderr",
     "output_type": "stream",
     "text": [
      "C:\\Users\\Administrator\\anaconda3\\lib\\site-packages\\torch\\nn\\functional.py:2610: UserWarning: reduction: 'mean' divides the total loss by both the batch size and the support size.'batchmean' divides only by the batch size, and aligns with the KL div math definition.'mean' will be changed to behave the same as 'batchmean' in the next major release.\n",
      "  warnings.warn(\n"
     ]
    },
    {
     "name": "stdout",
     "output_type": "stream",
     "text": [
      "Epoch 244 Current LR 0.006\n",
      "Percent of estimated labels that have remained the same since end of phase 1 0.8683\n",
      "% y_tilde equal to noisy label 0.8683\n",
      "% y_tilde equal to true label 0.8962\n",
      "Train acc 0.812, Train auroc 0.968\n",
      "Val acc 0.847, Val auroc 0.983\n"
     ]
    },
    {
     "name": "stderr",
     "output_type": "stream",
     "text": [
      "C:\\Users\\Administrator\\anaconda3\\lib\\site-packages\\torch\\nn\\functional.py:2610: UserWarning: reduction: 'mean' divides the total loss by both the batch size and the support size.'batchmean' divides only by the batch size, and aligns with the KL div math definition.'mean' will be changed to behave the same as 'batchmean' in the next major release.\n",
      "  warnings.warn(\n"
     ]
    },
    {
     "name": "stdout",
     "output_type": "stream",
     "text": [
      "Epoch 245 Current LR 0.006\n",
      "Percent of estimated labels that have remained the same since end of phase 1 0.8683\n",
      "% y_tilde equal to noisy label 0.8683\n",
      "% y_tilde equal to true label 0.8962\n",
      "Train acc 0.814, Train auroc 0.969\n",
      "Val acc 0.846, Val auroc 0.983\n"
     ]
    },
    {
     "name": "stderr",
     "output_type": "stream",
     "text": [
      "C:\\Users\\Administrator\\anaconda3\\lib\\site-packages\\torch\\nn\\functional.py:2610: UserWarning: reduction: 'mean' divides the total loss by both the batch size and the support size.'batchmean' divides only by the batch size, and aligns with the KL div math definition.'mean' will be changed to behave the same as 'batchmean' in the next major release.\n",
      "  warnings.warn(\n"
     ]
    },
    {
     "name": "stdout",
     "output_type": "stream",
     "text": [
      "Epoch 246 Current LR 0.006\n",
      "Percent of estimated labels that have remained the same since end of phase 1 0.8683\n",
      "% y_tilde equal to noisy label 0.8683\n",
      "% y_tilde equal to true label 0.8962\n",
      "Train acc 0.816, Train auroc 0.969\n",
      "Val acc 0.850, Val auroc 0.984\n"
     ]
    },
    {
     "name": "stderr",
     "output_type": "stream",
     "text": [
      "C:\\Users\\Administrator\\anaconda3\\lib\\site-packages\\torch\\nn\\functional.py:2610: UserWarning: reduction: 'mean' divides the total loss by both the batch size and the support size.'batchmean' divides only by the batch size, and aligns with the KL div math definition.'mean' will be changed to behave the same as 'batchmean' in the next major release.\n",
      "  warnings.warn(\n"
     ]
    },
    {
     "name": "stdout",
     "output_type": "stream",
     "text": [
      "Epoch 247 Current LR 0.006\n",
      "Percent of estimated labels that have remained the same since end of phase 1 0.8683\n",
      "% y_tilde equal to noisy label 0.8683\n",
      "% y_tilde equal to true label 0.8962\n",
      "Train acc 0.816, Train auroc 0.969\n",
      "Val acc 0.847, Val auroc 0.984\n"
     ]
    },
    {
     "name": "stderr",
     "output_type": "stream",
     "text": [
      "C:\\Users\\Administrator\\anaconda3\\lib\\site-packages\\torch\\nn\\functional.py:2610: UserWarning: reduction: 'mean' divides the total loss by both the batch size and the support size.'batchmean' divides only by the batch size, and aligns with the KL div math definition.'mean' will be changed to behave the same as 'batchmean' in the next major release.\n",
      "  warnings.warn(\n"
     ]
    },
    {
     "name": "stdout",
     "output_type": "stream",
     "text": [
      "Epoch 248 Current LR 0.006\n",
      "Percent of estimated labels that have remained the same since end of phase 1 0.8683\n",
      "% y_tilde equal to noisy label 0.8683\n",
      "% y_tilde equal to true label 0.8962\n",
      "Train acc 0.817, Train auroc 0.969\n",
      "Val acc 0.850, Val auroc 0.984\n"
     ]
    },
    {
     "name": "stderr",
     "output_type": "stream",
     "text": [
      "C:\\Users\\Administrator\\anaconda3\\lib\\site-packages\\torch\\nn\\functional.py:2610: UserWarning: reduction: 'mean' divides the total loss by both the batch size and the support size.'batchmean' divides only by the batch size, and aligns with the KL div math definition.'mean' will be changed to behave the same as 'batchmean' in the next major release.\n",
      "  warnings.warn(\n"
     ]
    },
    {
     "name": "stdout",
     "output_type": "stream",
     "text": [
      "Epoch 249 Current LR 0.006\n",
      "Percent of estimated labels that have remained the same since end of phase 1 0.8683\n",
      "% y_tilde equal to noisy label 0.8683\n",
      "% y_tilde equal to true label 0.8962\n",
      "Train acc 0.817, Train auroc 0.969\n",
      "Val acc 0.850, Val auroc 0.984\n"
     ]
    },
    {
     "name": "stderr",
     "output_type": "stream",
     "text": [
      "C:\\Users\\Administrator\\anaconda3\\lib\\site-packages\\torch\\nn\\functional.py:2610: UserWarning: reduction: 'mean' divides the total loss by both the batch size and the support size.'batchmean' divides only by the batch size, and aligns with the KL div math definition.'mean' will be changed to behave the same as 'batchmean' in the next major release.\n",
      "  warnings.warn(\n"
     ]
    },
    {
     "name": "stdout",
     "output_type": "stream",
     "text": [
      "Epoch 250 Current LR 0.006\n",
      "Percent of estimated labels that have remained the same since end of phase 1 0.8683\n",
      "% y_tilde equal to noisy label 0.8683\n",
      "% y_tilde equal to true label 0.8962\n",
      "Train acc 0.818, Train auroc 0.970\n",
      "Val acc 0.852, Val auroc 0.984\n"
     ]
    },
    {
     "name": "stderr",
     "output_type": "stream",
     "text": [
      "C:\\Users\\Administrator\\anaconda3\\lib\\site-packages\\torch\\nn\\functional.py:2610: UserWarning: reduction: 'mean' divides the total loss by both the batch size and the support size.'batchmean' divides only by the batch size, and aligns with the KL div math definition.'mean' will be changed to behave the same as 'batchmean' in the next major release.\n",
      "  warnings.warn(\n"
     ]
    },
    {
     "name": "stdout",
     "output_type": "stream",
     "text": [
      "Epoch 251 Current LR 0.006\n",
      "Percent of estimated labels that have remained the same since end of phase 1 0.8683\n",
      "% y_tilde equal to noisy label 0.8683\n",
      "% y_tilde equal to true label 0.8962\n",
      "Train acc 0.819, Train auroc 0.970\n",
      "Val acc 0.850, Val auroc 0.984\n"
     ]
    },
    {
     "name": "stderr",
     "output_type": "stream",
     "text": [
      "C:\\Users\\Administrator\\anaconda3\\lib\\site-packages\\torch\\nn\\functional.py:2610: UserWarning: reduction: 'mean' divides the total loss by both the batch size and the support size.'batchmean' divides only by the batch size, and aligns with the KL div math definition.'mean' will be changed to behave the same as 'batchmean' in the next major release.\n",
      "  warnings.warn(\n"
     ]
    },
    {
     "name": "stdout",
     "output_type": "stream",
     "text": [
      "Epoch 252 Current LR 0.006\n",
      "Percent of estimated labels that have remained the same since end of phase 1 0.8683\n",
      "% y_tilde equal to noisy label 0.8683\n",
      "% y_tilde equal to true label 0.8962\n",
      "Train acc 0.819, Train auroc 0.970\n",
      "Val acc 0.850, Val auroc 0.985\n"
     ]
    },
    {
     "name": "stderr",
     "output_type": "stream",
     "text": [
      "C:\\Users\\Administrator\\anaconda3\\lib\\site-packages\\torch\\nn\\functional.py:2610: UserWarning: reduction: 'mean' divides the total loss by both the batch size and the support size.'batchmean' divides only by the batch size, and aligns with the KL div math definition.'mean' will be changed to behave the same as 'batchmean' in the next major release.\n",
      "  warnings.warn(\n"
     ]
    },
    {
     "name": "stdout",
     "output_type": "stream",
     "text": [
      "Epoch 253 Current LR 0.006\n",
      "Percent of estimated labels that have remained the same since end of phase 1 0.8683\n",
      "% y_tilde equal to noisy label 0.8683\n",
      "% y_tilde equal to true label 0.8962\n",
      "Train acc 0.821, Train auroc 0.970\n",
      "Val acc 0.855, Val auroc 0.985\n"
     ]
    },
    {
     "name": "stderr",
     "output_type": "stream",
     "text": [
      "C:\\Users\\Administrator\\anaconda3\\lib\\site-packages\\torch\\nn\\functional.py:2610: UserWarning: reduction: 'mean' divides the total loss by both the batch size and the support size.'batchmean' divides only by the batch size, and aligns with the KL div math definition.'mean' will be changed to behave the same as 'batchmean' in the next major release.\n",
      "  warnings.warn(\n"
     ]
    },
    {
     "name": "stdout",
     "output_type": "stream",
     "text": [
      "Epoch 254 Current LR 0.006\n",
      "Percent of estimated labels that have remained the same since end of phase 1 0.8683\n",
      "% y_tilde equal to noisy label 0.8683\n",
      "% y_tilde equal to true label 0.8962\n",
      "Train acc 0.820, Train auroc 0.970\n",
      "Val acc 0.851, Val auroc 0.985\n"
     ]
    },
    {
     "name": "stderr",
     "output_type": "stream",
     "text": [
      "C:\\Users\\Administrator\\anaconda3\\lib\\site-packages\\torch\\nn\\functional.py:2610: UserWarning: reduction: 'mean' divides the total loss by both the batch size and the support size.'batchmean' divides only by the batch size, and aligns with the KL div math definition.'mean' will be changed to behave the same as 'batchmean' in the next major release.\n",
      "  warnings.warn(\n"
     ]
    },
    {
     "name": "stdout",
     "output_type": "stream",
     "text": [
      "Epoch 255 Current LR 0.006\n",
      "Percent of estimated labels that have remained the same since end of phase 1 0.8683\n",
      "% y_tilde equal to noisy label 0.8683\n",
      "% y_tilde equal to true label 0.8962\n",
      "Train acc 0.821, Train auroc 0.970\n",
      "Val acc 0.853, Val auroc 0.985\n"
     ]
    },
    {
     "name": "stderr",
     "output_type": "stream",
     "text": [
      "C:\\Users\\Administrator\\anaconda3\\lib\\site-packages\\torch\\nn\\functional.py:2610: UserWarning: reduction: 'mean' divides the total loss by both the batch size and the support size.'batchmean' divides only by the batch size, and aligns with the KL div math definition.'mean' will be changed to behave the same as 'batchmean' in the next major release.\n",
      "  warnings.warn(\n"
     ]
    },
    {
     "name": "stdout",
     "output_type": "stream",
     "text": [
      "Epoch 256 Current LR 0.006\n",
      "Percent of estimated labels that have remained the same since end of phase 1 0.8683\n",
      "% y_tilde equal to noisy label 0.8683\n",
      "% y_tilde equal to true label 0.8962\n",
      "Train acc 0.821, Train auroc 0.970\n",
      "Val acc 0.850, Val auroc 0.985\n"
     ]
    },
    {
     "name": "stderr",
     "output_type": "stream",
     "text": [
      "C:\\Users\\Administrator\\anaconda3\\lib\\site-packages\\torch\\nn\\functional.py:2610: UserWarning: reduction: 'mean' divides the total loss by both the batch size and the support size.'batchmean' divides only by the batch size, and aligns with the KL div math definition.'mean' will be changed to behave the same as 'batchmean' in the next major release.\n",
      "  warnings.warn(\n"
     ]
    },
    {
     "name": "stdout",
     "output_type": "stream",
     "text": [
      "Epoch 257 Current LR 0.006\n",
      "Percent of estimated labels that have remained the same since end of phase 1 0.8683\n",
      "% y_tilde equal to noisy label 0.8683\n",
      "% y_tilde equal to true label 0.8962\n",
      "Train acc 0.824, Train auroc 0.970\n",
      "Val acc 0.851, Val auroc 0.985\n"
     ]
    },
    {
     "name": "stderr",
     "output_type": "stream",
     "text": [
      "C:\\Users\\Administrator\\anaconda3\\lib\\site-packages\\torch\\nn\\functional.py:2610: UserWarning: reduction: 'mean' divides the total loss by both the batch size and the support size.'batchmean' divides only by the batch size, and aligns with the KL div math definition.'mean' will be changed to behave the same as 'batchmean' in the next major release.\n",
      "  warnings.warn(\n"
     ]
    },
    {
     "name": "stdout",
     "output_type": "stream",
     "text": [
      "Epoch 258 Current LR 0.006\n",
      "Percent of estimated labels that have remained the same since end of phase 1 0.8683\n",
      "% y_tilde equal to noisy label 0.8683\n",
      "% y_tilde equal to true label 0.8962\n",
      "Train acc 0.822, Train auroc 0.970\n",
      "Val acc 0.858, Val auroc 0.985\n"
     ]
    },
    {
     "name": "stderr",
     "output_type": "stream",
     "text": [
      "C:\\Users\\Administrator\\anaconda3\\lib\\site-packages\\torch\\nn\\functional.py:2610: UserWarning: reduction: 'mean' divides the total loss by both the batch size and the support size.'batchmean' divides only by the batch size, and aligns with the KL div math definition.'mean' will be changed to behave the same as 'batchmean' in the next major release.\n",
      "  warnings.warn(\n"
     ]
    },
    {
     "name": "stdout",
     "output_type": "stream",
     "text": [
      "Epoch 259 Current LR 0.006\n",
      "Percent of estimated labels that have remained the same since end of phase 1 0.8683\n",
      "% y_tilde equal to noisy label 0.8683\n",
      "% y_tilde equal to true label 0.8962\n",
      "Train acc 0.824, Train auroc 0.971\n",
      "Val acc 0.855, Val auroc 0.985\n"
     ]
    },
    {
     "name": "stderr",
     "output_type": "stream",
     "text": [
      "C:\\Users\\Administrator\\anaconda3\\lib\\site-packages\\torch\\nn\\functional.py:2610: UserWarning: reduction: 'mean' divides the total loss by both the batch size and the support size.'batchmean' divides only by the batch size, and aligns with the KL div math definition.'mean' will be changed to behave the same as 'batchmean' in the next major release.\n",
      "  warnings.warn(\n"
     ]
    },
    {
     "name": "stdout",
     "output_type": "stream",
     "text": [
      "Epoch 260 Current LR 0.006\n",
      "Percent of estimated labels that have remained the same since end of phase 1 0.8683\n",
      "% y_tilde equal to noisy label 0.8683\n",
      "% y_tilde equal to true label 0.8962\n",
      "Train acc 0.825, Train auroc 0.971\n",
      "Val acc 0.854, Val auroc 0.985\n"
     ]
    },
    {
     "name": "stderr",
     "output_type": "stream",
     "text": [
      "C:\\Users\\Administrator\\anaconda3\\lib\\site-packages\\torch\\nn\\functional.py:2610: UserWarning: reduction: 'mean' divides the total loss by both the batch size and the support size.'batchmean' divides only by the batch size, and aligns with the KL div math definition.'mean' will be changed to behave the same as 'batchmean' in the next major release.\n",
      "  warnings.warn(\n"
     ]
    },
    {
     "name": "stdout",
     "output_type": "stream",
     "text": [
      "Epoch 261 Current LR 0.006\n",
      "Percent of estimated labels that have remained the same since end of phase 1 0.8683\n",
      "% y_tilde equal to noisy label 0.8683\n",
      "% y_tilde equal to true label 0.8962\n",
      "Train acc 0.824, Train auroc 0.971\n",
      "Val acc 0.851, Val auroc 0.985\n"
     ]
    },
    {
     "name": "stderr",
     "output_type": "stream",
     "text": [
      "C:\\Users\\Administrator\\anaconda3\\lib\\site-packages\\torch\\nn\\functional.py:2610: UserWarning: reduction: 'mean' divides the total loss by both the batch size and the support size.'batchmean' divides only by the batch size, and aligns with the KL div math definition.'mean' will be changed to behave the same as 'batchmean' in the next major release.\n",
      "  warnings.warn(\n"
     ]
    },
    {
     "name": "stdout",
     "output_type": "stream",
     "text": [
      "Epoch 262 Current LR 0.006\n",
      "Percent of estimated labels that have remained the same since end of phase 1 0.8683\n",
      "% y_tilde equal to noisy label 0.8683\n",
      "% y_tilde equal to true label 0.8962\n",
      "Train acc 0.823, Train auroc 0.971\n",
      "Val acc 0.853, Val auroc 0.985\n"
     ]
    },
    {
     "name": "stderr",
     "output_type": "stream",
     "text": [
      "C:\\Users\\Administrator\\anaconda3\\lib\\site-packages\\torch\\nn\\functional.py:2610: UserWarning: reduction: 'mean' divides the total loss by both the batch size and the support size.'batchmean' divides only by the batch size, and aligns with the KL div math definition.'mean' will be changed to behave the same as 'batchmean' in the next major release.\n",
      "  warnings.warn(\n"
     ]
    },
    {
     "name": "stdout",
     "output_type": "stream",
     "text": [
      "Epoch 263 Current LR 0.006\n",
      "Percent of estimated labels that have remained the same since end of phase 1 0.8683\n",
      "% y_tilde equal to noisy label 0.8683\n",
      "% y_tilde equal to true label 0.8962\n",
      "Train acc 0.823, Train auroc 0.971\n",
      "Val acc 0.857, Val auroc 0.986\n"
     ]
    },
    {
     "name": "stderr",
     "output_type": "stream",
     "text": [
      "C:\\Users\\Administrator\\anaconda3\\lib\\site-packages\\torch\\nn\\functional.py:2610: UserWarning: reduction: 'mean' divides the total loss by both the batch size and the support size.'batchmean' divides only by the batch size, and aligns with the KL div math definition.'mean' will be changed to behave the same as 'batchmean' in the next major release.\n",
      "  warnings.warn(\n"
     ]
    },
    {
     "name": "stdout",
     "output_type": "stream",
     "text": [
      "Epoch 264 Current LR 0.006\n",
      "Percent of estimated labels that have remained the same since end of phase 1 0.8683\n",
      "% y_tilde equal to noisy label 0.8683\n",
      "% y_tilde equal to true label 0.8962\n",
      "Train acc 0.825, Train auroc 0.971\n",
      "Val acc 0.852, Val auroc 0.986\n"
     ]
    },
    {
     "name": "stderr",
     "output_type": "stream",
     "text": [
      "C:\\Users\\Administrator\\anaconda3\\lib\\site-packages\\torch\\nn\\functional.py:2610: UserWarning: reduction: 'mean' divides the total loss by both the batch size and the support size.'batchmean' divides only by the batch size, and aligns with the KL div math definition.'mean' will be changed to behave the same as 'batchmean' in the next major release.\n",
      "  warnings.warn(\n"
     ]
    },
    {
     "name": "stdout",
     "output_type": "stream",
     "text": [
      "Epoch 265 Current LR 0.006\n",
      "Percent of estimated labels that have remained the same since end of phase 1 0.8683\n",
      "% y_tilde equal to noisy label 0.8683\n",
      "% y_tilde equal to true label 0.8962\n",
      "Train acc 0.825, Train auroc 0.971\n",
      "Val acc 0.851, Val auroc 0.985\n"
     ]
    },
    {
     "name": "stderr",
     "output_type": "stream",
     "text": [
      "C:\\Users\\Administrator\\anaconda3\\lib\\site-packages\\torch\\nn\\functional.py:2610: UserWarning: reduction: 'mean' divides the total loss by both the batch size and the support size.'batchmean' divides only by the batch size, and aligns with the KL div math definition.'mean' will be changed to behave the same as 'batchmean' in the next major release.\n",
      "  warnings.warn(\n"
     ]
    },
    {
     "name": "stdout",
     "output_type": "stream",
     "text": [
      "Epoch 266 Current LR 0.006\n",
      "Percent of estimated labels that have remained the same since end of phase 1 0.8683\n",
      "% y_tilde equal to noisy label 0.8683\n",
      "% y_tilde equal to true label 0.8962\n",
      "Train acc 0.826, Train auroc 0.971\n",
      "Val acc 0.854, Val auroc 0.985\n"
     ]
    },
    {
     "name": "stderr",
     "output_type": "stream",
     "text": [
      "C:\\Users\\Administrator\\anaconda3\\lib\\site-packages\\torch\\nn\\functional.py:2610: UserWarning: reduction: 'mean' divides the total loss by both the batch size and the support size.'batchmean' divides only by the batch size, and aligns with the KL div math definition.'mean' will be changed to behave the same as 'batchmean' in the next major release.\n",
      "  warnings.warn(\n"
     ]
    },
    {
     "name": "stdout",
     "output_type": "stream",
     "text": [
      "Epoch 267 Current LR 0.006\n",
      "Percent of estimated labels that have remained the same since end of phase 1 0.8683\n",
      "% y_tilde equal to noisy label 0.8683\n",
      "% y_tilde equal to true label 0.8962\n",
      "Train acc 0.826, Train auroc 0.971\n",
      "Val acc 0.851, Val auroc 0.985\n"
     ]
    },
    {
     "name": "stderr",
     "output_type": "stream",
     "text": [
      "C:\\Users\\Administrator\\anaconda3\\lib\\site-packages\\torch\\nn\\functional.py:2610: UserWarning: reduction: 'mean' divides the total loss by both the batch size and the support size.'batchmean' divides only by the batch size, and aligns with the KL div math definition.'mean' will be changed to behave the same as 'batchmean' in the next major release.\n",
      "  warnings.warn(\n"
     ]
    },
    {
     "name": "stdout",
     "output_type": "stream",
     "text": [
      "Epoch 268 Current LR 0.006\n",
      "Percent of estimated labels that have remained the same since end of phase 1 0.8683\n",
      "% y_tilde equal to noisy label 0.8683\n",
      "% y_tilde equal to true label 0.8962\n",
      "Train acc 0.828, Train auroc 0.971\n",
      "Val acc 0.849, Val auroc 0.985\n"
     ]
    },
    {
     "name": "stderr",
     "output_type": "stream",
     "text": [
      "C:\\Users\\Administrator\\anaconda3\\lib\\site-packages\\torch\\nn\\functional.py:2610: UserWarning: reduction: 'mean' divides the total loss by both the batch size and the support size.'batchmean' divides only by the batch size, and aligns with the KL div math definition.'mean' will be changed to behave the same as 'batchmean' in the next major release.\n",
      "  warnings.warn(\n"
     ]
    },
    {
     "name": "stdout",
     "output_type": "stream",
     "text": [
      "Epoch 269 Current LR 0.006\n",
      "Percent of estimated labels that have remained the same since end of phase 1 0.8683\n",
      "% y_tilde equal to noisy label 0.8683\n",
      "% y_tilde equal to true label 0.8962\n",
      "Train acc 0.829, Train auroc 0.972\n",
      "Val acc 0.852, Val auroc 0.986\n"
     ]
    },
    {
     "name": "stderr",
     "output_type": "stream",
     "text": [
      "C:\\Users\\Administrator\\anaconda3\\lib\\site-packages\\torch\\nn\\functional.py:2610: UserWarning: reduction: 'mean' divides the total loss by both the batch size and the support size.'batchmean' divides only by the batch size, and aligns with the KL div math definition.'mean' will be changed to behave the same as 'batchmean' in the next major release.\n",
      "  warnings.warn(\n"
     ]
    },
    {
     "name": "stdout",
     "output_type": "stream",
     "text": [
      "Epoch 270 Current LR 0.006\n",
      "Percent of estimated labels that have remained the same since end of phase 1 0.8683\n",
      "% y_tilde equal to noisy label 0.8683\n",
      "% y_tilde equal to true label 0.8962\n",
      "Train acc 0.827, Train auroc 0.972\n",
      "Val acc 0.851, Val auroc 0.985\n"
     ]
    },
    {
     "name": "stderr",
     "output_type": "stream",
     "text": [
      "C:\\Users\\Administrator\\anaconda3\\lib\\site-packages\\torch\\nn\\functional.py:2610: UserWarning: reduction: 'mean' divides the total loss by both the batch size and the support size.'batchmean' divides only by the batch size, and aligns with the KL div math definition.'mean' will be changed to behave the same as 'batchmean' in the next major release.\n",
      "  warnings.warn(\n"
     ]
    },
    {
     "name": "stdout",
     "output_type": "stream",
     "text": [
      "Epoch 271 Current LR 0.006\n",
      "Percent of estimated labels that have remained the same since end of phase 1 0.8683\n",
      "% y_tilde equal to noisy label 0.8683\n",
      "% y_tilde equal to true label 0.8962\n",
      "Train acc 0.827, Train auroc 0.972\n",
      "Val acc 0.855, Val auroc 0.986\n"
     ]
    },
    {
     "name": "stderr",
     "output_type": "stream",
     "text": [
      "C:\\Users\\Administrator\\anaconda3\\lib\\site-packages\\torch\\nn\\functional.py:2610: UserWarning: reduction: 'mean' divides the total loss by both the batch size and the support size.'batchmean' divides only by the batch size, and aligns with the KL div math definition.'mean' will be changed to behave the same as 'batchmean' in the next major release.\n",
      "  warnings.warn(\n"
     ]
    },
    {
     "name": "stdout",
     "output_type": "stream",
     "text": [
      "Epoch 272 Current LR 0.006\n",
      "Percent of estimated labels that have remained the same since end of phase 1 0.8683\n",
      "% y_tilde equal to noisy label 0.8683\n",
      "% y_tilde equal to true label 0.8962\n",
      "Train acc 0.828, Train auroc 0.971\n",
      "Val acc 0.852, Val auroc 0.984\n"
     ]
    },
    {
     "name": "stderr",
     "output_type": "stream",
     "text": [
      "C:\\Users\\Administrator\\anaconda3\\lib\\site-packages\\torch\\nn\\functional.py:2610: UserWarning: reduction: 'mean' divides the total loss by both the batch size and the support size.'batchmean' divides only by the batch size, and aligns with the KL div math definition.'mean' will be changed to behave the same as 'batchmean' in the next major release.\n",
      "  warnings.warn(\n"
     ]
    },
    {
     "name": "stdout",
     "output_type": "stream",
     "text": [
      "Epoch 273 Current LR 0.006\n",
      "Percent of estimated labels that have remained the same since end of phase 1 0.8683\n",
      "% y_tilde equal to noisy label 0.8683\n",
      "% y_tilde equal to true label 0.8962\n",
      "Train acc 0.828, Train auroc 0.971\n",
      "Val acc 0.849, Val auroc 0.985\n"
     ]
    },
    {
     "name": "stderr",
     "output_type": "stream",
     "text": [
      "C:\\Users\\Administrator\\anaconda3\\lib\\site-packages\\torch\\nn\\functional.py:2610: UserWarning: reduction: 'mean' divides the total loss by both the batch size and the support size.'batchmean' divides only by the batch size, and aligns with the KL div math definition.'mean' will be changed to behave the same as 'batchmean' in the next major release.\n",
      "  warnings.warn(\n"
     ]
    },
    {
     "name": "stdout",
     "output_type": "stream",
     "text": [
      "Epoch 274 Current LR 0.006\n",
      "Percent of estimated labels that have remained the same since end of phase 1 0.8683\n",
      "% y_tilde equal to noisy label 0.8683\n",
      "% y_tilde equal to true label 0.8962\n",
      "Train acc 0.827, Train auroc 0.971\n",
      "Val acc 0.854, Val auroc 0.985\n"
     ]
    },
    {
     "name": "stderr",
     "output_type": "stream",
     "text": [
      "C:\\Users\\Administrator\\anaconda3\\lib\\site-packages\\torch\\nn\\functional.py:2610: UserWarning: reduction: 'mean' divides the total loss by both the batch size and the support size.'batchmean' divides only by the batch size, and aligns with the KL div math definition.'mean' will be changed to behave the same as 'batchmean' in the next major release.\n",
      "  warnings.warn(\n"
     ]
    },
    {
     "name": "stdout",
     "output_type": "stream",
     "text": [
      "Epoch 275 Current LR 0.006\n",
      "Percent of estimated labels that have remained the same since end of phase 1 0.8683\n",
      "% y_tilde equal to noisy label 0.8683\n",
      "% y_tilde equal to true label 0.8962\n",
      "Train acc 0.828, Train auroc 0.972\n",
      "Val acc 0.848, Val auroc 0.985\n"
     ]
    },
    {
     "name": "stderr",
     "output_type": "stream",
     "text": [
      "C:\\Users\\Administrator\\anaconda3\\lib\\site-packages\\torch\\nn\\functional.py:2610: UserWarning: reduction: 'mean' divides the total loss by both the batch size and the support size.'batchmean' divides only by the batch size, and aligns with the KL div math definition.'mean' will be changed to behave the same as 'batchmean' in the next major release.\n",
      "  warnings.warn(\n"
     ]
    },
    {
     "name": "stdout",
     "output_type": "stream",
     "text": [
      "Epoch 276 Current LR 0.006\n",
      "Percent of estimated labels that have remained the same since end of phase 1 0.8683\n",
      "% y_tilde equal to noisy label 0.8683\n",
      "% y_tilde equal to true label 0.8962\n",
      "Train acc 0.827, Train auroc 0.971\n",
      "Val acc 0.852, Val auroc 0.985\n"
     ]
    },
    {
     "name": "stderr",
     "output_type": "stream",
     "text": [
      "C:\\Users\\Administrator\\anaconda3\\lib\\site-packages\\torch\\nn\\functional.py:2610: UserWarning: reduction: 'mean' divides the total loss by both the batch size and the support size.'batchmean' divides only by the batch size, and aligns with the KL div math definition.'mean' will be changed to behave the same as 'batchmean' in the next major release.\n",
      "  warnings.warn(\n"
     ]
    },
    {
     "name": "stdout",
     "output_type": "stream",
     "text": [
      "Epoch 277 Current LR 0.006\n",
      "Percent of estimated labels that have remained the same since end of phase 1 0.8683\n",
      "% y_tilde equal to noisy label 0.8683\n",
      "% y_tilde equal to true label 0.8962\n",
      "Train acc 0.829, Train auroc 0.972\n",
      "Val acc 0.857, Val auroc 0.986\n"
     ]
    },
    {
     "name": "stderr",
     "output_type": "stream",
     "text": [
      "C:\\Users\\Administrator\\anaconda3\\lib\\site-packages\\torch\\nn\\functional.py:2610: UserWarning: reduction: 'mean' divides the total loss by both the batch size and the support size.'batchmean' divides only by the batch size, and aligns with the KL div math definition.'mean' will be changed to behave the same as 'batchmean' in the next major release.\n",
      "  warnings.warn(\n"
     ]
    },
    {
     "name": "stdout",
     "output_type": "stream",
     "text": [
      "Epoch 278 Current LR 0.006\n",
      "Percent of estimated labels that have remained the same since end of phase 1 0.8683\n",
      "% y_tilde equal to noisy label 0.8683\n",
      "% y_tilde equal to true label 0.8962\n",
      "Train acc 0.828, Train auroc 0.972\n",
      "Val acc 0.857, Val auroc 0.985\n"
     ]
    },
    {
     "name": "stderr",
     "output_type": "stream",
     "text": [
      "C:\\Users\\Administrator\\anaconda3\\lib\\site-packages\\torch\\nn\\functional.py:2610: UserWarning: reduction: 'mean' divides the total loss by both the batch size and the support size.'batchmean' divides only by the batch size, and aligns with the KL div math definition.'mean' will be changed to behave the same as 'batchmean' in the next major release.\n",
      "  warnings.warn(\n"
     ]
    },
    {
     "name": "stdout",
     "output_type": "stream",
     "text": [
      "Epoch 279 Current LR 0.006\n",
      "Percent of estimated labels that have remained the same since end of phase 1 0.8683\n",
      "% y_tilde equal to noisy label 0.8683\n",
      "% y_tilde equal to true label 0.8962\n",
      "Train acc 0.829, Train auroc 0.972\n",
      "Val acc 0.848, Val auroc 0.985\n"
     ]
    },
    {
     "name": "stderr",
     "output_type": "stream",
     "text": [
      "C:\\Users\\Administrator\\anaconda3\\lib\\site-packages\\torch\\nn\\functional.py:2610: UserWarning: reduction: 'mean' divides the total loss by both the batch size and the support size.'batchmean' divides only by the batch size, and aligns with the KL div math definition.'mean' will be changed to behave the same as 'batchmean' in the next major release.\n",
      "  warnings.warn(\n"
     ]
    },
    {
     "name": "stdout",
     "output_type": "stream",
     "text": [
      "Epoch 280 Current LR 0.0006\n",
      "Percent of estimated labels that have remained the same since end of phase 1 0.8683\n",
      "% y_tilde equal to noisy label 0.8683\n",
      "% y_tilde equal to true label 0.8962\n",
      "Train acc 0.831, Train auroc 0.972\n",
      "Val acc 0.860, Val auroc 0.986\n"
     ]
    },
    {
     "name": "stderr",
     "output_type": "stream",
     "text": [
      "C:\\Users\\Administrator\\anaconda3\\lib\\site-packages\\torch\\nn\\functional.py:2610: UserWarning: reduction: 'mean' divides the total loss by both the batch size and the support size.'batchmean' divides only by the batch size, and aligns with the KL div math definition.'mean' will be changed to behave the same as 'batchmean' in the next major release.\n",
      "  warnings.warn(\n"
     ]
    },
    {
     "name": "stdout",
     "output_type": "stream",
     "text": [
      "Epoch 281 Current LR 0.0006\n",
      "Percent of estimated labels that have remained the same since end of phase 1 0.8683\n",
      "% y_tilde equal to noisy label 0.8683\n",
      "% y_tilde equal to true label 0.8962\n",
      "Train acc 0.833, Train auroc 0.973\n",
      "Val acc 0.857, Val auroc 0.986\n"
     ]
    },
    {
     "name": "stderr",
     "output_type": "stream",
     "text": [
      "C:\\Users\\Administrator\\anaconda3\\lib\\site-packages\\torch\\nn\\functional.py:2610: UserWarning: reduction: 'mean' divides the total loss by both the batch size and the support size.'batchmean' divides only by the batch size, and aligns with the KL div math definition.'mean' will be changed to behave the same as 'batchmean' in the next major release.\n",
      "  warnings.warn(\n"
     ]
    },
    {
     "name": "stdout",
     "output_type": "stream",
     "text": [
      "Epoch 282 Current LR 0.0006\n",
      "Percent of estimated labels that have remained the same since end of phase 1 0.8683\n",
      "% y_tilde equal to noisy label 0.8683\n",
      "% y_tilde equal to true label 0.8962\n",
      "Train acc 0.835, Train auroc 0.973\n",
      "Val acc 0.856, Val auroc 0.986\n"
     ]
    },
    {
     "name": "stderr",
     "output_type": "stream",
     "text": [
      "C:\\Users\\Administrator\\anaconda3\\lib\\site-packages\\torch\\nn\\functional.py:2610: UserWarning: reduction: 'mean' divides the total loss by both the batch size and the support size.'batchmean' divides only by the batch size, and aligns with the KL div math definition.'mean' will be changed to behave the same as 'batchmean' in the next major release.\n",
      "  warnings.warn(\n"
     ]
    },
    {
     "name": "stdout",
     "output_type": "stream",
     "text": [
      "Epoch 283 Current LR 0.0006\n",
      "Percent of estimated labels that have remained the same since end of phase 1 0.8683\n",
      "% y_tilde equal to noisy label 0.8683\n",
      "% y_tilde equal to true label 0.8962\n",
      "Train acc 0.835, Train auroc 0.973\n",
      "Val acc 0.859, Val auroc 0.986\n"
     ]
    },
    {
     "name": "stderr",
     "output_type": "stream",
     "text": [
      "C:\\Users\\Administrator\\anaconda3\\lib\\site-packages\\torch\\nn\\functional.py:2610: UserWarning: reduction: 'mean' divides the total loss by both the batch size and the support size.'batchmean' divides only by the batch size, and aligns with the KL div math definition.'mean' will be changed to behave the same as 'batchmean' in the next major release.\n",
      "  warnings.warn(\n"
     ]
    },
    {
     "name": "stdout",
     "output_type": "stream",
     "text": [
      "Epoch 284 Current LR 0.0006\n",
      "Percent of estimated labels that have remained the same since end of phase 1 0.8683\n",
      "% y_tilde equal to noisy label 0.8683\n",
      "% y_tilde equal to true label 0.8962\n",
      "Train acc 0.836, Train auroc 0.973\n",
      "Val acc 0.857, Val auroc 0.986\n"
     ]
    },
    {
     "name": "stderr",
     "output_type": "stream",
     "text": [
      "C:\\Users\\Administrator\\anaconda3\\lib\\site-packages\\torch\\nn\\functional.py:2610: UserWarning: reduction: 'mean' divides the total loss by both the batch size and the support size.'batchmean' divides only by the batch size, and aligns with the KL div math definition.'mean' will be changed to behave the same as 'batchmean' in the next major release.\n",
      "  warnings.warn(\n"
     ]
    },
    {
     "name": "stdout",
     "output_type": "stream",
     "text": [
      "Epoch 285 Current LR 0.0006\n",
      "Percent of estimated labels that have remained the same since end of phase 1 0.8683\n",
      "% y_tilde equal to noisy label 0.8683\n",
      "% y_tilde equal to true label 0.8962\n",
      "Train acc 0.835, Train auroc 0.973\n",
      "Val acc 0.858, Val auroc 0.986\n"
     ]
    },
    {
     "name": "stderr",
     "output_type": "stream",
     "text": [
      "C:\\Users\\Administrator\\anaconda3\\lib\\site-packages\\torch\\nn\\functional.py:2610: UserWarning: reduction: 'mean' divides the total loss by both the batch size and the support size.'batchmean' divides only by the batch size, and aligns with the KL div math definition.'mean' will be changed to behave the same as 'batchmean' in the next major release.\n",
      "  warnings.warn(\n"
     ]
    },
    {
     "name": "stdout",
     "output_type": "stream",
     "text": [
      "Epoch 286 Current LR 0.0006\n",
      "Percent of estimated labels that have remained the same since end of phase 1 0.8683\n",
      "% y_tilde equal to noisy label 0.8683\n",
      "% y_tilde equal to true label 0.8962\n",
      "Train acc 0.835, Train auroc 0.973\n",
      "Val acc 0.858, Val auroc 0.986\n"
     ]
    },
    {
     "name": "stderr",
     "output_type": "stream",
     "text": [
      "C:\\Users\\Administrator\\anaconda3\\lib\\site-packages\\torch\\nn\\functional.py:2610: UserWarning: reduction: 'mean' divides the total loss by both the batch size and the support size.'batchmean' divides only by the batch size, and aligns with the KL div math definition.'mean' will be changed to behave the same as 'batchmean' in the next major release.\n",
      "  warnings.warn(\n"
     ]
    },
    {
     "name": "stdout",
     "output_type": "stream",
     "text": [
      "Epoch 287 Current LR 0.0006\n",
      "Percent of estimated labels that have remained the same since end of phase 1 0.8683\n",
      "% y_tilde equal to noisy label 0.8683\n",
      "% y_tilde equal to true label 0.8962\n",
      "Train acc 0.835, Train auroc 0.973\n",
      "Val acc 0.858, Val auroc 0.986\n"
     ]
    },
    {
     "name": "stderr",
     "output_type": "stream",
     "text": [
      "C:\\Users\\Administrator\\anaconda3\\lib\\site-packages\\torch\\nn\\functional.py:2610: UserWarning: reduction: 'mean' divides the total loss by both the batch size and the support size.'batchmean' divides only by the batch size, and aligns with the KL div math definition.'mean' will be changed to behave the same as 'batchmean' in the next major release.\n",
      "  warnings.warn(\n"
     ]
    },
    {
     "name": "stdout",
     "output_type": "stream",
     "text": [
      "Epoch 288 Current LR 0.0006\n",
      "Percent of estimated labels that have remained the same since end of phase 1 0.8683\n",
      "% y_tilde equal to noisy label 0.8683\n",
      "% y_tilde equal to true label 0.8962\n",
      "Train acc 0.835, Train auroc 0.973\n",
      "Val acc 0.860, Val auroc 0.987\n"
     ]
    },
    {
     "name": "stderr",
     "output_type": "stream",
     "text": [
      "C:\\Users\\Administrator\\anaconda3\\lib\\site-packages\\torch\\nn\\functional.py:2610: UserWarning: reduction: 'mean' divides the total loss by both the batch size and the support size.'batchmean' divides only by the batch size, and aligns with the KL div math definition.'mean' will be changed to behave the same as 'batchmean' in the next major release.\n",
      "  warnings.warn(\n"
     ]
    },
    {
     "name": "stdout",
     "output_type": "stream",
     "text": [
      "Epoch 289 Current LR 0.0006\n",
      "Percent of estimated labels that have remained the same since end of phase 1 0.8683\n",
      "% y_tilde equal to noisy label 0.8683\n",
      "% y_tilde equal to true label 0.8962\n",
      "Train acc 0.835, Train auroc 0.973\n",
      "Val acc 0.858, Val auroc 0.987\n"
     ]
    },
    {
     "name": "stderr",
     "output_type": "stream",
     "text": [
      "C:\\Users\\Administrator\\anaconda3\\lib\\site-packages\\torch\\nn\\functional.py:2610: UserWarning: reduction: 'mean' divides the total loss by both the batch size and the support size.'batchmean' divides only by the batch size, and aligns with the KL div math definition.'mean' will be changed to behave the same as 'batchmean' in the next major release.\n",
      "  warnings.warn(\n"
     ]
    },
    {
     "name": "stdout",
     "output_type": "stream",
     "text": [
      "Epoch 290 Current LR 0.0006\n",
      "Percent of estimated labels that have remained the same since end of phase 1 0.8683\n",
      "% y_tilde equal to noisy label 0.8683\n",
      "% y_tilde equal to true label 0.8962\n",
      "Train acc 0.837, Train auroc 0.973\n",
      "Val acc 0.861, Val auroc 0.986\n"
     ]
    },
    {
     "name": "stderr",
     "output_type": "stream",
     "text": [
      "C:\\Users\\Administrator\\anaconda3\\lib\\site-packages\\torch\\nn\\functional.py:2610: UserWarning: reduction: 'mean' divides the total loss by both the batch size and the support size.'batchmean' divides only by the batch size, and aligns with the KL div math definition.'mean' will be changed to behave the same as 'batchmean' in the next major release.\n",
      "  warnings.warn(\n"
     ]
    },
    {
     "name": "stdout",
     "output_type": "stream",
     "text": [
      "Epoch 291 Current LR 0.0006\n",
      "Percent of estimated labels that have remained the same since end of phase 1 0.8683\n",
      "% y_tilde equal to noisy label 0.8683\n",
      "% y_tilde equal to true label 0.8962\n",
      "Train acc 0.836, Train auroc 0.973\n",
      "Val acc 0.860, Val auroc 0.987\n"
     ]
    },
    {
     "name": "stderr",
     "output_type": "stream",
     "text": [
      "C:\\Users\\Administrator\\anaconda3\\lib\\site-packages\\torch\\nn\\functional.py:2610: UserWarning: reduction: 'mean' divides the total loss by both the batch size and the support size.'batchmean' divides only by the batch size, and aligns with the KL div math definition.'mean' will be changed to behave the same as 'batchmean' in the next major release.\n",
      "  warnings.warn(\n"
     ]
    },
    {
     "name": "stdout",
     "output_type": "stream",
     "text": [
      "Epoch 292 Current LR 0.0006\n",
      "Percent of estimated labels that have remained the same since end of phase 1 0.8683\n",
      "% y_tilde equal to noisy label 0.8683\n",
      "% y_tilde equal to true label 0.8962\n",
      "Train acc 0.835, Train auroc 0.973\n",
      "Val acc 0.860, Val auroc 0.986\n"
     ]
    },
    {
     "name": "stderr",
     "output_type": "stream",
     "text": [
      "C:\\Users\\Administrator\\anaconda3\\lib\\site-packages\\torch\\nn\\functional.py:2610: UserWarning: reduction: 'mean' divides the total loss by both the batch size and the support size.'batchmean' divides only by the batch size, and aligns with the KL div math definition.'mean' will be changed to behave the same as 'batchmean' in the next major release.\n",
      "  warnings.warn(\n"
     ]
    },
    {
     "name": "stdout",
     "output_type": "stream",
     "text": [
      "Epoch 293 Current LR 0.0006\n",
      "Percent of estimated labels that have remained the same since end of phase 1 0.8683\n",
      "% y_tilde equal to noisy label 0.8683\n",
      "% y_tilde equal to true label 0.8962\n",
      "Train acc 0.836, Train auroc 0.973\n",
      "Val acc 0.859, Val auroc 0.987\n"
     ]
    },
    {
     "name": "stderr",
     "output_type": "stream",
     "text": [
      "C:\\Users\\Administrator\\anaconda3\\lib\\site-packages\\torch\\nn\\functional.py:2610: UserWarning: reduction: 'mean' divides the total loss by both the batch size and the support size.'batchmean' divides only by the batch size, and aligns with the KL div math definition.'mean' will be changed to behave the same as 'batchmean' in the next major release.\n",
      "  warnings.warn(\n"
     ]
    },
    {
     "name": "stdout",
     "output_type": "stream",
     "text": [
      "Epoch 294 Current LR 0.0006\n",
      "Percent of estimated labels that have remained the same since end of phase 1 0.8683\n",
      "% y_tilde equal to noisy label 0.8683\n",
      "% y_tilde equal to true label 0.8962\n",
      "Train acc 0.836, Train auroc 0.973\n",
      "Val acc 0.860, Val auroc 0.986\n"
     ]
    },
    {
     "name": "stderr",
     "output_type": "stream",
     "text": [
      "C:\\Users\\Administrator\\anaconda3\\lib\\site-packages\\torch\\nn\\functional.py:2610: UserWarning: reduction: 'mean' divides the total loss by both the batch size and the support size.'batchmean' divides only by the batch size, and aligns with the KL div math definition.'mean' will be changed to behave the same as 'batchmean' in the next major release.\n",
      "  warnings.warn(\n"
     ]
    },
    {
     "name": "stdout",
     "output_type": "stream",
     "text": [
      "Epoch 295 Current LR 0.0006\n",
      "Percent of estimated labels that have remained the same since end of phase 1 0.8683\n",
      "% y_tilde equal to noisy label 0.8683\n",
      "% y_tilde equal to true label 0.8962\n",
      "Train acc 0.835, Train auroc 0.973\n",
      "Val acc 0.860, Val auroc 0.987\n"
     ]
    },
    {
     "name": "stderr",
     "output_type": "stream",
     "text": [
      "C:\\Users\\Administrator\\anaconda3\\lib\\site-packages\\torch\\nn\\functional.py:2610: UserWarning: reduction: 'mean' divides the total loss by both the batch size and the support size.'batchmean' divides only by the batch size, and aligns with the KL div math definition.'mean' will be changed to behave the same as 'batchmean' in the next major release.\n",
      "  warnings.warn(\n"
     ]
    },
    {
     "name": "stdout",
     "output_type": "stream",
     "text": [
      "Epoch 296 Current LR 0.0006\n",
      "Percent of estimated labels that have remained the same since end of phase 1 0.8683\n",
      "% y_tilde equal to noisy label 0.8683\n",
      "% y_tilde equal to true label 0.8962\n",
      "Train acc 0.838, Train auroc 0.973\n",
      "Val acc 0.861, Val auroc 0.987\n"
     ]
    },
    {
     "name": "stderr",
     "output_type": "stream",
     "text": [
      "C:\\Users\\Administrator\\anaconda3\\lib\\site-packages\\torch\\nn\\functional.py:2610: UserWarning: reduction: 'mean' divides the total loss by both the batch size and the support size.'batchmean' divides only by the batch size, and aligns with the KL div math definition.'mean' will be changed to behave the same as 'batchmean' in the next major release.\n",
      "  warnings.warn(\n"
     ]
    },
    {
     "name": "stdout",
     "output_type": "stream",
     "text": [
      "Epoch 297 Current LR 0.0006\n",
      "Percent of estimated labels that have remained the same since end of phase 1 0.8683\n",
      "% y_tilde equal to noisy label 0.8683\n",
      "% y_tilde equal to true label 0.8962\n",
      "Train acc 0.838, Train auroc 0.973\n",
      "Val acc 0.858, Val auroc 0.986\n"
     ]
    },
    {
     "name": "stderr",
     "output_type": "stream",
     "text": [
      "C:\\Users\\Administrator\\anaconda3\\lib\\site-packages\\torch\\nn\\functional.py:2610: UserWarning: reduction: 'mean' divides the total loss by both the batch size and the support size.'batchmean' divides only by the batch size, and aligns with the KL div math definition.'mean' will be changed to behave the same as 'batchmean' in the next major release.\n",
      "  warnings.warn(\n"
     ]
    },
    {
     "name": "stdout",
     "output_type": "stream",
     "text": [
      "Epoch 298 Current LR 0.0006\n",
      "Percent of estimated labels that have remained the same since end of phase 1 0.8683\n",
      "% y_tilde equal to noisy label 0.8683\n",
      "% y_tilde equal to true label 0.8962\n",
      "Train acc 0.836, Train auroc 0.973\n",
      "Val acc 0.859, Val auroc 0.987\n"
     ]
    },
    {
     "name": "stderr",
     "output_type": "stream",
     "text": [
      "C:\\Users\\Administrator\\anaconda3\\lib\\site-packages\\torch\\nn\\functional.py:2610: UserWarning: reduction: 'mean' divides the total loss by both the batch size and the support size.'batchmean' divides only by the batch size, and aligns with the KL div math definition.'mean' will be changed to behave the same as 'batchmean' in the next major release.\n",
      "  warnings.warn(\n"
     ]
    },
    {
     "name": "stdout",
     "output_type": "stream",
     "text": [
      "Epoch 299 Current LR 0.0006\n",
      "Percent of estimated labels that have remained the same since end of phase 1 0.8683\n",
      "% y_tilde equal to noisy label 0.8683\n",
      "% y_tilde equal to true label 0.8962\n",
      "Train acc 0.837, Train auroc 0.973\n",
      "Val acc 0.862, Val auroc 0.987\n"
     ]
    },
    {
     "name": "stderr",
     "output_type": "stream",
     "text": [
      "C:\\Users\\Administrator\\anaconda3\\lib\\site-packages\\torch\\nn\\functional.py:2610: UserWarning: reduction: 'mean' divides the total loss by both the batch size and the support size.'batchmean' divides only by the batch size, and aligns with the KL div math definition.'mean' will be changed to behave the same as 'batchmean' in the next major release.\n",
      "  warnings.warn(\n"
     ]
    },
    {
     "name": "stdout",
     "output_type": "stream",
     "text": [
      "Epoch 300 Current LR 0.0006\n",
      "Percent of estimated labels that have remained the same since end of phase 1 0.8683\n",
      "% y_tilde equal to noisy label 0.8683\n",
      "% y_tilde equal to true label 0.8962\n",
      "Train acc 0.836, Train auroc 0.973\n",
      "Val acc 0.861, Val auroc 0.987\n"
     ]
    },
    {
     "name": "stderr",
     "output_type": "stream",
     "text": [
      "C:\\Users\\Administrator\\anaconda3\\lib\\site-packages\\torch\\nn\\functional.py:2610: UserWarning: reduction: 'mean' divides the total loss by both the batch size and the support size.'batchmean' divides only by the batch size, and aligns with the KL div math definition.'mean' will be changed to behave the same as 'batchmean' in the next major release.\n",
      "  warnings.warn(\n"
     ]
    },
    {
     "name": "stdout",
     "output_type": "stream",
     "text": [
      "Epoch 301 Current LR 0.0006\n",
      "Percent of estimated labels that have remained the same since end of phase 1 0.8683\n",
      "% y_tilde equal to noisy label 0.8683\n",
      "% y_tilde equal to true label 0.8962\n",
      "Train acc 0.838, Train auroc 0.974\n",
      "Val acc 0.861, Val auroc 0.987\n"
     ]
    },
    {
     "name": "stderr",
     "output_type": "stream",
     "text": [
      "C:\\Users\\Administrator\\anaconda3\\lib\\site-packages\\torch\\nn\\functional.py:2610: UserWarning: reduction: 'mean' divides the total loss by both the batch size and the support size.'batchmean' divides only by the batch size, and aligns with the KL div math definition.'mean' will be changed to behave the same as 'batchmean' in the next major release.\n",
      "  warnings.warn(\n"
     ]
    },
    {
     "name": "stdout",
     "output_type": "stream",
     "text": [
      "Epoch 302 Current LR 0.0006\n",
      "Percent of estimated labels that have remained the same since end of phase 1 0.8683\n",
      "% y_tilde equal to noisy label 0.8683\n",
      "% y_tilde equal to true label 0.8962\n",
      "Train acc 0.837, Train auroc 0.974\n",
      "Val acc 0.861, Val auroc 0.987\n"
     ]
    },
    {
     "name": "stderr",
     "output_type": "stream",
     "text": [
      "C:\\Users\\Administrator\\anaconda3\\lib\\site-packages\\torch\\nn\\functional.py:2610: UserWarning: reduction: 'mean' divides the total loss by both the batch size and the support size.'batchmean' divides only by the batch size, and aligns with the KL div math definition.'mean' will be changed to behave the same as 'batchmean' in the next major release.\n",
      "  warnings.warn(\n"
     ]
    },
    {
     "name": "stdout",
     "output_type": "stream",
     "text": [
      "Epoch 303 Current LR 0.0006\n",
      "Percent of estimated labels that have remained the same since end of phase 1 0.8683\n",
      "% y_tilde equal to noisy label 0.8683\n",
      "% y_tilde equal to true label 0.8962\n",
      "Train acc 0.837, Train auroc 0.974\n",
      "Val acc 0.859, Val auroc 0.987\n"
     ]
    },
    {
     "name": "stderr",
     "output_type": "stream",
     "text": [
      "C:\\Users\\Administrator\\anaconda3\\lib\\site-packages\\torch\\nn\\functional.py:2610: UserWarning: reduction: 'mean' divides the total loss by both the batch size and the support size.'batchmean' divides only by the batch size, and aligns with the KL div math definition.'mean' will be changed to behave the same as 'batchmean' in the next major release.\n",
      "  warnings.warn(\n"
     ]
    },
    {
     "name": "stdout",
     "output_type": "stream",
     "text": [
      "Epoch 304 Current LR 0.0006\n",
      "Percent of estimated labels that have remained the same since end of phase 1 0.8683\n",
      "% y_tilde equal to noisy label 0.8683\n",
      "% y_tilde equal to true label 0.8962\n",
      "Train acc 0.838, Train auroc 0.973\n",
      "Val acc 0.860, Val auroc 0.987\n"
     ]
    },
    {
     "name": "stderr",
     "output_type": "stream",
     "text": [
      "C:\\Users\\Administrator\\anaconda3\\lib\\site-packages\\torch\\nn\\functional.py:2610: UserWarning: reduction: 'mean' divides the total loss by both the batch size and the support size.'batchmean' divides only by the batch size, and aligns with the KL div math definition.'mean' will be changed to behave the same as 'batchmean' in the next major release.\n",
      "  warnings.warn(\n"
     ]
    },
    {
     "name": "stdout",
     "output_type": "stream",
     "text": [
      "Epoch 305 Current LR 0.0006\n",
      "Percent of estimated labels that have remained the same since end of phase 1 0.8683\n",
      "% y_tilde equal to noisy label 0.8683\n",
      "% y_tilde equal to true label 0.8962\n",
      "Train acc 0.838, Train auroc 0.973\n",
      "Val acc 0.860, Val auroc 0.987\n"
     ]
    },
    {
     "name": "stderr",
     "output_type": "stream",
     "text": [
      "C:\\Users\\Administrator\\anaconda3\\lib\\site-packages\\torch\\nn\\functional.py:2610: UserWarning: reduction: 'mean' divides the total loss by both the batch size and the support size.'batchmean' divides only by the batch size, and aligns with the KL div math definition.'mean' will be changed to behave the same as 'batchmean' in the next major release.\n",
      "  warnings.warn(\n"
     ]
    },
    {
     "name": "stdout",
     "output_type": "stream",
     "text": [
      "Epoch 306 Current LR 0.0006\n",
      "Percent of estimated labels that have remained the same since end of phase 1 0.8683\n",
      "% y_tilde equal to noisy label 0.8683\n",
      "% y_tilde equal to true label 0.8962\n",
      "Train acc 0.838, Train auroc 0.974\n",
      "Val acc 0.861, Val auroc 0.987\n"
     ]
    },
    {
     "name": "stderr",
     "output_type": "stream",
     "text": [
      "C:\\Users\\Administrator\\anaconda3\\lib\\site-packages\\torch\\nn\\functional.py:2610: UserWarning: reduction: 'mean' divides the total loss by both the batch size and the support size.'batchmean' divides only by the batch size, and aligns with the KL div math definition.'mean' will be changed to behave the same as 'batchmean' in the next major release.\n",
      "  warnings.warn(\n"
     ]
    },
    {
     "name": "stdout",
     "output_type": "stream",
     "text": [
      "Epoch 307 Current LR 0.0006\n",
      "Percent of estimated labels that have remained the same since end of phase 1 0.8683\n",
      "% y_tilde equal to noisy label 0.8683\n",
      "% y_tilde equal to true label 0.8962\n",
      "Train acc 0.838, Train auroc 0.974\n",
      "Val acc 0.860, Val auroc 0.987\n"
     ]
    },
    {
     "name": "stderr",
     "output_type": "stream",
     "text": [
      "C:\\Users\\Administrator\\anaconda3\\lib\\site-packages\\torch\\nn\\functional.py:2610: UserWarning: reduction: 'mean' divides the total loss by both the batch size and the support size.'batchmean' divides only by the batch size, and aligns with the KL div math definition.'mean' will be changed to behave the same as 'batchmean' in the next major release.\n",
      "  warnings.warn(\n"
     ]
    },
    {
     "name": "stdout",
     "output_type": "stream",
     "text": [
      "Epoch 308 Current LR 0.0006\n",
      "Percent of estimated labels that have remained the same since end of phase 1 0.8683\n",
      "% y_tilde equal to noisy label 0.8683\n",
      "% y_tilde equal to true label 0.8962\n",
      "Train acc 0.838, Train auroc 0.974\n",
      "Val acc 0.858, Val auroc 0.987\n"
     ]
    },
    {
     "name": "stderr",
     "output_type": "stream",
     "text": [
      "C:\\Users\\Administrator\\anaconda3\\lib\\site-packages\\torch\\nn\\functional.py:2610: UserWarning: reduction: 'mean' divides the total loss by both the batch size and the support size.'batchmean' divides only by the batch size, and aligns with the KL div math definition.'mean' will be changed to behave the same as 'batchmean' in the next major release.\n",
      "  warnings.warn(\n"
     ]
    },
    {
     "name": "stdout",
     "output_type": "stream",
     "text": [
      "Epoch 309 Current LR 0.0006\n",
      "Percent of estimated labels that have remained the same since end of phase 1 0.8683\n",
      "% y_tilde equal to noisy label 0.8683\n",
      "% y_tilde equal to true label 0.8962\n",
      "Train acc 0.838, Train auroc 0.974\n",
      "Val acc 0.857, Val auroc 0.986\n"
     ]
    },
    {
     "name": "stderr",
     "output_type": "stream",
     "text": [
      "C:\\Users\\Administrator\\anaconda3\\lib\\site-packages\\torch\\nn\\functional.py:2610: UserWarning: reduction: 'mean' divides the total loss by both the batch size and the support size.'batchmean' divides only by the batch size, and aligns with the KL div math definition.'mean' will be changed to behave the same as 'batchmean' in the next major release.\n",
      "  warnings.warn(\n"
     ]
    },
    {
     "name": "stdout",
     "output_type": "stream",
     "text": [
      "Epoch 310 Current LR 0.0006\n",
      "Percent of estimated labels that have remained the same since end of phase 1 0.8683\n",
      "% y_tilde equal to noisy label 0.8683\n",
      "% y_tilde equal to true label 0.8962\n",
      "Train acc 0.838, Train auroc 0.973\n",
      "Val acc 0.859, Val auroc 0.987\n"
     ]
    },
    {
     "name": "stderr",
     "output_type": "stream",
     "text": [
      "C:\\Users\\Administrator\\anaconda3\\lib\\site-packages\\torch\\nn\\functional.py:2610: UserWarning: reduction: 'mean' divides the total loss by both the batch size and the support size.'batchmean' divides only by the batch size, and aligns with the KL div math definition.'mean' will be changed to behave the same as 'batchmean' in the next major release.\n",
      "  warnings.warn(\n"
     ]
    },
    {
     "name": "stdout",
     "output_type": "stream",
     "text": [
      "Epoch 311 Current LR 0.0006\n",
      "Percent of estimated labels that have remained the same since end of phase 1 0.8683\n",
      "% y_tilde equal to noisy label 0.8683\n",
      "% y_tilde equal to true label 0.8962\n",
      "Train acc 0.838, Train auroc 0.974\n",
      "Val acc 0.859, Val auroc 0.987\n"
     ]
    },
    {
     "name": "stderr",
     "output_type": "stream",
     "text": [
      "C:\\Users\\Administrator\\anaconda3\\lib\\site-packages\\torch\\nn\\functional.py:2610: UserWarning: reduction: 'mean' divides the total loss by both the batch size and the support size.'batchmean' divides only by the batch size, and aligns with the KL div math definition.'mean' will be changed to behave the same as 'batchmean' in the next major release.\n",
      "  warnings.warn(\n"
     ]
    },
    {
     "name": "stdout",
     "output_type": "stream",
     "text": [
      "Epoch 312 Current LR 0.0006\n",
      "Percent of estimated labels that have remained the same since end of phase 1 0.8683\n",
      "% y_tilde equal to noisy label 0.8683\n",
      "% y_tilde equal to true label 0.8962\n",
      "Train acc 0.838, Train auroc 0.974\n",
      "Val acc 0.861, Val auroc 0.987\n"
     ]
    },
    {
     "name": "stderr",
     "output_type": "stream",
     "text": [
      "C:\\Users\\Administrator\\anaconda3\\lib\\site-packages\\torch\\nn\\functional.py:2610: UserWarning: reduction: 'mean' divides the total loss by both the batch size and the support size.'batchmean' divides only by the batch size, and aligns with the KL div math definition.'mean' will be changed to behave the same as 'batchmean' in the next major release.\n",
      "  warnings.warn(\n"
     ]
    },
    {
     "name": "stdout",
     "output_type": "stream",
     "text": [
      "Epoch 313 Current LR 0.0006\n",
      "Percent of estimated labels that have remained the same since end of phase 1 0.8683\n",
      "% y_tilde equal to noisy label 0.8683\n",
      "% y_tilde equal to true label 0.8962\n",
      "Train acc 0.839, Train auroc 0.974\n",
      "Val acc 0.859, Val auroc 0.987\n"
     ]
    },
    {
     "name": "stderr",
     "output_type": "stream",
     "text": [
      "C:\\Users\\Administrator\\anaconda3\\lib\\site-packages\\torch\\nn\\functional.py:2610: UserWarning: reduction: 'mean' divides the total loss by both the batch size and the support size.'batchmean' divides only by the batch size, and aligns with the KL div math definition.'mean' will be changed to behave the same as 'batchmean' in the next major release.\n",
      "  warnings.warn(\n"
     ]
    },
    {
     "name": "stdout",
     "output_type": "stream",
     "text": [
      "Epoch 314 Current LR 0.0006\n",
      "Percent of estimated labels that have remained the same since end of phase 1 0.8683\n",
      "% y_tilde equal to noisy label 0.8683\n",
      "% y_tilde equal to true label 0.8962\n",
      "Train acc 0.838, Train auroc 0.974\n",
      "Val acc 0.862, Val auroc 0.987\n"
     ]
    },
    {
     "name": "stderr",
     "output_type": "stream",
     "text": [
      "C:\\Users\\Administrator\\anaconda3\\lib\\site-packages\\torch\\nn\\functional.py:2610: UserWarning: reduction: 'mean' divides the total loss by both the batch size and the support size.'batchmean' divides only by the batch size, and aligns with the KL div math definition.'mean' will be changed to behave the same as 'batchmean' in the next major release.\n",
      "  warnings.warn(\n"
     ]
    },
    {
     "name": "stdout",
     "output_type": "stream",
     "text": [
      "Epoch 315 Current LR 0.0006\n",
      "Percent of estimated labels that have remained the same since end of phase 1 0.8683\n",
      "% y_tilde equal to noisy label 0.8683\n",
      "% y_tilde equal to true label 0.8962\n",
      "Train acc 0.838, Train auroc 0.974\n",
      "Val acc 0.860, Val auroc 0.987\n"
     ]
    },
    {
     "name": "stderr",
     "output_type": "stream",
     "text": [
      "C:\\Users\\Administrator\\anaconda3\\lib\\site-packages\\torch\\nn\\functional.py:2610: UserWarning: reduction: 'mean' divides the total loss by both the batch size and the support size.'batchmean' divides only by the batch size, and aligns with the KL div math definition.'mean' will be changed to behave the same as 'batchmean' in the next major release.\n",
      "  warnings.warn(\n"
     ]
    },
    {
     "name": "stdout",
     "output_type": "stream",
     "text": [
      "Epoch 316 Current LR 0.0006\n",
      "Percent of estimated labels that have remained the same since end of phase 1 0.8683\n",
      "% y_tilde equal to noisy label 0.8683\n",
      "% y_tilde equal to true label 0.8962\n",
      "Train acc 0.839, Train auroc 0.974\n",
      "Val acc 0.858, Val auroc 0.986\n"
     ]
    },
    {
     "name": "stderr",
     "output_type": "stream",
     "text": [
      "C:\\Users\\Administrator\\anaconda3\\lib\\site-packages\\torch\\nn\\functional.py:2610: UserWarning: reduction: 'mean' divides the total loss by both the batch size and the support size.'batchmean' divides only by the batch size, and aligns with the KL div math definition.'mean' will be changed to behave the same as 'batchmean' in the next major release.\n",
      "  warnings.warn(\n"
     ]
    },
    {
     "name": "stdout",
     "output_type": "stream",
     "text": [
      "Epoch 317 Current LR 0.0006\n",
      "Percent of estimated labels that have remained the same since end of phase 1 0.8683\n",
      "% y_tilde equal to noisy label 0.8683\n",
      "% y_tilde equal to true label 0.8962\n",
      "Train acc 0.840, Train auroc 0.973\n",
      "Val acc 0.861, Val auroc 0.987\n"
     ]
    },
    {
     "name": "stderr",
     "output_type": "stream",
     "text": [
      "C:\\Users\\Administrator\\anaconda3\\lib\\site-packages\\torch\\nn\\functional.py:2610: UserWarning: reduction: 'mean' divides the total loss by both the batch size and the support size.'batchmean' divides only by the batch size, and aligns with the KL div math definition.'mean' will be changed to behave the same as 'batchmean' in the next major release.\n",
      "  warnings.warn(\n"
     ]
    },
    {
     "name": "stdout",
     "output_type": "stream",
     "text": [
      "Epoch 318 Current LR 0.0006\n",
      "Percent of estimated labels that have remained the same since end of phase 1 0.8683\n",
      "% y_tilde equal to noisy label 0.8683\n",
      "% y_tilde equal to true label 0.8962\n",
      "Train acc 0.839, Train auroc 0.974\n",
      "Val acc 0.858, Val auroc 0.987\n"
     ]
    },
    {
     "name": "stderr",
     "output_type": "stream",
     "text": [
      "C:\\Users\\Administrator\\anaconda3\\lib\\site-packages\\torch\\nn\\functional.py:2610: UserWarning: reduction: 'mean' divides the total loss by both the batch size and the support size.'batchmean' divides only by the batch size, and aligns with the KL div math definition.'mean' will be changed to behave the same as 'batchmean' in the next major release.\n",
      "  warnings.warn(\n"
     ]
    },
    {
     "name": "stdout",
     "output_type": "stream",
     "text": [
      "Epoch 319 Current LR 0.0006\n",
      "Percent of estimated labels that have remained the same since end of phase 1 0.8683\n",
      "% y_tilde equal to noisy label 0.8683\n",
      "% y_tilde equal to true label 0.8962\n",
      "Train acc 0.839, Train auroc 0.973\n",
      "Val acc 0.861, Val auroc 0.987\n"
     ]
    }
   ],
   "source": [
    "from resnet import resnet32\n",
    "from cifar import get_cifar10\n",
    "import utils \n",
    "import pencil as pencil_lib\n",
    "\n",
    "import torchvision.transforms as transforms\n",
    "import torch\n",
    "import torch.optim as optim\n",
    "import torch.nn as nn\n",
    "from scipy.special import softmax\n",
    "\n",
    "import copy as cp\n",
    "import os\n",
    "import pickle\n",
    "import numpy as np\n",
    "\n",
    "# os.environ[\"CUDA_DEVICE_ORDER\"] = \"PCI_BUS_ID\"\n",
    "# os.environ[\"CUDA_VISIBLE_DEVICES\"] = \"2\"\n",
    "device = torch.device(\"cuda:0\" if torch.cuda.is_available() else \"cpu\")\n",
    "print(torch.cuda.is_available())\n",
    "if True: # Define hyper parameters\n",
    "    epochs = 320\n",
    "    batch_size = 128\n",
    "    lr = 0.06\n",
    "    momentum = 0.9\n",
    "    weight_decay = 10e-4\n",
    "    n_classes = 10\n",
    "    pencil_epochs = [70, 130, 120]\n",
    "    pencil_lrs = [0.06, 0.06, 0.06]\n",
    "    pencil_alpha, pencil_beta, pencil_gamma = 0.1, 0.4, 600\n",
    "    pencil_KL = True\n",
    "    pencil_K = 10\n",
    "    checkpoint = 5\n",
    "    start_epoch = 0\n",
    "    seed = 1\n",
    "    train_ratio = 0.9\n",
    "    asym_noise = True\n",
    "    noise_ratio = 0.1\n",
    "    temp_path = 'PATH_HERE'\n",
    "    cifar_path = './data'\n",
    "\n",
    "if True: # Define dataset and transforms\n",
    "    transform_train = transforms.Compose([\n",
    "        transforms.RandomCrop(32, padding=4),\n",
    "        transforms.RandomHorizontalFlip(),\n",
    "        transforms.ToTensor(),\n",
    "        transforms.Normalize((0.4914, 0.4822, 0.4465), (0.2023, 0.1994, 0.2010)),\n",
    "    ])\n",
    "    transform_val = transforms.Compose([\n",
    "        transforms.ToTensor(),\n",
    "        transforms.Normalize((0.4914, 0.4822, 0.4465), (0.2023, 0.1994, 0.2010)),\n",
    "    ])\n",
    "    np.random.seed(seed)\n",
    "    trainset, valset = get_cifar10(cifar_path, train_ratio=train_ratio, asym=asym_noise, percent=noise_ratio, train=True, download=False, transform_train=transform_train,\n",
    "                                               transform_val=transform_val)\n",
    "    if start_epoch==0: # \n",
    "        print('trainset',len(trainset))\n",
    "        trainloader = torch.utils.data.DataLoader(trainset, batch_size=batch_size, shuffle=True, num_workers=4)\n",
    "        valloader = torch.utils.data.DataLoader(valset, batch_size=batch_size, shuffle=False, num_workers=4)\n",
    "######### Model checkpointing commented out\n",
    "        with open(temp_path+\"trainloader\"+\".pkl\", \"wb\") as file:\n",
    "            pickle.dump(trainloader,file)\n",
    "        with open(temp_path+\"valloader\"+\".pkl\", \"wb\") as file:\n",
    "            pickle.dump(valloader,file)\n",
    "    else: \n",
    "        with open(temp_path+\"trainloader\"+\".pkl\", \"rb\") as file:\n",
    "            trainloader = pickle.load(file)\n",
    "        with open(temp_path+\"valloader\"+\".pkl\", \"rb\") as file:\n",
    "            valloader = pickle.load(file)\n",
    "\n",
    "if True: # Define Model and optimizer\n",
    "\n",
    "    # Model\n",
    "    print(\"==> creating preact_resnet\")\n",
    "    model = resnet32()\n",
    "    model = model.to(device)\n",
    "    print('Total params: %.2fM' % (sum(p.numel() for p in model.parameters()) / 1000000.0))\n",
    "    criterion = nn.CrossEntropyLoss()\n",
    "    optimizer = optim.SGD(model.parameters(), lr=lr, momentum=momentum, weight_decay=weight_decay)\n",
    "\n",
    "if True: # Define dict for storing results\n",
    "    results = {'train':None,'val':None}\n",
    "    metrics = ['acc','auprc','auroc','loss']\n",
    "    for subset in results.keys(): \n",
    "        results[subset] = {metric:[] for metric in metrics}\n",
    "\n",
    "    results['pencil_labels'], results['labels'], results['true_labels'] = [], [], []\n",
    "    results['pencil_label_drift'], results['pencil_label_correct'] = [], []\n",
    "\n",
    "    for i in range(len(trainset)): \n",
    "\n",
    "        item = trainset.__getitem__(i)\n",
    "        results['labels'].append(item[1])\n",
    "        results['true_labels'].append(item[3])\n",
    "\n",
    "if True: # Define PENCIL\n",
    "    pencil = pencil_lib.PENCIL(torch.tensor(results['labels']), len(trainset), n_classes, pencil_epochs, pencil_lrs, \n",
    "                                               pencil_alpha, pencil_beta, pencil_gamma, save_losses=True, use_KL=pencil_KL, K=pencil_K)\n",
    "\n",
    "########## Model checkpointing commented out\n",
    "if start_epoch>0: # Load checkpoint data\n",
    "    model.load_state_dict(torch.load(temp_path+'epoch'+str(start_epoch)))\n",
    "    with open(temp_path+\"results\"+str(start_epoch)+\".pkl\", \"rb\") as file:\n",
    "        results = pickle.load(file)\n",
    "    with open(temp_path+\"pencil\"+str(start_epoch)+\".pkl\", \"rb\") as file:\n",
    "        pencil = pickle.load(file)\n",
    "    pencil.alpha=pencil_alpha\n",
    "    pencil.beta=pencil_beta\n",
    "\n",
    "for epoch in range(start_epoch,epochs):\n",
    "    if True: # Train \n",
    "        pencil.set_lr(optimizer, epoch)\n",
    "        model.train()\n",
    "        preds, label_list = [], []\n",
    "\n",
    "        if epoch in pencil_epochs: results['pencil_labels'].append(cp.deepcopy(pencil.y_tilde))\n",
    "\n",
    "        for batch_idx, (inputs, labels, inds, gtrue_labels) in enumerate(trainloader):\n",
    "#             print('e')\n",
    "            inputs, labels = inputs.to(device), labels.to(device, dtype= torch.int64)\n",
    "            outputs = model(inputs)\n",
    "            loss = pencil.get_loss(epoch, outputs, labels, inds)\n",
    "            optimizer.zero_grad()\n",
    "            loss.backward()\n",
    "            optimizer.step()\n",
    "            pencil.update_y_tilde(epoch, inds)\n",
    "            preds.append(outputs.detach())\n",
    "            label_list.append(labels.cpu())\n",
    "\n",
    "        label_list = np.vstack(torch.cat(label_list).numpy())\n",
    "        preds = softmax(np.vstack(torch.cat(preds).cpu().numpy()), axis=1)\n",
    "        train_results = utils.get_performance_metrics(num_classes=n_classes,preds=preds,label_list=label_list)\n",
    "        for result in train_results.keys():\n",
    "            results['train'][result].append(train_results[result])\n",
    "        label_drift = round(sum(results['labels']==np.argmax(pencil.y_tilde,axis=1))/len(results['labels']),4)\n",
    "        label_true_corr = round(sum(results['true_labels']==np.argmax(pencil.y_tilde,axis=1))/len(results['true_labels']),4)\n",
    "        results['pencil_label_drift'].append(label_drift)\n",
    "        results['pencil_label_correct'].append(label_true_corr)\n",
    "\n",
    "    if True: # Val\n",
    "        model.eval()\n",
    "        val_preds, val_labels = [], []\n",
    "        with torch.no_grad():\n",
    "            for batch_idx, (inputs, labels) in enumerate(valloader):\n",
    "                inputs, labels = inputs.to(device), labels\n",
    "                outputs = model(inputs)\n",
    "                val_preds.append(outputs)\n",
    "                val_labels.append(labels)\n",
    "        val_labels = np.vstack(torch.cat(val_labels).numpy())\n",
    "        val_preds = softmax(np.vstack(torch.cat(val_preds).cpu().numpy()), axis=1)\n",
    "        val_results = utils.get_performance_metrics(num_classes=n_classes,preds=val_preds,label_list=val_labels)\n",
    "        for result in val_results.keys():\n",
    "            results['val'][result].append(val_results[result])\n",
    "\n",
    "    if True: # Print results \n",
    "        print('Epoch', epoch, 'Current LR', round(optimizer.param_groups[0]['lr'],5))\n",
    "        if epoch>=pencil_epochs[0]:\n",
    "            print('Percent of estimated labels that have remained the same since end of phase 1',round(sum(np.argmax(results['pencil_labels'][0],axis=1)==np.argmax(pencil.y_tilde,axis=1))/len(results['pencil_labels'][0]),4))\n",
    "        print('% y_tilde equal to noisy label',results['pencil_label_drift'][-1])\n",
    "        print('% y_tilde equal to true label',results['pencil_label_correct'][-1])\n",
    "        print('Train acc %.3f, Train auroc %.3f' % (results['train']['acc'][-1], results['train']['auroc'][-1]))\n",
    "        print('Val acc %.3f, Val auroc %.3f' % (results['val']['acc'][-1], results['val']['auroc'][-1]))                                                                 \n",
    "\n",
    "########## Model checkpointing commented out\n",
    "    if checkpoint!=None and (epoch%checkpoint==0 or epoch+1 in pencil_epochs): #Save model for this epoch\n",
    "        if epoch%checkpoint==0 and epoch>start_epoch+checkpoint: \n",
    "            os.remove(temp_path+'epoch'+str(epoch-checkpoint))\n",
    "            os.remove(temp_path+\"results\"+str(epoch-checkpoint)+\".pkl\")\n",
    "            os.remove(temp_path+\"pencil\"+str(epoch-checkpoint)+\".pkl\")\n",
    "        torch.save(model.state_dict(), temp_path+'epoch'+str(epoch))\n",
    "        with open(temp_path+\"results\"+str(epoch)+\".pkl\", \"wb\") as file:\n",
    "            pickle.dump(results,file)\n",
    "        with open(temp_path+\"pencil\"+str(epoch)+\".pkl\", \"wb\") as file:\n",
    "            pickle.dump(pencil,file)"
   ]
  },
  {
   "cell_type": "code",
   "execution_count": 15,
   "metadata": {},
   "outputs": [],
   "source": [
    "import torch\n",
    "import torch.nn as nn\n",
    "import torch.nn.functional as F\n",
    "import torchvision\n",
    "import torchvision.transforms as transforms\n",
    "import torch.optim as optim\n",
    "import time\n",
    "import os\n",
    "import numpy as np\n",
    "\n",
    "def test(model,device):\n",
    "        correct = 0\n",
    "        total = 0\n",
    "        with torch.no_grad():\n",
    "            for data in testloader:\n",
    "                images, labels = data\n",
    "                images, labels = images.to(device), labels.to(device)\n",
    "                outputs = model(images)\n",
    "                _, predicted = torch.max(outputs.data, 1)\n",
    "                total += labels.size(0)\n",
    "                correct += (predicted == labels).sum().item()\n",
    "\n",
    "        print('Accuracy of the network on the 10000 test images: %.3f %%' % (\n",
    "                100.0 * correct / total))\n",
    "\n",
    "transform_val = transforms.Compose([\n",
    "    transforms.ToTensor(),\n",
    "    transforms.Normalize((0.4914, 0.4822, 0.4465), (0.2023, 0.1994, 0.2010)),\n",
    "])\n",
    "\n",
    "testset = torchvision.datasets.CIFAR10(root='./data', train=False,\n",
    "                                       download=False, transform=transform_val)\n",
    "testloader = torch.utils.data.DataLoader(testset, batch_size=50,\n",
    "                                         shuffle=False, num_workers=2)\n",
    "\n",
    "classes = ('plane', 'car', 'bird', 'cat',\n",
    "           'deer', 'dog', 'frog', 'horse', 'ship', 'truck')"
   ]
  },
  {
   "cell_type": "code",
   "execution_count": 16,
   "metadata": {},
   "outputs": [
    {
     "name": "stdout",
     "output_type": "stream",
     "text": [
      "Accuracy of the network on the 10000 test images: 85.750 %\n"
     ]
    }
   ],
   "source": [
    "test(model,device)"
   ]
  },
  {
   "cell_type": "code",
   "execution_count": 26,
   "metadata": {},
   "outputs": [
    {
     "name": "stdout",
     "output_type": "stream",
     "text": [
      "[70, 130, 120]\n"
     ]
    }
   ],
   "source": [
    "######### Model checkpointing commented out\n",
    "print(pencil_epochs)\n",
    "if checkpoint!=None and (epoch%checkpoint==0 or epoch+1 in pencil_epochs): #Save model for this epoch\n",
    "    if epoch%checkpoint==0 and epoch>start_epoch+checkpoint: \n",
    "        os.remove(temp_path+'epoch'+str(epoch-checkpoint))\n",
    "        os.remove(temp_path+\"results\"+str(epoch-checkpoint)+\".pkl\")\n",
    "        os.remove(temp_path+\"pencil\"+str(epoch-checkpoint)+\".pkl\")\n",
    "    torch.save(model.state_dict(), temp_path+'epoch'+str(epoch))\n",
    "    with open(temp_path+\"results\"+str(epoch)+\".pkl\", \"wb\") as file:\n",
    "        pickle.dump(results,file)\n",
    "    with open(temp_path+\"pencil\"+str(epoch)+\".pkl\", \"wb\") as file:\n",
    "        pickle.dump(pencil,file)"
   ]
  },
  {
   "cell_type": "code",
   "execution_count": 1,
   "metadata": {},
   "outputs": [
    {
     "name": "stdout",
     "output_type": "stream",
     "text": [
      "<class 'list'>\n",
      "[3 3 4 ... 0 1 5]\n",
      "Train: 45000 Val: 5000\n"
     ]
    }
   ],
   "source": [
    "from resnet import resnet32\n",
    "from cifar import get_cifar10\n",
    "import utils \n",
    "import pencil as pencil_lib\n",
    "\n",
    "import torchvision.transforms as transforms\n",
    "import torch\n",
    "import torch.optim as optim\n",
    "import torch.nn as nn\n",
    "from scipy.special import softmax\n",
    "\n",
    "import copy as cp\n",
    "import os\n",
    "import pickle\n",
    "import numpy as np\n",
    "if True: # Define hyper parameters\n",
    "    epochs = 30\n",
    "    batch_size = 128\n",
    "    lr = 0.06\n",
    "    momentum = 0.9\n",
    "    weight_decay = 10e-4\n",
    "    n_classes = 10\n",
    "    pencil_epochs = [70, 130, 120]\n",
    "    pencil_lrs = [0.06, 0.06, 0.06]\n",
    "    pencil_alpha, pencil_beta, pencil_gamma = 0.1, 0.4, 600\n",
    "    pencil_KL = True\n",
    "    pencil_K = 10\n",
    "    checkpoint = 5\n",
    "    start_epoch = 0\n",
    "    seed = 1\n",
    "    train_ratio = 0.9\n",
    "    asym_noise = True\n",
    "    noise_ratio = 0.2\n",
    "    temp_path = 'PATH_HERE'\n",
    "    cifar_path = './data'\n",
    "if True: # Define dataset and transforms\n",
    "    transform_train = transforms.Compose([\n",
    "        transforms.RandomCrop(32, padding=4),\n",
    "        transforms.RandomHorizontalFlip(),\n",
    "        transforms.ToTensor(),\n",
    "        transforms.Normalize((0.4914, 0.4822, 0.4465), (0.2023, 0.1994, 0.2010)),\n",
    "    ])\n",
    "    transform_val = transforms.Compose([\n",
    "        transforms.ToTensor(),\n",
    "        transforms.Normalize((0.4914, 0.4822, 0.4465), (0.2023, 0.1994, 0.2010)),\n",
    "    ])\n",
    "    np.random.seed(seed)\n",
    "    trainset, valset = get_cifar10(cifar_path, train_ratio=train_ratio, asym=asym_noise, percent=noise_ratio, train=True, download=False, transform_train=transform_train,\n",
    "                                               transform_val=transform_val)"
   ]
  }
 ],
 "metadata": {
  "kernelspec": {
   "display_name": "Python 3",
   "language": "python",
   "name": "python3"
  },
  "language_info": {
   "codemirror_mode": {
    "name": "ipython",
    "version": 3
   },
   "file_extension": ".py",
   "mimetype": "text/x-python",
   "name": "python",
   "nbconvert_exporter": "python",
   "pygments_lexer": "ipython3",
   "version": "3.8.5"
  }
 },
 "nbformat": 4,
 "nbformat_minor": 2
}
